{
 "cells": [
  {
   "cell_type": "code",
   "execution_count": 1,
   "id": "52b9f1fd-8d09-4799-ae49-9cc8502452ef",
   "metadata": {
    "id": "52b9f1fd-8d09-4799-ae49-9cc8502452ef"
   },
   "outputs": [],
   "source": [
    "# Import necessary libraries\n",
    "import re\n",
    "import numpy as np\n",
    "import tensorflow as tf\n",
    "from sklearn.model_selection import train_test_split\n",
    "from tensorflow.keras.preprocessing.text import Tokenizer\n",
    "from tensorflow.keras.utils import to_categorical\n",
    "from tensorflow.keras.models import Sequential\n",
    "from tensorflow.keras.layers import Embedding, Dense, TimeDistributed, Dropout, LSTM\n",
    "import matplotlib.pyplot as plt\n",
    "import seaborn as sns\n",
    "from keras.utils import pad_sequences\n",
    "from gensim.models import Word2Vec\n"
   ]
  },
  {
   "cell_type": "code",
   "execution_count": 2,
   "id": "1L9SGbiNBKIQ",
   "metadata": {
    "colab": {
     "base_uri": "https://localhost:8080/"
    },
    "id": "1L9SGbiNBKIQ",
    "outputId": "bd68af2f-b66b-4691-e66c-87e3dd9d8a9f"
   },
   "outputs": [
    {
     "name": "stdout",
     "output_type": "stream",
     "text": [
      "Mounted at /content/drive\n"
     ]
    }
   ],
   "source": [
    "from google.colab import drive\n",
    "drive.mount('/content/drive')"
   ]
  },
  {
   "cell_type": "code",
   "execution_count": 3,
   "id": "JSr5BOq8DYfI",
   "metadata": {
    "id": "JSr5BOq8DYfI"
   },
   "outputs": [],
   "source": [
    "def parse_corpus(file_path):\n",
    "    \"\"\"Parse a single corpus file and return a list of word-tag tuples.\"\"\"\n",
    "    corpus = []\n",
    "    with open(file_path) as file:\n",
    "        for line in file:\n",
    "            # Remove trailing newline and unnecessary spaces\n",
    "            line = line.strip().replace(\" \", \"\")\n",
    "            words = re.split(r\"<.{2,4}>\", line)\n",
    "            tags = re.findall(r\"<.{2,4}>\", line)\n",
    "            # Pair words with their tags and clean up spaces\n",
    "            corpus.append([(word.strip(), tag[1:-1]) for word, tag in zip(words, tags)])\n",
    "    return corpus"
   ]
  },
  {
   "cell_type": "code",
   "execution_count": 4,
   "id": "4UNn7OcMbpbG",
   "metadata": {
    "id": "4UNn7OcMbpbG"
   },
   "outputs": [],
   "source": [
    "def load_corpus(last=False, test=2, all=False):\n",
    "    \"\"\"Load and parse corpus files based on the given flags.\"\"\"\n",
    "    corpus = []\n",
    "    file_paths = [\n",
    "        \"drive/MyDrive/Embeddings/Corpus/00ne_pos.txt\",\n",
    "        \"drive/MyDrive/Embeddings/Corpus/01ne_pos.txt\",\n",
    "        \"drive/MyDrive/Embeddings/Corpus/02ne_pos.txt\"\n",
    "    ]\n",
    "\n",
    "    # Determine which files to load based on flags\n",
    "    if all:\n",
    "        selected_files = file_paths\n",
    "    else:\n",
    "        selected_files = [\n",
    "            file_paths[0] if (last and test == 0) or (not last and test != 0) else None,\n",
    "            file_paths[1] if (last and test == 2) or (not last and test != 2) else None,\n",
    "            file_paths[2] if (last and test == 1) or (not last and test != 1) else None,\n",
    "        ]\n",
    "        # Filter out None values\n",
    "        selected_files = [path for path in selected_files if path]\n",
    "\n",
    "    # Parse the selected files\n",
    "    for file_path in selected_files:\n",
    "        corpus.extend(parse_corpus(file_path))\n",
    "\n",
    "    return corpus"
   ]
  },
  {
   "cell_type": "code",
   "execution_count": 5,
   "id": "8o4KI1o0DYVv",
   "metadata": {
    "colab": {
     "base_uri": "https://localhost:8080/"
    },
    "id": "8o4KI1o0DYVv",
    "outputId": "0d9e2e5d-e4a3-44a8-a55a-f58ebf53dea4"
   },
   "outputs": [
    {
     "data": {
      "text/plain": [
       "[[('६१', 'CD'),\n",
       "  ('वर्षीय', 'JJ'),\n",
       "  ('पियरे', 'NNP'),\n",
       "  ('भिन्केन', 'NNP'),\n",
       "  ('नोभेम्बर', 'NNP'),\n",
       "  ('२९', 'CD'),\n",
       "  ('बाट', 'POP'),\n",
       "  ('सल्लाहकार', 'NN'),\n",
       "  ('को', 'PKO'),\n",
       "  ('रूप', 'NN'),\n",
       "  ('मा', 'POP'),\n",
       "  ('सञ्चालक', 'NN'),\n",
       "  ('समिति', 'NN'),\n",
       "  ('मा', 'POP'),\n",
       "  ('आउनुहुनेछ', 'VBX'),\n",
       "  ('।', 'YF')],\n",
       " [('श्री', 'NN'),\n",
       "  ('भिन्केन', 'NNP'),\n",
       "  ('डच', 'NNP'),\n",
       "  ('प्रकाशन', 'NN'),\n",
       "  ('समूह', 'NN'),\n",
       "  ('एल्सेभियर', 'NNP'),\n",
       "  ('एन.भी.', 'FB'),\n",
       "  ('को', 'PKO'),\n",
       "  ('अध्यक्ष', 'NN'),\n",
       "  ('हुनुहुन्छ', 'VBF'),\n",
       "  ('।', 'YF')]]"
      ]
     },
     "execution_count": 5,
     "metadata": {},
     "output_type": "execute_result"
    }
   ],
   "source": [
    "tagged_sentences = load_corpus(all=True)\n",
    "tagged_sentences[:2]"
   ]
  },
  {
   "cell_type": "markdown",
   "id": "NML3ZwBk6Lo0",
   "metadata": {
    "id": "NML3ZwBk6Lo0"
   },
   "source": [
    "# Divide data in words (X) and tags (Y)\n",
    "Since this is a many-to-many problem each data point will be a different sentence of the corpora. Each data point will have multiple words in the input sequence. This is what we will refer to as X.\n",
    "Each word will have its corresponding tag in output sequence. This is what we refer to as Y.\n",
    "\n",
    "Sample Dataset:\n",
    "\n",
    "| X                                   | Y                              |\n",
    "|-------------------------------------|--------------------------------|\n",
    "| श्री विन्केन एल्सेभियरका अध्यक्ष हुन्।         | NOUN NOUN NOUN NOUN VERB PUNCT |\n",
    "| हामीसँग कुनै उपयोगी जानकारी छैन।        |PRON ADP DET ADJ NOUN VERB PUNCT|\n",
    "\n",
    "\n"
   ]
  },
  {
   "cell_type": "code",
   "execution_count": 6,
   "id": "UJMfLqWV1Ccg",
   "metadata": {
    "id": "UJMfLqWV1Ccg"
   },
   "outputs": [],
   "source": [
    "X = []\n",
    "Y= []\n",
    "for sentence in tagged_sentences:\n",
    "    X_sentence = []\n",
    "    Y_sentence = []\n",
    "    for entity in sentence:\n",
    "        X_sentence.append(entity[0])\n",
    "        Y_sentence.append(entity[1])\n",
    "    X.append(X_sentence)\n",
    "    Y.append(Y_sentence)"
   ]
  },
  {
   "cell_type": "code",
   "execution_count": 7,
   "id": "ZDDoTBCF1Xje",
   "metadata": {
    "colab": {
     "base_uri": "https://localhost:8080/"
    },
    "id": "ZDDoTBCF1Xje",
    "outputId": "2b2a8205-ea0e-45f1-b794-82171668dde9"
   },
   "outputs": [
    {
     "data": {
      "text/plain": [
       "[['६१',\n",
       "  'वर्षीय',\n",
       "  'पियरे',\n",
       "  'भिन्केन',\n",
       "  'नोभेम्बर',\n",
       "  '२९',\n",
       "  'बाट',\n",
       "  'सल्लाहकार',\n",
       "  'को',\n",
       "  'रूप',\n",
       "  'मा',\n",
       "  'सञ्चालक',\n",
       "  'समिति',\n",
       "  'मा',\n",
       "  'आउनुहुनेछ',\n",
       "  '।'],\n",
       " ['श्री',\n",
       "  'भिन्केन',\n",
       "  'डच',\n",
       "  'प्रकाशन',\n",
       "  'समूह',\n",
       "  'एल्सेभियर',\n",
       "  'एन.भी.',\n",
       "  'को',\n",
       "  'अध्यक्ष',\n",
       "  'हुनुहुन्छ',\n",
       "  '।']]"
      ]
     },
     "execution_count": 7,
     "metadata": {},
     "output_type": "execute_result"
    }
   ],
   "source": [
    "X[:2]"
   ]
  },
  {
   "cell_type": "code",
   "execution_count": 8,
   "id": "C_hdJ0D91CVr",
   "metadata": {
    "id": "C_hdJ0D91CVr"
   },
   "outputs": [],
   "source": [
    "num_words = len(set([word for sentence in X for word in sentence]))\n",
    "num_tags = len(set([word for sentence in Y for word in sentence]))"
   ]
  },
  {
   "cell_type": "code",
   "execution_count": 9,
   "id": "X3hVWJUx1CMz",
   "metadata": {
    "colab": {
     "base_uri": "https://localhost:8080/"
    },
    "id": "X3hVWJUx1CMz",
    "outputId": "6c85ffb6-8636-4df7-d151-61b939b0aaf3"
   },
   "outputs": [
    {
     "name": "stdout",
     "output_type": "stream",
     "text": [
      "Tagged sentences:4291\n",
      "Vocabulary Size:12645\n",
      "Unique POS tags:40\n"
     ]
    }
   ],
   "source": [
    "print(\"Tagged sentences:{}\".format(len(X)))\n",
    "print(\"Vocabulary Size:{}\".format(num_words))\n",
    "print(\"Unique POS tags:{}\".format(num_tags))"
   ]
  },
  {
   "cell_type": "code",
   "execution_count": 10,
   "id": "ft31nF723o2V",
   "metadata": {
    "colab": {
     "base_uri": "https://localhost:8080/"
    },
    "id": "ft31nF723o2V",
    "outputId": "15c7c04d-32ae-4a7f-a85c-2be79c5d1848"
   },
   "outputs": [
    {
     "name": "stdout",
     "output_type": "stream",
     "text": [
      "Unique POS tags:\n",
      "{'PPR', 'SYM', 'PLAI', 'RP', 'VBI', 'VBX', 'ALPH', 'CD', 'CS', 'JJ', 'PLE', 'VBF', 'VBNE', 'FW', 'PKO', 'JJD', 'CL', 'PP$', 'FB', 'YM', 'NNP', 'CC', 'DM', 'NNp', 'RBM', 'JJM', 'UNW', 'RBO', 'NN', 'YB', 'VBO', 'VBKO', 'YF', 'POP', 'YQ', 'PP', 'HRU', 'OD', 'QW', 'DUM'}\n"
     ]
    }
   ],
   "source": [
    "# Extract all unique POS tags\n",
    "pos_tags = set(tag for sentence in Y for tag in sentence)\n",
    "\n",
    "# Print the list of unique POS tags\n",
    "print(\"Unique POS tags:\")\n",
    "print(pos_tags)"
   ]
  },
  {
   "cell_type": "code",
   "execution_count": 11,
   "id": "TiR_Cddu2sA4",
   "metadata": {
    "colab": {
     "base_uri": "https://localhost:8080/"
    },
    "id": "TiR_Cddu2sA4",
    "outputId": "b06b7965-5766-4723-d826-a885eb8acdad"
   },
   "outputs": [
    {
     "name": "stdout",
     "output_type": "stream",
     "text": [
      "sample X: ['श्री', 'भिन्केन', 'डच', 'प्रकाशन', 'समूह', 'एल्सेभियर', 'एन.भी.', 'को', 'अध्यक्ष', 'हुनुहुन्छ', '।'] \n",
      "\n",
      "sample Y: ['NN', 'NNP', 'NNP', 'NN', 'NN', 'NNP', 'FB', 'PKO', 'NN', 'VBF', 'YF'] \n",
      "\n"
     ]
    }
   ],
   "source": [
    "print('sample X:', X[1], '\\n')\n",
    "print('sample Y:', Y[1], '\\n')"
   ]
  },
  {
   "cell_type": "code",
   "execution_count": 12,
   "id": "zylQ2V8F2rzK",
   "metadata": {
    "colab": {
     "base_uri": "https://localhost:8080/"
    },
    "id": "zylQ2V8F2rzK",
    "outputId": "0295f64b-6a05-42a7-8ad4-48a1441afec5"
   },
   "outputs": [
    {
     "name": "stdout",
     "output_type": "stream",
     "text": [
      "Length of first input sentence:16\n",
      "Length of first output sentence:16\n"
     ]
    }
   ],
   "source": [
    "print(\"Length of first input sentence:{}\".format(len(X[0])))\n",
    "print(\"Length of first output sentence:{}\".format(len(Y[0])))"
   ]
  },
  {
   "cell_type": "markdown",
   "id": "LBIgB1-78Mto",
   "metadata": {
    "id": "LBIgB1-78Mto"
   },
   "source": [
    "# Vectorize X and Y\n",
    "\n",
    "**Encode X and Y to integer values**\n",
    "\n",
    "We'll use the the Tokenizer() function from Keras library to encode text sequence to integer sequence"
   ]
  },
  {
   "cell_type": "code",
   "execution_count": 13,
   "id": "zPNJnXQr2rQ6",
   "metadata": {
    "id": "zPNJnXQr2rQ6"
   },
   "outputs": [],
   "source": [
    "# Encode X\n",
    "# Instantiate tokenizer\n",
    "word_tokenizer = Tokenizer()\n",
    "# Fit the tokenizer on data\n",
    "word_tokenizer.fit_on_texts(X)\n",
    "# Use the tokenizer to encode input sequences\n",
    "X_encoded = word_tokenizer.texts_to_sequences(X)"
   ]
  },
  {
   "cell_type": "code",
   "execution_count": 14,
   "id": "e_gkG8Rl3Rto",
   "metadata": {
    "id": "e_gkG8Rl3Rto"
   },
   "outputs": [],
   "source": [
    "# Encode Y\n",
    "tag_tokenizer = Tokenizer()\n",
    "tag_tokenizer.fit_on_texts(Y)\n",
    "Y_encoded = tag_tokenizer.texts_to_sequences(Y)"
   ]
  },
  {
   "cell_type": "code",
   "execution_count": 15,
   "id": "6xKoiXsy3feQ",
   "metadata": {
    "colab": {
     "base_uri": "https://localhost:8080/"
    },
    "id": "6xKoiXsy3feQ",
    "outputId": "fd9089f4-e3b5-4d7a-bac6-acc7080335e8"
   },
   "outputs": [
    {
     "name": "stdout",
     "output_type": "stream",
     "text": [
      "** Raw data point ** \n",
      " ---------------------------------------------------------------------------------------------------- \n",
      "\n",
      "X : ['६१', 'वर्षीय', 'पियरे', 'भिन्केन', 'नोभेम्बर', '२९', 'बाट', 'सल्लाहकार', 'को', 'रूप', 'मा', 'सञ्चालक', 'समिति', 'मा', 'आउनुहुनेछ', '।'] \n",
      "\n",
      "Y : ['CD', 'JJ', 'NNP', 'NNP', 'NNP', 'CD', 'POP', 'NN', 'PKO', 'NN', 'POP', 'NN', 'NN', 'POP', 'VBX', 'YF'] \n",
      "\n",
      "** Encoded data point ** \n",
      " ---------------------------------------------------------------------------------------------------- \n",
      "\n",
      "X : [22, 3834, 2989, 451, 191, 5642, 2470, 1, 142, 658, 2] \n",
      "\n",
      "Y : [1, 3, 3, 1, 1, 3, 29, 5, 1, 9, 6] \n",
      "\n"
     ]
    }
   ],
   "source": [
    "# Look at first encoded data point\n",
    "print (\"** Raw data point **\" , \"\\n\", \"-\"*100, \"\\n\")\n",
    "print ('X :', X[0], '\\n')\n",
    "print ('Y :', Y[0], '\\n')\n",
    "print (\"** Encoded data point **\" , \"\\n\", \"-\"*100, \"\\n\")\n",
    "print ('X :', X_encoded[1], '\\n')\n",
    "print ('Y :', Y_encoded[1], '\\n')"
   ]
  },
  {
   "cell_type": "code",
   "execution_count": 16,
   "id": "46BpNfsV4Mjh",
   "metadata": {
    "colab": {
     "base_uri": "https://localhost:8080/"
    },
    "id": "46BpNfsV4Mjh",
    "outputId": "9d449c97-445a-4085-b172-a293a23e9b5a"
   },
   "outputs": [
    {
     "name": "stdout",
     "output_type": "stream",
     "text": [
      "0 sentences have different input-output length.\n"
     ]
    }
   ],
   "source": [
    "# Make sure that each sequence of input and outpur is same length\n",
    "different_length = [1 if len(input) != len(output) else 0 for input, output in zip(X_encoded, Y_encoded)]\n",
    "print(\"{} sentences have different input-output length.\".format(sum(different_length)))"
   ]
  },
  {
   "cell_type": "markdown",
   "id": "bGAZza_u9hDG",
   "metadata": {
    "id": "bGAZza_u9hDG"
   },
   "source": [
    "# Pad Sequences\n",
    "The next step after encoding the data is to define the sequence lengths. As of now, the sentences present in the data are of various lengths. We need to either pad short sentences or truncate long sentences to a fixed length. This fixed length,however, is a hyperparameter.\n",
    "Our model will learn the zero to zero mapping while training. So we don't need to worry about the padded zeroes. Please note that zero is not reserved for any word or tag, it's only reserved for padding."
   ]
  },
  {
   "cell_type": "code",
   "execution_count": 17,
   "id": "HhhxkwPO4MUR",
   "metadata": {
    "colab": {
     "base_uri": "https://localhost:8080/"
    },
    "id": "HhhxkwPO4MUR",
    "outputId": "74dceaee-e37e-443d-bc15-1a1468120653"
   },
   "outputs": [
    {
     "name": "stdout",
     "output_type": "stream",
     "text": [
      "Length of longest sentence:259\n"
     ]
    }
   ],
   "source": [
    "# Check length of longest sentence\n",
    "lengths = [len(seq) for seq in X]\n",
    "print(\"Length of longest sentence:{}\".format(max(lengths)))"
   ]
  },
  {
   "cell_type": "code",
   "execution_count": 18,
   "id": "ohWUiiow4qjL",
   "metadata": {
    "colab": {
     "base_uri": "https://localhost:8080/",
     "height": 432
    },
    "id": "ohWUiiow4qjL",
    "outputId": "ea630df6-e894-4831-8996-e149954d6ee5"
   },
   "outputs": [
    {
     "data": {
      "image/png": "[encoded data removed]",
      "text/plain": [
       "<Figure size 640x480 with 1 Axes>"
      ]
     },
     "metadata": {},
     "output_type": "display_data"
    }
   ],
   "source": [
    "sns.boxplot(lengths)\n",
    "plt.show()"
   ]
  },
  {
   "cell_type": "code",
   "execution_count": 19,
   "id": "RMzuMXHs4qY0",
   "metadata": {
    "id": "RMzuMXHs4qY0"
   },
   "outputs": [],
   "source": [
    "# Pad each sequence to MAX_SEO_LENGTH using KERAS pad_sequences() function.\n",
    "# Sentences longer than MAX_SEQ_LENGTH are truncated.\n",
    "# Sentences shorter than MAX_SEQ_LENGTH are padded with zeroes.\n",
    "# Truncation and padding can either be 'pre' or 'post'.\n",
    "# For padding we are using 'pre' padding type, that is, add zeroes on the left side.\n",
    "# For truncation, we are using 'post', that is, truncate a sentence from right side.\n",
    "\n",
    "MAX_SEQ_LENGTH = 100\n",
    "\n",
    "X_padded = pad_sequences(X_encoded, maxlen=MAX_SEQ_LENGTH, padding=\"pre\", truncating=\"post\")\n",
    "Y_padded = pad_sequences(Y_encoded, maxlen=MAX_SEQ_LENGTH, padding=\"pre\", truncating=\"post\")"
   ]
  },
  {
   "cell_type": "code",
   "execution_count": 20,
   "id": "2COiSIEc4qRD",
   "metadata": {
    "colab": {
     "base_uri": "https://localhost:8080/"
    },
    "id": "2COiSIEc4qRD",
    "outputId": "c1c92e0c-fd9e-48d8-a68c-7ab26750668e"
   },
   "outputs": [
    {
     "name": "stdout",
     "output_type": "stream",
     "text": [
      "[   0    0    0    0    0    0    0    0    0    0    0    0    0    0\n",
      "    0    0    0    0    0    0    0    0    0    0    0    0    0    0\n",
      "    0    0    0    0    0    0    0    0    0    0    0    0    0    0\n",
      "    0    0    0    0    0    0    0    0    0    0    0    0    0    0\n",
      "    0    0    0    0    0    0    0    0    0    0    0    0    0    0\n",
      "    0    0    0    0    0    0    0    0    0    0    0    0    0    0\n",
      " 2136  362 5640 3834  440 1881   16 1294    1   23    3  384  253    3\n",
      " 5641    2] \n",
      "\n",
      "\n",
      "\n",
      "[ 0  0  0  0  0  0  0  0  0  0  0  0  0  0  0  0  0  0  0  0  0  0  0  0\n",
      "  0  0  0  0  0  0  0  0  0  0  0  0  0  0  0  0  0  0  0  0  0  0  0  0\n",
      "  0  0  0  0  0  0  0  0  0  0  0  0  0  0  0  0  0  0  0  0  0  0  0  0\n",
      "  0  0  0  0  0  0  0  0  0  0  0  0  7  2  3  3  3  7  4  1  5  1  4  1\n",
      "  1  4 12  6]\n"
     ]
    }
   ],
   "source": [
    "# Print the first sequence\n",
    "print(X_padded[0], \"\\n\"*3)\n",
    "print(Y_padded[0])"
   ]
  },
  {
   "cell_type": "markdown",
   "id": "zuHo08k5ABPX",
   "metadata": {
    "id": "zuHo08k5ABPX"
   },
   "source": [
    "# Word embeddings\n",
    "Currently, each word and each tag is encoded as an integer.We'll use a more sophisticated technique to represent the input words (X) using what's known as word embeddings.\n",
    "However, to represent each tag in Y, we'll simply use one-hot encoding scheme since there are  40 tags in the dataset and the LSTM will have no problems in learning its own representation of these tags.\n",
    "To use word embeddings, you can go for either of the following models:\n",
    "1. word2vec model: https://github.com/nowalab/nepali-word-embeddings/tree/master/word2vec/\n",
    "2. GloVe model: https://github.com/nowalab/nepali-word-embeddings/tree/master/GloVe\n",
    "\n",
    "\n",
    "We're using the word2vec model for no particular reason. Both of these are very efficient in representing words.\n"
   ]
  },
  {
   "cell_type": "markdown",
   "id": "dksJS6wcAcSw",
   "metadata": {
    "id": "dksJS6wcAcSw"
   },
   "source": [
    "# Use word embeddings for input sequences (X)"
   ]
  },
  {
   "cell_type": "code",
   "execution_count": 21,
   "id": "MR105FOD6E0K",
   "metadata": {
    "id": "MR105FOD6E0K"
   },
   "outputs": [],
   "source": [
    "path = \"drive/MyDrive/Embeddings/Word2Vec/processed.word2vec\"\n",
    "\n",
    "# Load word2vec using the following function present in the gensim library\n",
    "word2vec = Word2Vec.load(path)\n"
   ]
  },
  {
   "cell_type": "code",
   "execution_count": 22,
   "id": "F_G6Z0CI6ny_",
   "metadata": {
    "colab": {
     "base_uri": "https://localhost:8080/"
    },
    "id": "F_G6Z0CI6ny_",
    "outputId": "d431bd7b-4029-434b-9f9c-1f87aaef24b8"
   },
   "outputs": [
    {
     "name": "stdout",
     "output_type": "stream",
     "text": [
      "[('राजाको', 0.6468404531478882), ('राजाले', 0.6298891305923462), ('राजालाई', 0.5801336765289307), ('महेन्द्रले', 0.546328604221344), ('राजाका', 0.5440725684165955), ('फिलिपकी', 0.52140212059021), ('रणउद्दीम', 0.5178545117378235), ('राजाकी', 0.5098111629486084), ('महारानी', 0.5070008039474487), ('मानदेवकी', 0.5051305294036865)]\n"
     ]
    }
   ],
   "source": [
    "# word2vec effectiveness\n",
    "result = word2vec.wv.most_similar(positive=[\"राजा\", \"महिला\"], negative=[\"पुरुष\"])\n",
    "print(result)\n"
   ]
  },
  {
   "cell_type": "code",
   "execution_count": 23,
   "id": "B_lh-Ihg6EtL",
   "metadata": {
    "id": "B_lh-Ihg6EtL"
   },
   "outputs": [],
   "source": [
    "# Assign word vectors from word2vec model\n",
    "EMBEDDING_SIZE = 300\n",
    "VOCABULARY_SIZE = len(word_tokenizer.word_index) + 1\n",
    "\n",
    "# Create and empty embedding matrix\n",
    "embedding_weights = np.zeros((VOCABULARY_SIZE, EMBEDDING_SIZE))\n",
    "\n",
    "# Create a word to index dictionary mapping\n",
    "word2id = word_tokenizer.word_index\n",
    "\n",
    "#Copy vectors from word2vec model to the words present in corpus\n",
    "for word, index in word2id.items():\n",
    "    try:\n",
    "        embedding_weights[index, :] = word2vec.wv[word]  # Access embeddings via `wv`\n",
    "    except KeyError:\n",
    "        pass  # Handle out-of-vocabulary words\n"
   ]
  },
  {
   "cell_type": "code",
   "execution_count": 24,
   "id": "f2H0jvVaC7UP",
   "metadata": {
    "colab": {
     "base_uri": "https://localhost:8080/"
    },
    "id": "f2H0jvVaC7UP",
    "outputId": "cd66dee3-20b9-4064-b69f-f66ec2fa7569"
   },
   "outputs": [
    {
     "name": "stdout",
     "output_type": "stream",
     "text": [
      "Embeddings shape: (12646, 300)\n"
     ]
    }
   ],
   "source": [
    "# Check the embedding dimension\n",
    "print(\"Embeddings shape: {}\".format(embedding_weights.shape))\n"
   ]
  },
  {
   "cell_type": "code",
   "execution_count": 25,
   "id": "akfCDDtu6Dzz",
   "metadata": {
    "colab": {
     "base_uri": "https://localhost:8080/"
    },
    "id": "akfCDDtu6Dzz",
    "outputId": "a3b37695-2845-42cc-e60c-eb881842f7b0"
   },
   "outputs": [
    {
     "data": {
      "text/plain": [
       "array([ 0.04083355,  0.23593064,  0.28475472,  0.11503232,  0.25943446,\n",
       "       -0.23135823, -0.10437825,  0.26695234,  0.08003192, -0.30883306,\n",
       "        0.01614969,  0.02189537, -0.48055565, -0.23360649, -0.44477177,\n",
       "       -0.1432004 ,  0.25189006, -0.28482932, -0.26014411, -0.25446996,\n",
       "       -0.40869224,  0.08365408, -0.15663801,  0.31087741,  0.29278758,\n",
       "        0.08653798,  0.3248117 ,  0.2907663 , -0.30399865, -0.08439567,\n",
       "       -0.20988937,  0.05578588,  0.11625833,  0.13775074, -0.23746043,\n",
       "        0.3023811 ,  0.22585902, -0.26003921,  0.08068053, -0.16115111,\n",
       "       -0.22514744, -0.26441222,  0.09793395,  0.00335018, -0.16286768,\n",
       "       -0.30327427,  0.33259848, -0.15772724,  0.19406173,  0.13061109,\n",
       "       -0.20779192, -0.46336558,  0.09737888,  0.12060964, -0.25046861,\n",
       "        0.48520747,  0.06264313,  0.11159532, -0.11655127,  0.44595695,\n",
       "       -0.21576834,  0.02705098,  0.06379355, -0.0562217 , -0.08947816,\n",
       "       -0.11207896, -0.33487532,  0.09557183,  0.11710393, -0.07280324,\n",
       "        0.03692582, -0.08099079,  0.0130723 ,  0.00690884,  0.0868534 ,\n",
       "        0.41579983, -0.17366908,  0.33023444, -0.08914772,  0.31633896,\n",
       "       -0.06494559, -0.12205491,  0.37228721, -0.11377079,  0.15197068,\n",
       "       -0.11235715, -0.2142916 ,  0.02731318, -0.12911198, -0.11961904,\n",
       "       -0.39775094,  0.13927631, -0.34104016,  0.30418155,  0.26821566,\n",
       "        0.54440993,  0.01195197,  0.06705981,  0.22117619, -0.07883915,\n",
       "        0.01220231,  0.14428762, -0.0978852 , -0.10408629,  0.01286558,\n",
       "       -0.50195646,  0.08771574,  0.43338746,  0.00334586, -0.01633652,\n",
       "       -0.3346436 ,  0.28532445,  0.35912809,  0.12095211, -0.01726634,\n",
       "       -0.18858983, -0.19427395,  0.19953389, -0.25425297,  0.25887546,\n",
       "        0.46147877,  0.19457448,  0.19034822, -0.28795889, -0.19836219,\n",
       "        0.34705696, -0.49275541, -0.19701812, -0.35539347,  0.00214312,\n",
       "       -0.08941706,  0.19165432, -0.23794235,  0.28979799,  0.12706465,\n",
       "       -0.22483678,  0.06462661, -0.30270627, -0.1931393 , -0.09630799,\n",
       "        0.52120006,  0.36397722, -0.10294819,  0.03164322, -0.17282134,\n",
       "       -0.1096928 , -0.16870731, -0.15828747,  0.23521735, -0.05995287,\n",
       "        0.31704414, -0.15842588, -0.12107079, -0.17374808, -0.05552637,\n",
       "        0.1361585 ,  0.43207198,  0.15397622,  0.34754318, -0.28341994,\n",
       "        0.26365685, -0.29950765,  0.06913021,  0.62363571, -0.17064631,\n",
       "       -0.32488996, -0.15547514,  0.1486927 , -0.08461174, -0.23832458,\n",
       "       -0.09480523,  0.45830479,  0.08961363, -0.18228865, -0.07480527,\n",
       "        0.38136372, -0.31120595,  0.10390271,  0.1879964 ,  0.03081075,\n",
       "       -0.10037772, -0.29690748, -0.08488568,  0.39512715,  0.1887359 ,\n",
       "       -0.24469431,  0.15179183,  0.1891963 , -0.41445485,  0.23765555,\n",
       "        0.05002457, -0.41998363,  0.14950252, -0.14678924,  0.04025609,\n",
       "        0.05835041,  0.19010313, -0.02265937, -0.07345024, -0.16668068,\n",
       "       -0.15009522, -0.00369241,  0.07668165,  0.09653094,  0.04290529,\n",
       "       -0.01173181,  0.32872227,  0.04531617, -0.17265573, -0.42053896,\n",
       "       -0.10470992, -0.22515763, -0.26976594, -0.25519451, -0.08640907,\n",
       "        0.19065042,  0.22339848,  0.26826054, -0.19449334,  0.21197788,\n",
       "       -0.22215593,  0.1980356 , -0.14984933,  0.23691188,  0.27753067,\n",
       "       -0.13990138, -0.14768787,  0.09502774,  0.32613081,  0.41468453,\n",
       "        0.27327025,  0.31385633,  0.01731134, -0.1066338 ,  0.39132422,\n",
       "       -0.39930096, -0.44686624,  0.17285033,  0.09132279,  0.2495437 ,\n",
       "        0.02620319, -0.22603914,  0.03131127,  0.13562661,  0.07980692,\n",
       "        0.02175069,  0.08097925, -0.58501834, -0.35090804, -0.09972164,\n",
       "        0.1985243 , -0.1569811 , -0.39562327, -0.20471786,  0.18722744,\n",
       "        0.25448987,  0.08955514,  0.08707561,  0.24560602,  0.16291642,\n",
       "        0.0988964 , -0.00840572,  0.09178458,  0.04931234, -0.35822433,\n",
       "       -0.09111586,  0.52388239, -0.25097117, -0.00171786,  0.14851707,\n",
       "       -0.13455915,  0.15731606,  0.01922195, -0.11376997, -0.30867893,\n",
       "        0.35400528, -0.01767627, -0.12550129,  0.15501493, -0.04720961,\n",
       "        0.01353984, -0.10592374,  0.02157156,  0.02478332, -0.25193605,\n",
       "       -0.19171654, -0.37118405, -0.01717861, -0.33314422, -0.44964013,\n",
       "       -0.17851189,  0.11485735, -0.052808  , -0.08409806, -0.05502502,\n",
       "        0.02844608, -0.0907155 , -0.4096221 , -0.10316331,  0.31853101])"
      ]
     },
     "execution_count": 25,
     "metadata": {},
     "output_type": "execute_result"
    }
   ],
   "source": [
    "# Let's look at the embedding of a word\n",
    "embedding_weights[word_tokenizer.word_index['कठोर']]"
   ]
  },
  {
   "cell_type": "markdown",
   "id": "qgLU1EKjDCyk",
   "metadata": {
    "id": "qgLU1EKjDCyk"
   },
   "source": [
    "# Use one-hot encoding for output sequences(Y_padded)"
   ]
  },
  {
   "cell_type": "code",
   "execution_count": 26,
   "id": "8lmWlcfWBI1L",
   "metadata": {
    "id": "8lmWlcfWBI1L"
   },
   "outputs": [],
   "source": [
    "# Using Keras to_categorical function to one-hot encode Y_padding\n",
    "Y_padded = tf.keras.utils.to_categorical(Y_padded)"
   ]
  },
  {
   "cell_type": "code",
   "execution_count": 27,
   "id": "wgr9uN6-BIxP",
   "metadata": {
    "colab": {
     "base_uri": "https://localhost:8080/"
    },
    "id": "wgr9uN6-BIxP",
    "outputId": "914d6f30-d5b7-4dcf-8ece-3ef194789c3a"
   },
   "outputs": [
    {
     "name": "stdout",
     "output_type": "stream",
     "text": [
      "(4291, 100, 40)\n"
     ]
    }
   ],
   "source": [
    "#print Y of the first output sequence\n",
    "print(Y_padded.shape)"
   ]
  },
  {
   "cell_type": "code",
   "execution_count": 28,
   "id": "pXPbzxVRDRjJ",
   "metadata": {
    "colab": {
     "base_uri": "https://localhost:8080/"
    },
    "id": "pXPbzxVRDRjJ",
    "outputId": "437d6620-f97f-4456-c7e5-b969b81f6acb"
   },
   "outputs": [
    {
     "data": {
      "text/plain": [
       "array([[[1., 0., 0., ..., 0., 0., 0.],\n",
       "        [1., 0., 0., ..., 0., 0., 0.],\n",
       "        [1., 0., 0., ..., 0., 0., 0.],\n",
       "        ...,\n",
       "        [0., 0., 0., ..., 0., 0., 0.],\n",
       "        [0., 0., 0., ..., 0., 0., 0.],\n",
       "        [0., 0., 0., ..., 0., 0., 0.]],\n",
       "\n",
       "       [[1., 0., 0., ..., 0., 0., 0.],\n",
       "        [1., 0., 0., ..., 0., 0., 0.],\n",
       "        [1., 0., 0., ..., 0., 0., 0.],\n",
       "        ...,\n",
       "        [0., 1., 0., ..., 0., 0., 0.],\n",
       "        [0., 0., 0., ..., 0., 0., 0.],\n",
       "        [0., 0., 0., ..., 0., 0., 0.]],\n",
       "\n",
       "       [[1., 0., 0., ..., 0., 0., 0.],\n",
       "        [1., 0., 0., ..., 0., 0., 0.],\n",
       "        [1., 0., 0., ..., 0., 0., 0.],\n",
       "        ...,\n",
       "        [0., 0., 0., ..., 0., 0., 0.],\n",
       "        [0., 0., 0., ..., 0., 0., 0.],\n",
       "        [0., 0., 0., ..., 0., 0., 0.]],\n",
       "\n",
       "       ...,\n",
       "\n",
       "       [[1., 0., 0., ..., 0., 0., 0.],\n",
       "        [1., 0., 0., ..., 0., 0., 0.],\n",
       "        [1., 0., 0., ..., 0., 0., 0.],\n",
       "        ...,\n",
       "        [0., 0., 1., ..., 0., 0., 0.],\n",
       "        [0., 0., 0., ..., 0., 0., 0.],\n",
       "        [0., 0., 0., ..., 0., 0., 0.]],\n",
       "\n",
       "       [[1., 0., 0., ..., 0., 0., 0.],\n",
       "        [1., 0., 0., ..., 0., 0., 0.],\n",
       "        [1., 0., 0., ..., 0., 0., 0.],\n",
       "        ...,\n",
       "        [0., 0., 1., ..., 0., 0., 0.],\n",
       "        [0., 0., 0., ..., 0., 0., 0.],\n",
       "        [0., 0., 0., ..., 0., 0., 0.]],\n",
       "\n",
       "       [[1., 0., 0., ..., 0., 0., 0.],\n",
       "        [1., 0., 0., ..., 0., 0., 0.],\n",
       "        [1., 0., 0., ..., 0., 0., 0.],\n",
       "        ...,\n",
       "        [0., 1., 0., ..., 0., 0., 0.],\n",
       "        [0., 0., 0., ..., 0., 0., 0.],\n",
       "        [0., 0., 0., ..., 0., 0., 0.]]])"
      ]
     },
     "execution_count": 28,
     "metadata": {},
     "output_type": "execute_result"
    }
   ],
   "source": [
    "Y_padded"
   ]
  },
  {
   "cell_type": "code",
   "execution_count": 29,
   "id": "q1Eo9bTlDRgZ",
   "metadata": {
    "colab": {
     "base_uri": "https://localhost:8080/"
    },
    "id": "q1Eo9bTlDRgZ",
    "outputId": "0b90174d-2746-4fdd-98d9-3bd6a02be797"
   },
   "outputs": [
    {
     "data": {
      "text/plain": [
       "array([[   0,    0,    0, ...,    3, 5641,    2],\n",
       "       [   0,    0,    0, ...,  142,  658,    2],\n",
       "       [   0,    0,    0, ...,   46,   30,    2],\n",
       "       ...,\n",
       "       [   0,    0,    0, ...,  202,   30,    2],\n",
       "       [   0,    0,    0, ...,  548,   10,    2],\n",
       "       [   0,    0,    0, ...,  117,  115,    2]], dtype=int32)"
      ]
     },
     "execution_count": 29,
     "metadata": {},
     "output_type": "execute_result"
    }
   ],
   "source": [
    "X_padded"
   ]
  },
  {
   "cell_type": "markdown",
   "id": "tEd5koFoDab8",
   "metadata": {
    "id": "tEd5koFoDab8"
   },
   "source": [
    "# Split data in training, validation and testing sets"
   ]
  },
  {
   "cell_type": "code",
   "execution_count": 30,
   "id": "Ywv-bWd6DRX8",
   "metadata": {
    "id": "Ywv-bWd6DRX8"
   },
   "outputs": [],
   "source": [
    "# Split data in training, validation and testing sets\n",
    "TEST_SIZE = 0.20\n",
    "X_train, X_test, Y_train, Y_test = train_test_split(X_padded, Y_padded, test_size=TEST_SIZE, random_state=42)"
   ]
  },
  {
   "cell_type": "code",
   "execution_count": 31,
   "id": "5THQSoVtFsMy",
   "metadata": {
    "id": "5THQSoVtFsMy"
   },
   "outputs": [],
   "source": [
    "# Split training data into training and validation sets\n",
    "VALID_SIZE = 0.20\n",
    "X_train, X_validation, Y_train, Y_validation = train_test_split(X_train, Y_train, test_size=VALID_SIZE, random_state=42)"
   ]
  },
  {
   "cell_type": "code",
   "execution_count": 32,
   "id": "NNSrt0nyDRLb",
   "metadata": {
    "colab": {
     "base_uri": "https://localhost:8080/"
    },
    "id": "NNSrt0nyDRLb",
    "outputId": "430e29c0-caec-4bac-b643-b342b7dfe582"
   },
   "outputs": [
    {
     "name": "stdout",
     "output_type": "stream",
     "text": [
      "TRAINING DATA\n",
      "Shape of input sequences :  (2745, 100)\n",
      "Shape of output sequences :  (2745, 100, 40)\n",
      "--------------------------------------------------\n",
      "TESTING DATA\n",
      "Shape of input sequences :  (859, 100)\n",
      "Shape of output sequences :  (859, 100, 40)\n",
      "--------------------------------------------------\n",
      "VALIDATION DATA\n",
      "Shape of input sequences :  (687, 100)\n",
      "Shape of output sequences :  (687, 100, 40)\n"
     ]
    }
   ],
   "source": [
    "# Print the number of samples in each set\n",
    "print(\"TRAINING DATA\")\n",
    "print(\"Shape of input sequences : \", X_train.shape)\n",
    "print(\"Shape of output sequences : \", Y_train.shape)\n",
    "print(\"-\"*50)\n",
    "print(\"TESTING DATA\")\n",
    "print(\"Shape of input sequences : \", X_test.shape)\n",
    "print(\"Shape of output sequences : \", Y_test.shape)\n",
    "print(\"-\"*50)\n",
    "print(\"VALIDATION DATA\")\n",
    "print(\"Shape of input sequences : \", X_validation.shape)\n",
    "print(\"Shape of output sequences : \", Y_validation.shape)"
   ]
  },
  {
   "cell_type": "markdown",
   "id": "KQ_6_ZIwEReI",
   "metadata": {
    "id": "KQ_6_ZIwEReI"
   },
   "source": [
    "Before using LSTM, we must make sure the dimensions of the data are what LSTM expects. In general, an LSTM expects the following shape\n",
    "\n",
    "Shape of X: (#samples, #timesteps, #features)\n",
    "\n",
    "Shape of Y: (#samples, #timesteps, #features)\n"
   ]
  },
  {
   "cell_type": "markdown",
   "id": "a38a4570-eace-4f71-8b3a-b9514eea83e3",
   "metadata": {},
   "source": [
    "### LSTM Model Architecture:\n",
    "\n",
    "1. **Embedding Layer**:\n",
    "   - Converts input tokens into dense vector representations.\n",
    "   - **Key Parameters**:  \n",
    "     - `input_dim=VOCABULARY_SIZE`: Vocabulary size.  \n",
    "     - `output_dim=EMBEDDING_SIZE`: Dimension of embedding vectors.  \n",
    "     - `input_length=MAX_SEQ_LENGTH`: Input sequence length.  \n",
    "     - `trainable=True`: Allows embeddings to be updated during training.  \n",
    "   - **Output Shape**: `(batch_size, MAX_SEQ_LENGTH, EMBEDDING_SIZE)`.\n",
    "\n",
    "2. **LSTM Layer**:\n",
    "   - Processes sequences and learns temporal patterns with 64 hidden units.\n",
    "   - **Key Parameter**:  \n",
    "     - `return_sequences=True`: Outputs hidden states for all time steps.  \n",
    "   - **Output Shape**: `(batch_size, MAX_SEQ_LENGTH, 64)`.\n",
    "\n",
    "3. **TimeDistributed Dense Layer**:\n",
    "   - Applies a dense layer to each time step for class probabilities.  \n",
    "   - **Key Parameters**:  \n",
    "     - `NUM_CLASSES`: Number of output classes.  \n",
    "     - `activation=\"softmax\"`: Converts outputs into probabilities.  \n",
    "   - **Output Shape**: `(batch_size, MAX_SEQ_LENGTH, NUM_CLASSES)`.\n",
    "\n",
    "This architecture captures temporal dependencies and outputs a class distribution for each time step.\n"
   ]
  },
  {
   "cell_type": "markdown",
   "id": "T9DjOldQFCH4",
   "metadata": {
    "id": "T9DjOldQFCH4"
   },
   "source": [
    "## Bare embeddings\n",
    "First let's try running a vanilla LSTM. For this LSTM we won't use the pre-trained word embeddings. We'll use randomly inititalised embeddings."
   ]
  },
  {
   "cell_type": "code",
   "execution_count": 33,
   "id": "KVrxXWuFBIuJ",
   "metadata": {
    "id": "KVrxXWuFBIuJ"
   },
   "outputs": [],
   "source": [
    "# Total number of classes\n",
    "NUM_CLASSES = Y_padded.shape[2]"
   ]
  },
  {
   "cell_type": "code",
   "execution_count": 34,
   "id": "i7Ef8GZ2GVCS",
   "metadata": {
    "colab": {
     "base_uri": "https://localhost:8080/"
    },
    "id": "i7Ef8GZ2GVCS",
    "outputId": "93da187b-3f08-4e5c-d2f0-d82d425ec667"
   },
   "outputs": [
    {
     "data": {
      "text/plain": [
       "40"
      ]
     },
     "execution_count": 34,
     "metadata": {},
     "output_type": "execute_result"
    }
   ],
   "source": [
    "NUM_CLASSES"
   ]
  },
  {
   "cell_type": "code",
   "execution_count": 35,
   "id": "5fh_YFAXIjs6",
   "metadata": {
    "colab": {
     "base_uri": "https://localhost:8080/"
    },
    "id": "5fh_YFAXIjs6",
    "outputId": "ebdd2816-7163-4140-8598-e2a52db4ab4e"
   },
   "outputs": [
    {
     "name": "stderr",
     "output_type": "stream",
     "text": [
      "/usr/local/lib/python3.10/dist-packages/keras/src/layers/core/embedding.py:90: UserWarning: Argument `input_length` is deprecated. Just remove it.\n",
      "  warnings.warn(\n"
     ]
    }
   ],
   "source": [
    "# Create architecture\n",
    "lstm_model = Sequential()\n",
    "\n",
    "# Create embedding layer - usually\n",
    "lstm_model.add(Embedding(input_dim=VOCABULARY_SIZE,            # Vocabulary Size\n",
    "                        output_dim=EMBEDDING_SIZE,            # Length of vector\n",
    "                        input_length=MAX_SEQ_LENGTH,          # Length of input sequence\n",
    "                        trainable = True                      # True - Update the embeddings\n",
    "                        ))\n",
    "\n",
    "# Add an LSTM layer which contains 64 LSTM cells\n",
    "lstm_model.add(LSTM(units=64, return_sequences=True))\n",
    "\n",
    "# Add time distributed (output at each sequence) layer\n",
    "lstm_model.add(TimeDistributed(Dense(NUM_CLASSES, activation=\"softmax\")))"
   ]
  },
  {
   "cell_type": "markdown",
   "id": "z55crmjdWB1a",
   "metadata": {
    "id": "z55crmjdWB1a"
   },
   "source": [
    "# Compile Model"
   ]
  },
  {
   "cell_type": "code",
   "execution_count": 36,
   "id": "5wy9H0ByJPfs",
   "metadata": {
    "id": "5wy9H0ByJPfs"
   },
   "outputs": [],
   "source": [
    "lstm_model.compile(loss = 'categorical_crossentropy',optimizer = 'adam', metrics = ['accuracy'])"
   ]
  },
  {
   "cell_type": "code",
   "execution_count": 37,
   "id": "RRs4HWhZJPYx",
   "metadata": {
    "colab": {
     "base_uri": "https://localhost:8080/",
     "height": 253
    },
    "id": "RRs4HWhZJPYx",
    "outputId": "068305eb-d9b0-4bd5-b21a-0c79058cac8a"
   },
   "outputs": [
    {
     "data": {
      "text/html": [
       "<pre style=\"white-space:pre;overflow-x:auto;line-height:normal;font-family:Menlo,'DejaVu Sans Mono',consolas,'Courier New',monospace\"><span style=\"font-weight: bold\">Model: \"sequential\"</span>\n",
       "</pre>\n"
      ],
      "text/plain": [
       "\u001b[1mModel: \"sequential\"\u001b[0m\n"
      ]
     },
     "metadata": {},
     "output_type": "display_data"
    },
    {
     "data": {
      "text/html": [
       "<pre style=\"white-space:pre;overflow-x:auto;line-height:normal;font-family:Menlo,'DejaVu Sans Mono',consolas,'Courier New',monospace\">┏━━━━━━━━━━━━━━━━━━━━━━━━━━━━━━━━━━━━━━┳━━━━━━━━━━━━━━━━━━━━━━━━━━━━━┳━━━━━━━━━━━━━━━━━┓\n",
       "┃<span style=\"font-weight: bold\"> Layer (type)                         </span>┃<span style=\"font-weight: bold\"> Output Shape                </span>┃<span style=\"font-weight: bold\">         Param # </span>┃\n",
       "┡━━━━━━━━━━━━━━━━━━━━━━━━━━━━━━━━━━━━━━╇━━━━━━━━━━━━━━━━━━━━━━━━━━━━━╇━━━━━━━━━━━━━━━━━┩\n",
       "│ embedding (<span style=\"color: #0087ff; text-decoration-color: #0087ff\">Embedding</span>)                │ ?                           │     <span style=\"color: #00af00; text-decoration-color: #00af00\">0</span> (unbuilt) │\n",
       "├──────────────────────────────────────┼─────────────────────────────┼─────────────────┤\n",
       "│ lstm (<span style=\"color: #0087ff; text-decoration-color: #0087ff\">LSTM</span>)                          │ ?                           │     <span style=\"color: #00af00; text-decoration-color: #00af00\">0</span> (unbuilt) │\n",
       "├──────────────────────────────────────┼─────────────────────────────┼─────────────────┤\n",
       "│ time_distributed (<span style=\"color: #0087ff; text-decoration-color: #0087ff\">TimeDistributed</span>)   │ ?                           │     <span style=\"color: #00af00; text-decoration-color: #00af00\">0</span> (unbuilt) │\n",
       "└──────────────────────────────────────┴─────────────────────────────┴─────────────────┘\n",
       "</pre>\n"
      ],
      "text/plain": [
       "┏━━━━━━━━━━━━━━━━━━━━━━━━━━━━━━━━━━━━━━┳━━━━━━━━━━━━━━━━━━━━━━━━━━━━━┳━━━━━━━━━━━━━━━━━┓\n",
       "┃\u001b[1m \u001b[0m\u001b[1mLayer (type)                        \u001b[0m\u001b[1m \u001b[0m┃\u001b[1m \u001b[0m\u001b[1mOutput Shape               \u001b[0m\u001b[1m \u001b[0m┃\u001b[1m \u001b[0m\u001b[1m        Param #\u001b[0m\u001b[1m \u001b[0m┃\n",
       "┡━━━━━━━━━━━━━━━━━━━━━━━━━━━━━━━━━━━━━━╇━━━━━━━━━━━━━━━━━━━━━━━━━━━━━╇━━━━━━━━━━━━━━━━━┩\n",
       "│ embedding (\u001b[38;5;33mEmbedding\u001b[0m)                │ ?                           │     \u001b[38;5;34m0\u001b[0m (unbuilt) │\n",
       "├──────────────────────────────────────┼─────────────────────────────┼─────────────────┤\n",
       "│ lstm (\u001b[38;5;33mLSTM\u001b[0m)                          │ ?                           │     \u001b[38;5;34m0\u001b[0m (unbuilt) │\n",
       "├──────────────────────────────────────┼─────────────────────────────┼─────────────────┤\n",
       "│ time_distributed (\u001b[38;5;33mTimeDistributed\u001b[0m)   │ ?                           │     \u001b[38;5;34m0\u001b[0m (unbuilt) │\n",
       "└──────────────────────────────────────┴─────────────────────────────┴─────────────────┘\n"
      ]
     },
     "metadata": {},
     "output_type": "display_data"
    },
    {
     "data": {
      "text/html": [
       "<pre style=\"white-space:pre;overflow-x:auto;line-height:normal;font-family:Menlo,'DejaVu Sans Mono',consolas,'Courier New',monospace\"><span style=\"font-weight: bold\"> Total params: </span><span style=\"color: #00af00; text-decoration-color: #00af00\">0</span> (0.00 B)\n",
       "</pre>\n"
      ],
      "text/plain": [
       "\u001b[1m Total params: \u001b[0m\u001b[38;5;34m0\u001b[0m (0.00 B)\n"
      ]
     },
     "metadata": {},
     "output_type": "display_data"
    },
    {
     "data": {
      "text/html": [
       "<pre style=\"white-space:pre;overflow-x:auto;line-height:normal;font-family:Menlo,'DejaVu Sans Mono',consolas,'Courier New',monospace\"><span style=\"font-weight: bold\"> Trainable params: </span><span style=\"color: #00af00; text-decoration-color: #00af00\">0</span> (0.00 B)\n",
       "</pre>\n"
      ],
      "text/plain": [
       "\u001b[1m Trainable params: \u001b[0m\u001b[38;5;34m0\u001b[0m (0.00 B)\n"
      ]
     },
     "metadata": {},
     "output_type": "display_data"
    },
    {
     "data": {
      "text/html": [
       "<pre style=\"white-space:pre;overflow-x:auto;line-height:normal;font-family:Menlo,'DejaVu Sans Mono',consolas,'Courier New',monospace\"><span style=\"font-weight: bold\"> Non-trainable params: </span><span style=\"color: #00af00; text-decoration-color: #00af00\">0</span> (0.00 B)\n",
       "</pre>\n"
      ],
      "text/plain": [
       "\u001b[1m Non-trainable params: \u001b[0m\u001b[38;5;34m0\u001b[0m (0.00 B)\n"
      ]
     },
     "metadata": {},
     "output_type": "display_data"
    }
   ],
   "source": [
    "# Check the summary of the model\n",
    "lstm_model.summary()"
   ]
  },
  {
   "cell_type": "markdown",
   "id": "7mUA57aSWVVM",
   "metadata": {
    "id": "7mUA57aSWVVM"
   },
   "source": [
    "# Fit model"
   ]
  },
  {
   "cell_type": "code",
   "execution_count": 38,
   "id": "DqY4NdZwJPTA",
   "metadata": {
    "colab": {
     "base_uri": "https://localhost:8080/"
    },
    "id": "DqY4NdZwJPTA",
    "outputId": "eac1a826-cc2b-4121-b99a-98e444cefab5",
    "scrolled": true
   },
   "outputs": [
    {
     "name": "stdout",
     "output_type": "stream",
     "text": [
      "Epoch 1/10\n",
      "\u001b[1m22/22\u001b[0m \u001b[32m━━━━━━━━━━━━━━━━━━━━\u001b[0m\u001b[37m\u001b[0m \u001b[1m23s\u001b[0m 692ms/step - accuracy: 0.6506 - loss: 1.8511 - val_accuracy: 0.7965 - val_loss: 0.8869\n",
      "Epoch 2/10\n",
      "\u001b[1m22/22\u001b[0m \u001b[32m━━━━━━━━━━━━━━━━━━━━\u001b[0m\u001b[37m\u001b[0m \u001b[1m13s\u001b[0m 605ms/step - accuracy: 0.8096 - loss: 0.8021 - val_accuracy: 0.8026 - val_loss: 0.7291\n",
      "Epoch 3/10\n",
      "\u001b[1m22/22\u001b[0m \u001b[32m━━━━━━━━━━━━━━━━━━━━\u001b[0m\u001b[37m\u001b[0m \u001b[1m12s\u001b[0m 538ms/step - accuracy: 0.8252 - loss: 0.6611 - val_accuracy: 0.8492 - val_loss: 0.5954\n",
      "Epoch 4/10\n",
      "\u001b[1m22/22\u001b[0m \u001b[32m━━━━━━━━━━━━━━━━━━━━\u001b[0m\u001b[37m\u001b[0m \u001b[1m21s\u001b[0m 541ms/step - accuracy: 0.8637 - loss: 0.5356 - val_accuracy: 0.8780 - val_loss: 0.4769\n",
      "Epoch 5/10\n",
      "\u001b[1m22/22\u001b[0m \u001b[32m━━━━━━━━━━━━━━━━━━━━\u001b[0m\u001b[37m\u001b[0m \u001b[1m11s\u001b[0m 518ms/step - accuracy: 0.8852 - loss: 0.4349 - val_accuracy: 0.8989 - val_loss: 0.3777\n",
      "Epoch 6/10\n",
      "\u001b[1m22/22\u001b[0m \u001b[32m━━━━━━━━━━━━━━━━━━━━\u001b[0m\u001b[37m\u001b[0m \u001b[1m21s\u001b[0m 544ms/step - accuracy: 0.9097 - loss: 0.3372 - val_accuracy: 0.9266 - val_loss: 0.2981\n",
      "Epoch 7/10\n",
      "\u001b[1m22/22\u001b[0m \u001b[32m━━━━━━━━━━━━━━━━━━━━\u001b[0m\u001b[37m\u001b[0m \u001b[1m18s\u001b[0m 424ms/step - accuracy: 0.9380 - loss: 0.2603 - val_accuracy: 0.9484 - val_loss: 0.2358\n",
      "Epoch 8/10\n",
      "\u001b[1m22/22\u001b[0m \u001b[32m━━━━━━━━━━━━━━━━━━━━\u001b[0m\u001b[37m\u001b[0m \u001b[1m12s\u001b[0m 483ms/step - accuracy: 0.9592 - loss: 0.1977 - val_accuracy: 0.9594 - val_loss: 0.1903\n",
      "Epoch 9/10\n",
      "\u001b[1m22/22\u001b[0m \u001b[32m━━━━━━━━━━━━━━━━━━━━\u001b[0m\u001b[37m\u001b[0m \u001b[1m21s\u001b[0m 528ms/step - accuracy: 0.9704 - loss: 0.1596 - val_accuracy: 0.9671 - val_loss: 0.1575\n",
      "Epoch 10/10\n",
      "\u001b[1m22/22\u001b[0m \u001b[32m━━━━━━━━━━━━━━━━━━━━\u001b[0m\u001b[37m\u001b[0m \u001b[1m21s\u001b[0m 533ms/step - accuracy: 0.9794 - loss: 0.1233 - val_accuracy: 0.9719 - val_loss: 0.1348\n"
     ]
    }
   ],
   "source": [
    "lstm_training = lstm_model.fit(X_train, Y_train, batch_size=128, epochs=10, validation_data=(X_validation, Y_validation))"
   ]
  },
  {
   "cell_type": "code",
   "execution_count": 39,
   "id": "Ol-j-4yWJ0ED",
   "metadata": {
    "colab": {
     "base_uri": "https://localhost:8080/",
     "height": 486
    },
    "id": "Ol-j-4yWJ0ED",
    "outputId": "d3337b74-740f-432d-eeae-01f3fd79d02a"
   },
   "outputs": [
    {
     "data": {
      "text/plain": [
       "<matplotlib.legend.Legend at 0x79d2c53b8520>"
      ]
     },
     "execution_count": 39,
     "metadata": {},
     "output_type": "execute_result"
    },
    {
     "data": {
      "image/png": "[encoded data removed]",
      "text/plain": [
       "<Figure size 640x480 with 1 Axes>"
      ]
     },
     "metadata": {},
     "output_type": "display_data"
    }
   ],
   "source": [
    "# Visualize training accuracy history\n",
    "\n",
    "plt.plot(lstm_training.history['accuracy'], label='Training Accuracy')\n",
    "plt.plot(lstm_training.history['val_accuracy'], label='Validation Accuracy')\n",
    "plt.xlabel('Epochs')\n",
    "plt.ylabel('Accuracy')\n",
    "plt.legend()"
   ]
  },
  {
   "cell_type": "code",
   "execution_count": 40,
   "id": "TOf9wGGnJPKs",
   "metadata": {
    "colab": {
     "base_uri": "https://localhost:8080/",
     "height": 486
    },
    "id": "TOf9wGGnJPKs",
    "outputId": "f95b1985-a31e-4cc7-b3d1-91728611ba8d"
   },
   "outputs": [
    {
     "data": {
      "text/plain": [
       "<matplotlib.legend.Legend at 0x79d2e01c4b80>"
      ]
     },
     "execution_count": 40,
     "metadata": {},
     "output_type": "execute_result"
    },
    {
     "data": {
      "image/png": "[encoded data removed]",
      "text/plain": [
       "<Figure size 640x480 with 1 Axes>"
      ]
     },
     "metadata": {},
     "output_type": "display_data"
    }
   ],
   "source": [
    "# Visualize training loss history\n",
    "plt.plot(lstm_training.history['loss'], label='Training Loss')\n",
    "plt.plot(lstm_training.history['val_loss'], label='Validation Loss')\n",
    "plt.xlabel('Epochs')\n",
    "plt.ylabel('Loss')\n",
    "plt.legend()"
   ]
  },
  {
   "cell_type": "code",
   "execution_count": 41,
   "id": "nZSe3_X9Cc7S",
   "metadata": {
    "colab": {
     "base_uri": "https://localhost:8080/"
    },
    "id": "nZSe3_X9Cc7S",
    "outputId": "2a9e4798-6e61-45e0-c59e-7e35dc1e92cc"
   },
   "outputs": [
    {
     "name": "stdout",
     "output_type": "stream",
     "text": [
      "\u001b[1m7/7\u001b[0m \u001b[32m━━━━━━━━━━━━━━━━━━━━\u001b[0m\u001b[37m\u001b[0m \u001b[1m1s\u001b[0m 95ms/step - accuracy: 0.9729 - loss: 0.1301\n",
      "Test Loss: 0.13188156485557556\n",
      "Test Accuracy: 0.9720722436904907\n"
     ]
    }
   ],
   "source": [
    "loss, accuracy = lstm_model.evaluate(X_test, Y_test, batch_size=128)\n",
    "print(f\"Test Loss: {loss}\")\n",
    "print(f\"Test Accuracy: {accuracy}\")\n"
   ]
  },
  {
   "cell_type": "code",
   "execution_count": 42,
   "id": "uPbRRzeZCjxa",
   "metadata": {
    "colab": {
     "base_uri": "https://localhost:8080/"
    },
    "id": "uPbRRzeZCjxa",
    "outputId": "904d90f0-db04-47b8-af3c-a3fed93aeec8"
   },
   "outputs": [
    {
     "name": "stdout",
     "output_type": "stream",
     "text": [
      "\u001b[1m7/7\u001b[0m \u001b[32m━━━━━━━━━━━━━━━━━━━━\u001b[0m\u001b[37m\u001b[0m \u001b[1m3s\u001b[0m 325ms/step\n"
     ]
    }
   ],
   "source": [
    "# Get predictions\n",
    "Y_pred = lstm_model.predict(X_test, batch_size=128)\n",
    "\n",
    "# Convert predictions and true labels to class indices\n",
    "Y_pred_classes = Y_pred.argmax(axis=-1)  # Predicted class\n",
    "Y_true_classes = Y_test.argmax(axis=-1)  # True class\n"
   ]
  },
  {
   "cell_type": "code",
   "execution_count": 43,
   "id": "5ZG1U44xCnZZ",
   "metadata": {
    "colab": {
     "base_uri": "https://localhost:8080/"
    },
    "id": "5ZG1U44xCnZZ",
    "outputId": "5b8d9f93-04fd-4d4e-9e3f-3a308c5fae9e"
   },
   "outputs": [
    {
     "name": "stdout",
     "output_type": "stream",
     "text": [
      "              precision    recall  f1-score   support\n",
      "\n",
      "         PPR       1.00      1.00      1.00     63761\n",
      "         SYM       0.79      0.98      0.87      5883\n",
      "        PLAI       0.85      0.83      0.84      1991\n",
      "          RP       0.81      0.77      0.79      1625\n",
      "         VBI       0.98      0.98      0.98      1532\n",
      "         VBX       0.97      1.00      0.98      1440\n",
      "        ALPH       1.00      1.00      1.00       868\n",
      "          CD       0.93      0.72      0.81       860\n",
      "          CS       1.00      1.00      1.00       757\n",
      "          JJ       0.93      0.79      0.85       758\n",
      "         PLE       1.00      1.00      1.00       608\n",
      "         VBF       1.00      1.00      1.00       601\n",
      "        VBNE       0.97      0.93      0.95       535\n",
      "          FW       0.98      0.68      0.80       564\n",
      "         PKO       0.98      0.98      0.98       486\n",
      "         JJD       0.96      0.94      0.95       431\n",
      "          CL       0.96      0.67      0.79       381\n",
      "         PP$       0.97      0.83      0.90       341\n",
      "          FB       1.00      0.99      1.00       383\n",
      "          YM       0.84      0.64      0.72       327\n",
      "         NNP       0.99      0.65      0.78       338\n",
      "          CC       1.00      0.99      0.99       282\n",
      "          DM       0.98      0.97      0.97       239\n",
      "         NNp       1.00      0.37      0.54       166\n",
      "         RBM       0.92      0.74      0.82       148\n",
      "         JJM       1.00      0.93      0.96       129\n",
      "         UNW       1.00      0.98      0.99       107\n",
      "         RBO       1.00      0.31      0.47        90\n",
      "          NN       1.00      0.76      0.86        70\n",
      "          YB       0.00      0.00      0.00        54\n",
      "         VBO       0.00      0.00      0.00        28\n",
      "        VBKO       0.00      0.00      0.00        29\n",
      "          YF       0.00      0.00      0.00        32\n",
      "         POP       0.00      0.00      0.00        29\n",
      "          YQ       0.00      0.00      0.00         6\n",
      "          PP       0.00      0.00      0.00        10\n",
      "         HRU       0.00      0.00      0.00         7\n",
      "          OD       0.00      0.00      0.00         2\n",
      "          QW       0.00      0.00      0.00         1\n",
      "         DUM       0.00      0.00      0.00         1\n",
      "\n",
      "    accuracy                           0.97     85900\n",
      "   macro avg       0.69      0.61      0.64     85900\n",
      "weighted avg       0.97      0.97      0.97     85900\n",
      "\n"
     ]
    },
    {
     "name": "stderr",
     "output_type": "stream",
     "text": [
      "/usr/local/lib/python3.10/dist-packages/sklearn/metrics/_classification.py:1531: UndefinedMetricWarning: Precision is ill-defined and being set to 0.0 in labels with no predicted samples. Use `zero_division` parameter to control this behavior.\n",
      "  _warn_prf(average, modifier, f\"{metric.capitalize()} is\", len(result))\n",
      "/usr/local/lib/python3.10/dist-packages/sklearn/metrics/_classification.py:1531: UndefinedMetricWarning: Precision is ill-defined and being set to 0.0 in labels with no predicted samples. Use `zero_division` parameter to control this behavior.\n",
      "  _warn_prf(average, modifier, f\"{metric.capitalize()} is\", len(result))\n",
      "/usr/local/lib/python3.10/dist-packages/sklearn/metrics/_classification.py:1531: UndefinedMetricWarning: Precision is ill-defined and being set to 0.0 in labels with no predicted samples. Use `zero_division` parameter to control this behavior.\n",
      "  _warn_prf(average, modifier, f\"{metric.capitalize()} is\", len(result))\n"
     ]
    }
   ],
   "source": [
    "from sklearn.metrics import classification_report\n",
    "\n",
    "# Flatten the sequences for evaluation\n",
    "Y_pred_flat = Y_pred_classes.flatten()\n",
    "Y_true_flat = Y_true_classes.flatten()\n",
    "\n",
    "# Generate the classification report\n",
    "report = classification_report(Y_true_flat, Y_pred_flat, target_names=pos_tags)\n",
    "\n",
    "print(report)\n"
   ]
  },
  {
   "cell_type": "code",
   "execution_count": 45,
   "id": "n1OEYBoiEeIZ",
   "metadata": {
    "colab": {
     "base_uri": "https://localhost:8080/"
    },
    "id": "n1OEYBoiEeIZ",
    "outputId": "87bedde6-f881-416f-c923-53a2771090eb"
   },
   "outputs": [
    {
     "name": "stdout",
     "output_type": "stream",
     "text": [
      "Overall Accuracy: 97.21%\n",
      "Overall Precision: 0.97\n",
      "Overall Recall: 0.97\n",
      "Overall F1-score: 0.97\n"
     ]
    },
    {
     "name": "stderr",
     "output_type": "stream",
     "text": [
      "/usr/local/lib/python3.10/dist-packages/sklearn/metrics/_classification.py:1531: UndefinedMetricWarning: Precision is ill-defined and being set to 0.0 in labels with no predicted samples. Use `zero_division` parameter to control this behavior.\n",
      "  _warn_prf(average, modifier, f\"{metric.capitalize()} is\", len(result))\n"
     ]
    }
   ],
   "source": [
    "import numpy as np\n",
    "from sklearn.metrics import accuracy_score, precision_score, recall_score, f1_score\n",
    "\n",
    "# Flatten the true and predicted labels\n",
    "Y_true_flat = np.argmax(Y_test, axis=-1).flatten()  # Convert one-hot to class indices\n",
    "Y_pred_flat = np.argmax(Y_pred, axis=-1).flatten()  # Convert one-hot to class indices\n",
    "\n",
    "# Compute overall metrics\n",
    "accuracy = accuracy_score(Y_true_flat, Y_pred_flat)\n",
    "precision = precision_score(Y_true_flat, Y_pred_flat, average='weighted')\n",
    "recall = recall_score(Y_true_flat, Y_pred_flat, average='weighted')\n",
    "f1 = f1_score(Y_true_flat, Y_pred_flat, average='weighted')\n",
    "\n",
    "# Display results\n",
    "print(f\"Overall Accuracy: {accuracy * 100:.2f}%\")\n",
    "print(f\"Overall Precision: {precision:.2f}\")\n",
    "print(f\"Overall Recall: {recall:.2f}\")\n",
    "print(f\"Overall F1-score: {f1:.2f}\")\n"
   ]
  },
  {
   "cell_type": "code",
   "execution_count": 46,
   "id": "XEFSx03oJ3ZQ",
   "metadata": {
    "colab": {
     "base_uri": "https://localhost:8080/"
    },
    "id": "XEFSx03oJ3ZQ",
    "outputId": "3a0bdaf3-9ad0-4a94-83a9-df8f79b8531f"
   },
   "outputs": [
    {
     "name": "stdout",
     "output_type": "stream",
     "text": [
      "\u001b[1m1/1\u001b[0m \u001b[32m━━━━━━━━━━━━━━━━━━━━\u001b[0m\u001b[37m\u001b[0m \u001b[1m0s\u001b[0m 464ms/step\n",
      "Tagged Sentence: [('६१', 'cd'), ('वर्षीय', 'jj'), ('पियरे', 'nnp'), ('भिन्केन', 'nnp'), ('नोभेम्बर', 'nnp'), ('२९', 'cd'), ('बाट', 'pop'), ('सल्लाहकार', 'nn'), ('को', 'pko'), ('रूप', 'nn'), ('मा', 'pop'), ('सञ्चालक', 'nn'), ('समिति', 'nn'), ('मा', 'pop'), ('आउनुहुनेछ', 'nn'), ('।', 'yf')]\n"
     ]
    }
   ],
   "source": [
    "def tagger_lstm_true(sentence):\n",
    "    # Convert the sentence into a sequence of integers (use the same tokenizer used during training)\n",
    "    seq = word_tokenizer.texts_to_sequences([sentence])\n",
    "\n",
    "    # Adjust padding length to the maximum length used during training\n",
    "    max_len = 100  # Make sure this is the same as during training\n",
    "    padded_seq = pad_sequences(seq, maxlen=max_len, padding='post')\n",
    "\n",
    "    # Predict the POS tags using the trained LSTM model\n",
    "    pred_tags = lstm_model.predict(padded_seq)[0]  # Get predictions for the sequence\n",
    "\n",
    "    # Get the index of the highest probability for each word (argmax)\n",
    "    pred_tags = pred_tags.argmax(axis=-1)\n",
    "\n",
    "    # Convert indices to actual tags using the tag tokenizer\n",
    "    tags = [tag_tokenizer.index_word[i] for i in pred_tags if i != 0]  # Skip padding tokens (index 0)\n",
    "\n",
    "    # Ensure sentence and tags align in length\n",
    "    return list(zip(sentence, tags[:len(sentence)]))  # Sentence should be words, not indices\n",
    "\n",
    "# Example sentence to predict POS tags\n",
    "sentence = '६१ वर्षीय पियरे भिन्केन नोभेम्बर २९ बाट सल्लाहकार को रूप मा सञ्चालक समिति मा आउनुहुनेछ ।'\n",
    "\n",
    "# Tokenize the sentence (split into words)\n",
    "sentence_split = sentence.split()  # Split the sentence into words\n",
    "\n",
    "# Fit the word tokenizer on the training data (X), if you haven't already done this\n",
    "word_tokenizer = Tokenizer()\n",
    "word_tokenizer.fit_on_texts(X)  # Fit on the training data\n",
    "\n",
    "# Tokenize the sentence (original words) using the same tokenizer\n",
    "tokens = word_tokenizer.texts_to_sequences([sentence_split])\n",
    "\n",
    "# Get the tagged sentence (prediction)\n",
    "tagged_sentence = tagger_lstm_true(sentence_split)\n",
    "print(\"Tagged Sentence:\", tagged_sentence)"
   ]
  },
  {
   "cell_type": "markdown",
   "id": "_M60mS8pexWL",
   "metadata": {
    "id": "_M60mS8pexWL"
   },
   "source": [
    "# Using pre-tained embedding weights"
   ]
  },
  {
   "cell_type": "code",
   "execution_count": 47,
   "id": "LJL_b-vRJ3Ix",
   "metadata": {
    "colab": {
     "base_uri": "https://localhost:8080/"
    },
    "id": "LJL_b-vRJ3Ix",
    "outputId": "e595e2e3-281a-4a36-de8b-8febff42b156"
   },
   "outputs": [
    {
     "name": "stderr",
     "output_type": "stream",
     "text": [
      "/usr/local/lib/python3.10/dist-packages/keras/src/layers/core/embedding.py:90: UserWarning: Argument `input_length` is deprecated. Just remove it.\n",
      "  warnings.warn(\n"
     ]
    }
   ],
   "source": [
    "# Create architecture\n",
    "lstm_model = Sequential()\n",
    "\n",
    "# Create embedding layer - usually\n",
    "lstm_model.add(Embedding(input_dim=VOCABULARY_SIZE,            # Vocabulary Size\n",
    "                        output_dim=EMBEDDING_SIZE,            # Length of vector\n",
    "                        input_length=MAX_SEQ_LENGTH,          # Length of input sequence\n",
    "                        weights = [embedding_weights],        # Pre-trained embeddings matrix\n",
    "                        trainable = True                      # True - Update the embeddings\n",
    "                        ))\n",
    "\n",
    "# Add an LSTM layer which contains 64 LSTM cells\n",
    "lstm_model.add(LSTM(units=64, return_sequences=True))\n",
    "\n",
    "# Add time distributed (output at each sequence) layer\n",
    "lstm_model.add(TimeDistributed(Dense(NUM_CLASSES, activation=\"softmax\")))"
   ]
  },
  {
   "cell_type": "markdown",
   "id": "IC1EyK7tfD9P",
   "metadata": {
    "id": "IC1EyK7tfD9P"
   },
   "source": [
    "## Compile Model"
   ]
  },
  {
   "cell_type": "code",
   "execution_count": 48,
   "id": "KUci8T3aW3wH",
   "metadata": {
    "id": "KUci8T3aW3wH"
   },
   "outputs": [],
   "source": [
    "lstm_model.compile(loss = 'categorical_crossentropy',optimizer = 'adam', metrics = ['accuracy'])"
   ]
  },
  {
   "cell_type": "code",
   "execution_count": 49,
   "id": "cnGLZYdMfM0d",
   "metadata": {
    "colab": {
     "base_uri": "https://localhost:8080/",
     "height": 253
    },
    "id": "cnGLZYdMfM0d",
    "outputId": "97a9e2cc-613c-425a-892a-6175ba8656c7"
   },
   "outputs": [
    {
     "data": {
      "text/html": [
       "<pre style=\"white-space:pre;overflow-x:auto;line-height:normal;font-family:Menlo,'DejaVu Sans Mono',consolas,'Courier New',monospace\"><span style=\"font-weight: bold\">Model: \"sequential_1\"</span>\n",
       "</pre>\n"
      ],
      "text/plain": [
       "\u001b[1mModel: \"sequential_1\"\u001b[0m\n"
      ]
     },
     "metadata": {},
     "output_type": "display_data"
    },
    {
     "data": {
      "text/html": [
       "<pre style=\"white-space:pre;overflow-x:auto;line-height:normal;font-family:Menlo,'DejaVu Sans Mono',consolas,'Courier New',monospace\">┏━━━━━━━━━━━━━━━━━━━━━━━━━━━━━━━━━━━━━━┳━━━━━━━━━━━━━━━━━━━━━━━━━━━━━┳━━━━━━━━━━━━━━━━━┓\n",
       "┃<span style=\"font-weight: bold\"> Layer (type)                         </span>┃<span style=\"font-weight: bold\"> Output Shape                </span>┃<span style=\"font-weight: bold\">         Param # </span>┃\n",
       "┡━━━━━━━━━━━━━━━━━━━━━━━━━━━━━━━━━━━━━━╇━━━━━━━━━━━━━━━━━━━━━━━━━━━━━╇━━━━━━━━━━━━━━━━━┩\n",
       "│ embedding_1 (<span style=\"color: #0087ff; text-decoration-color: #0087ff\">Embedding</span>)              │ ?                           │       <span style=\"color: #00af00; text-decoration-color: #00af00\">3,793,800</span> │\n",
       "├──────────────────────────────────────┼─────────────────────────────┼─────────────────┤\n",
       "│ lstm_1 (<span style=\"color: #0087ff; text-decoration-color: #0087ff\">LSTM</span>)                        │ ?                           │     <span style=\"color: #00af00; text-decoration-color: #00af00\">0</span> (unbuilt) │\n",
       "├──────────────────────────────────────┼─────────────────────────────┼─────────────────┤\n",
       "│ time_distributed_1 (<span style=\"color: #0087ff; text-decoration-color: #0087ff\">TimeDistributed</span>) │ ?                           │     <span style=\"color: #00af00; text-decoration-color: #00af00\">0</span> (unbuilt) │\n",
       "└──────────────────────────────────────┴─────────────────────────────┴─────────────────┘\n",
       "</pre>\n"
      ],
      "text/plain": [
       "┏━━━━━━━━━━━━━━━━━━━━━━━━━━━━━━━━━━━━━━┳━━━━━━━━━━━━━━━━━━━━━━━━━━━━━┳━━━━━━━━━━━━━━━━━┓\n",
       "┃\u001b[1m \u001b[0m\u001b[1mLayer (type)                        \u001b[0m\u001b[1m \u001b[0m┃\u001b[1m \u001b[0m\u001b[1mOutput Shape               \u001b[0m\u001b[1m \u001b[0m┃\u001b[1m \u001b[0m\u001b[1m        Param #\u001b[0m\u001b[1m \u001b[0m┃\n",
       "┡━━━━━━━━━━━━━━━━━━━━━━━━━━━━━━━━━━━━━━╇━━━━━━━━━━━━━━━━━━━━━━━━━━━━━╇━━━━━━━━━━━━━━━━━┩\n",
       "│ embedding_1 (\u001b[38;5;33mEmbedding\u001b[0m)              │ ?                           │       \u001b[38;5;34m3,793,800\u001b[0m │\n",
       "├──────────────────────────────────────┼─────────────────────────────┼─────────────────┤\n",
       "│ lstm_1 (\u001b[38;5;33mLSTM\u001b[0m)                        │ ?                           │     \u001b[38;5;34m0\u001b[0m (unbuilt) │\n",
       "├──────────────────────────────────────┼─────────────────────────────┼─────────────────┤\n",
       "│ time_distributed_1 (\u001b[38;5;33mTimeDistributed\u001b[0m) │ ?                           │     \u001b[38;5;34m0\u001b[0m (unbuilt) │\n",
       "└──────────────────────────────────────┴─────────────────────────────┴─────────────────┘\n"
      ]
     },
     "metadata": {},
     "output_type": "display_data"
    },
    {
     "data": {
      "text/html": [
       "<pre style=\"white-space:pre;overflow-x:auto;line-height:normal;font-family:Menlo,'DejaVu Sans Mono',consolas,'Courier New',monospace\"><span style=\"font-weight: bold\"> Total params: </span><span style=\"color: #00af00; text-decoration-color: #00af00\">3,793,800</span> (14.47 MB)\n",
       "</pre>\n"
      ],
      "text/plain": [
       "\u001b[1m Total params: \u001b[0m\u001b[38;5;34m3,793,800\u001b[0m (14.47 MB)\n"
      ]
     },
     "metadata": {},
     "output_type": "display_data"
    },
    {
     "data": {
      "text/html": [
       "<pre style=\"white-space:pre;overflow-x:auto;line-height:normal;font-family:Menlo,'DejaVu Sans Mono',consolas,'Courier New',monospace\"><span style=\"font-weight: bold\"> Trainable params: </span><span style=\"color: #00af00; text-decoration-color: #00af00\">3,793,800</span> (14.47 MB)\n",
       "</pre>\n"
      ],
      "text/plain": [
       "\u001b[1m Trainable params: \u001b[0m\u001b[38;5;34m3,793,800\u001b[0m (14.47 MB)\n"
      ]
     },
     "metadata": {},
     "output_type": "display_data"
    },
    {
     "data": {
      "text/html": [
       "<pre style=\"white-space:pre;overflow-x:auto;line-height:normal;font-family:Menlo,'DejaVu Sans Mono',consolas,'Courier New',monospace\"><span style=\"font-weight: bold\"> Non-trainable params: </span><span style=\"color: #00af00; text-decoration-color: #00af00\">0</span> (0.00 B)\n",
       "</pre>\n"
      ],
      "text/plain": [
       "\u001b[1m Non-trainable params: \u001b[0m\u001b[38;5;34m0\u001b[0m (0.00 B)\n"
      ]
     },
     "metadata": {},
     "output_type": "display_data"
    }
   ],
   "source": [
    "# Check the summary of the model\n",
    "lstm_model.summary()"
   ]
  },
  {
   "cell_type": "markdown",
   "id": "rfazENy9fUPg",
   "metadata": {
    "id": "rfazENy9fUPg"
   },
   "source": [
    "## Fit Model"
   ]
  },
  {
   "cell_type": "code",
   "execution_count": 50,
   "id": "e5q30Vo7W3tX",
   "metadata": {
    "colab": {
     "base_uri": "https://localhost:8080/"
    },
    "id": "e5q30Vo7W3tX",
    "outputId": "d203ffd0-3414-4f96-fd00-ef3d0a962b58"
   },
   "outputs": [
    {
     "name": "stdout",
     "output_type": "stream",
     "text": [
      "Epoch 1/10\n",
      "\u001b[1m22/22\u001b[0m \u001b[32m━━━━━━━━━━━━━━━━━━━━\u001b[0m\u001b[37m\u001b[0m \u001b[1m22s\u001b[0m 619ms/step - accuracy: 0.7700 - loss: 1.9267 - val_accuracy: 0.7922 - val_loss: 0.8657\n",
      "Epoch 2/10\n",
      "\u001b[1m22/22\u001b[0m \u001b[32m━━━━━━━━━━━━━━━━━━━━\u001b[0m\u001b[37m\u001b[0m \u001b[1m25s\u001b[0m 819ms/step - accuracy: 0.8032 - loss: 0.7955 - val_accuracy: 0.8281 - val_loss: 0.6963\n",
      "Epoch 3/10\n",
      "\u001b[1m22/22\u001b[0m \u001b[32m━━━━━━━━━━━━━━━━━━━━\u001b[0m\u001b[37m\u001b[0m \u001b[1m12s\u001b[0m 422ms/step - accuracy: 0.8379 - loss: 0.6434 - val_accuracy: 0.8573 - val_loss: 0.5542\n",
      "Epoch 4/10\n",
      "\u001b[1m22/22\u001b[0m \u001b[32m━━━━━━━━━━━━━━━━━━━━\u001b[0m\u001b[37m\u001b[0m \u001b[1m12s\u001b[0m 531ms/step - accuracy: 0.8688 - loss: 0.5064 - val_accuracy: 0.8843 - val_loss: 0.4367\n",
      "Epoch 5/10\n",
      "\u001b[1m22/22\u001b[0m \u001b[32m━━━━━━━━━━━━━━━━━━━━\u001b[0m\u001b[37m\u001b[0m \u001b[1m12s\u001b[0m 541ms/step - accuracy: 0.8949 - loss: 0.3959 - val_accuracy: 0.9166 - val_loss: 0.3390\n",
      "Epoch 6/10\n",
      "\u001b[1m22/22\u001b[0m \u001b[32m━━━━━━━━━━━━━━━━━━━━\u001b[0m\u001b[37m\u001b[0m \u001b[1m20s\u001b[0m 490ms/step - accuracy: 0.9285 - loss: 0.3009 - val_accuracy: 0.9435 - val_loss: 0.2611\n",
      "Epoch 7/10\n",
      "\u001b[1m22/22\u001b[0m \u001b[32m━━━━━━━━━━━━━━━━━━━━\u001b[0m\u001b[37m\u001b[0m \u001b[1m12s\u001b[0m 535ms/step - accuracy: 0.9541 - loss: 0.2272 - val_accuracy: 0.9596 - val_loss: 0.2038\n",
      "Epoch 8/10\n",
      "\u001b[1m22/22\u001b[0m \u001b[32m━━━━━━━━━━━━━━━━━━━━\u001b[0m\u001b[37m\u001b[0m \u001b[1m20s\u001b[0m 474ms/step - accuracy: 0.9691 - loss: 0.1745 - val_accuracy: 0.9685 - val_loss: 0.1635\n",
      "Epoch 9/10\n",
      "\u001b[1m22/22\u001b[0m \u001b[32m━━━━━━━━━━━━━━━━━━━━\u001b[0m\u001b[37m\u001b[0m \u001b[1m21s\u001b[0m 537ms/step - accuracy: 0.9775 - loss: 0.1363 - val_accuracy: 0.9741 - val_loss: 0.1356\n",
      "Epoch 10/10\n",
      "\u001b[1m22/22\u001b[0m \u001b[32m━━━━━━━━━━━━━━━━━━━━\u001b[0m\u001b[37m\u001b[0m \u001b[1m20s\u001b[0m 512ms/step - accuracy: 0.9833 - loss: 0.1098 - val_accuracy: 0.9773 - val_loss: 0.1161\n"
     ]
    }
   ],
   "source": [
    "lstm_training = lstm_model.fit(X_train, Y_train, batch_size=128, epochs=10, validation_data=(X_validation, Y_validation))"
   ]
  },
  {
   "cell_type": "code",
   "execution_count": 51,
   "id": "YBxjNuCwf_AW",
   "metadata": {
    "colab": {
     "base_uri": "https://localhost:8080/",
     "height": 486
    },
    "id": "YBxjNuCwf_AW",
    "outputId": "506d21a2-a927-45c3-8d19-5cc9ba32cabf"
   },
   "outputs": [
    {
     "data": {
      "text/plain": [
       "<matplotlib.legend.Legend at 0x79d2c41358d0>"
      ]
     },
     "execution_count": 51,
     "metadata": {},
     "output_type": "execute_result"
    },
    {
     "data": {
      "image/png": "[encoded data removed]",
      "text/plain": [
       "<Figure size 640x480 with 1 Axes>"
      ]
     },
     "metadata": {},
     "output_type": "display_data"
    }
   ],
   "source": [
    "# Visualize training accuracy history\n",
    "\n",
    "plt.plot(lstm_training.history['accuracy'], label='Training Accuracy')\n",
    "plt.plot(lstm_training.history['val_accuracy'], label='Validation Accuracy')\n",
    "plt.xlabel('Epochs')\n",
    "plt.ylabel('Accuracy')\n",
    "plt.legend()"
   ]
  },
  {
   "cell_type": "code",
   "execution_count": 52,
   "id": "XrY14tawf0Vl",
   "metadata": {
    "colab": {
     "base_uri": "https://localhost:8080/",
     "height": 491
    },
    "id": "XrY14tawf0Vl",
    "outputId": "7d3bc3b3-4429-494e-fc12-d706669b28f2"
   },
   "outputs": [
    {
     "data": {
      "text/plain": [
       "<matplotlib.legend.Legend at 0x79d2c45f67a0>"
      ]
     },
     "execution_count": 52,
     "metadata": {},
     "output_type": "execute_result"
    },
    {
     "data": {
      "image/png": "[encoded data removed]",
      "text/plain": [
       "<Figure size 640x480 with 1 Axes>"
      ]
     },
     "metadata": {},
     "output_type": "display_data"
    }
   ],
   "source": [
    "# Visualize training loss history\n",
    "plt.plot(lstm_training.history['loss'], label='Training Loss')\n",
    "plt.plot(lstm_training.history['val_loss'], label='Validation Loss')\n",
    "plt.xlabel('Epochs')\n",
    "plt.ylabel('Loss')\n",
    "plt.legend()"
   ]
  },
  {
   "cell_type": "code",
   "execution_count": 53,
   "id": "6IUp1-v7FFX-",
   "metadata": {
    "colab": {
     "base_uri": "https://localhost:8080/"
    },
    "id": "6IUp1-v7FFX-",
    "outputId": "1ca1910f-e6d7-4373-e844-a5a08c403efc"
   },
   "outputs": [
    {
     "name": "stdout",
     "output_type": "stream",
     "text": [
      "\u001b[1m7/7\u001b[0m \u001b[32m━━━━━━━━━━━━━━━━━━━━\u001b[0m\u001b[37m\u001b[0m \u001b[1m1s\u001b[0m 99ms/step - accuracy: 0.9784 - loss: 0.1126\n",
      "Test Loss: 0.11365852504968643\n",
      "Test Accuracy: 0.9782188534736633\n"
     ]
    }
   ],
   "source": [
    "loss, accuracy = lstm_model.evaluate(X_test, Y_test, batch_size=128)\n",
    "print(f\"Test Loss: {loss}\")\n",
    "print(f\"Test Accuracy: {accuracy}\")\n"
   ]
  },
  {
   "cell_type": "code",
   "execution_count": 54,
   "id": "o4fOig2jFJ9u",
   "metadata": {
    "colab": {
     "base_uri": "https://localhost:8080/"
    },
    "id": "o4fOig2jFJ9u",
    "outputId": "e7f51161-b172-47e3-ff12-becc0c299ddb"
   },
   "outputs": [
    {
     "name": "stdout",
     "output_type": "stream",
     "text": [
      "\u001b[1m6/7\u001b[0m \u001b[32m━━━━━━━━━━━━━━━━━\u001b[0m\u001b[37m━━━\u001b[0m \u001b[1m0s\u001b[0m 97ms/step"
     ]
    },
    {
     "name": "stderr",
     "output_type": "stream",
     "text": [
      "WARNING:tensorflow:5 out of the last 15 calls to <function TensorFlowTrainer.make_predict_function.<locals>.one_step_on_data_distributed at 0x79d2c48b1000> triggered tf.function retracing. Tracing is expensive and the excessive number of tracings could be due to (1) creating @tf.function repeatedly in a loop, (2) passing tensors with different shapes, (3) passing Python objects instead of tensors. For (1), please define your @tf.function outside of the loop. For (2), @tf.function has reduce_retracing=True option that can avoid unnecessary retracing. For (3), please refer to https://www.tensorflow.org/guide/function#controlling_retracing and https://www.tensorflow.org/api_docs/python/tf/function for  more details.\n"
     ]
    },
    {
     "name": "stdout",
     "output_type": "stream",
     "text": [
      "\u001b[1m7/7\u001b[0m \u001b[32m━━━━━━━━━━━━━━━━━━━━\u001b[0m\u001b[37m\u001b[0m \u001b[1m3s\u001b[0m 285ms/step\n"
     ]
    }
   ],
   "source": [
    "# Get predictions\n",
    "Y_pred = lstm_model.predict(X_test, batch_size=128)\n",
    "\n",
    "# Convert predictions and true labels to class indices\n",
    "Y_pred_classes = Y_pred.argmax(axis=-1)  # Predicted class\n",
    "Y_true_classes = Y_test.argmax(axis=-1)  # True class\n"
   ]
  },
  {
   "cell_type": "code",
   "execution_count": 55,
   "id": "ILXxx4wWFM8Z",
   "metadata": {
    "colab": {
     "base_uri": "https://localhost:8080/"
    },
    "id": "ILXxx4wWFM8Z",
    "outputId": "fdacc3bc-ca17-40ab-ed65-c939f8740f2b"
   },
   "outputs": [
    {
     "name": "stderr",
     "output_type": "stream",
     "text": [
      "/usr/local/lib/python3.10/dist-packages/sklearn/metrics/_classification.py:1531: UndefinedMetricWarning: Precision is ill-defined and being set to 0.0 in labels with no predicted samples. Use `zero_division` parameter to control this behavior.\n",
      "  _warn_prf(average, modifier, f\"{metric.capitalize()} is\", len(result))\n",
      "/usr/local/lib/python3.10/dist-packages/sklearn/metrics/_classification.py:1531: UndefinedMetricWarning: Precision is ill-defined and being set to 0.0 in labels with no predicted samples. Use `zero_division` parameter to control this behavior.\n",
      "  _warn_prf(average, modifier, f\"{metric.capitalize()} is\", len(result))\n"
     ]
    },
    {
     "name": "stdout",
     "output_type": "stream",
     "text": [
      "              precision    recall  f1-score   support\n",
      "\n",
      "         PPR       1.00      1.00      1.00     63761\n",
      "         SYM       0.88      0.96      0.92      5883\n",
      "        PLAI       0.76      0.86      0.81      1991\n",
      "          RP       0.86      0.91      0.88      1625\n",
      "         VBI       0.99      0.97      0.98      1532\n",
      "         VBX       0.99      1.00      0.99      1440\n",
      "        ALPH       1.00      1.00      1.00       868\n",
      "          CD       0.88      0.84      0.86       860\n",
      "          CS       1.00      1.00      1.00       757\n",
      "          JJ       0.90      0.88      0.89       758\n",
      "         PLE       1.00      1.00      1.00       608\n",
      "         VBF       1.00      1.00      1.00       601\n",
      "        VBNE       0.97      0.93      0.95       535\n",
      "          FW       0.98      0.84      0.90       564\n",
      "         PKO       0.99      0.97      0.98       486\n",
      "         JJD       0.95      0.97      0.96       431\n",
      "          CL       0.94      0.70      0.81       381\n",
      "         PP$       0.97      0.86      0.91       341\n",
      "          FB       1.00      0.99      1.00       383\n",
      "          YM       0.88      0.65      0.75       327\n",
      "         NNP       0.98      0.70      0.81       338\n",
      "          CC       0.97      0.99      0.98       282\n",
      "          DM       0.98      0.98      0.98       239\n",
      "         NNp       1.00      0.27      0.43       166\n",
      "         RBM       0.93      0.89      0.91       148\n",
      "         JJM       1.00      0.93      0.96       129\n",
      "         UNW       1.00      0.98      0.99       107\n",
      "         RBO       1.00      0.70      0.82        90\n",
      "          NN       1.00      0.70      0.82        70\n",
      "          YB       0.00      0.00      0.00        54\n",
      "         VBO       0.00      0.00      0.00        28\n",
      "        VBKO       0.00      0.00      0.00        29\n",
      "          YF       0.00      0.00      0.00        32\n",
      "         POP       0.00      0.00      0.00        29\n",
      "          YQ       0.00      0.00      0.00         6\n",
      "          PP       0.00      0.00      0.00        10\n",
      "         HRU       0.00      0.00      0.00         7\n",
      "          OD       0.00      0.00      0.00         2\n",
      "          QW       0.00      0.00      0.00         1\n",
      "         DUM       0.00      0.00      0.00         1\n",
      "\n",
      "    accuracy                           0.98     85900\n",
      "   macro avg       0.70      0.64      0.66     85900\n",
      "weighted avg       0.98      0.98      0.98     85900\n",
      "\n"
     ]
    },
    {
     "name": "stderr",
     "output_type": "stream",
     "text": [
      "/usr/local/lib/python3.10/dist-packages/sklearn/metrics/_classification.py:1531: UndefinedMetricWarning: Precision is ill-defined and being set to 0.0 in labels with no predicted samples. Use `zero_division` parameter to control this behavior.\n",
      "  _warn_prf(average, modifier, f\"{metric.capitalize()} is\", len(result))\n"
     ]
    }
   ],
   "source": [
    "from sklearn.metrics import classification_report\n",
    "\n",
    "# Flatten the sequences for evaluation\n",
    "Y_pred_flat = Y_pred_classes.flatten()\n",
    "Y_true_flat = Y_true_classes.flatten()\n",
    "\n",
    "# Generate the classification report\n",
    "report = classification_report(Y_true_flat, Y_pred_flat, target_names=pos_tags)\n",
    "\n",
    "print(report)\n"
   ]
  },
  {
   "cell_type": "code",
   "execution_count": 57,
   "id": "u3DpseGKFTJS",
   "metadata": {
    "colab": {
     "base_uri": "https://localhost:8080/"
    },
    "id": "u3DpseGKFTJS",
    "outputId": "b639a636-242b-4be7-c671-07c7caf5e1cc"
   },
   "outputs": [
    {
     "name": "stdout",
     "output_type": "stream",
     "text": [
      "Overall Accuracy: 97.82%\n",
      "Overall Precision: 0.98\n",
      "Overall Recall: 0.98\n",
      "Overall F1-score: 0.98\n"
     ]
    },
    {
     "name": "stderr",
     "output_type": "stream",
     "text": [
      "/usr/local/lib/python3.10/dist-packages/sklearn/metrics/_classification.py:1531: UndefinedMetricWarning: Precision is ill-defined and being set to 0.0 in labels with no predicted samples. Use `zero_division` parameter to control this behavior.\n",
      "  _warn_prf(average, modifier, f\"{metric.capitalize()} is\", len(result))\n"
     ]
    }
   ],
   "source": [
    "import numpy as np\n",
    "from sklearn.metrics import accuracy_score, precision_score, recall_score, f1_score\n",
    "\n",
    "# Flatten the true and predicted labels\n",
    "Y_true_flat = np.argmax(Y_test, axis=-1).flatten()  # Convert one-hot to class indices\n",
    "Y_pred_flat = np.argmax(Y_pred, axis=-1).flatten()  # Convert one-hot to class indices\n",
    "\n",
    "# Compute overall metrics\n",
    "accuracy = accuracy_score(Y_true_flat, Y_pred_flat)\n",
    "precision = precision_score(Y_true_flat, Y_pred_flat, average='weighted')\n",
    "recall = recall_score(Y_true_flat, Y_pred_flat, average='weighted')\n",
    "f1 = f1_score(Y_true_flat, Y_pred_flat, average='weighted')\n",
    "\n",
    "# Display results\n",
    "print(f\"Overall Accuracy: {accuracy * 100:.2f}%\")\n",
    "print(f\"Overall Precision: {precision:.2f}\")\n",
    "print(f\"Overall Recall: {recall:.2f}\")\n",
    "print(f\"Overall F1-score: {f1:.2f}\")\n"
   ]
  },
  {
   "cell_type": "code",
   "execution_count": 58,
   "id": "8S9MeNLjFWhu",
   "metadata": {
    "colab": {
     "base_uri": "https://localhost:8080/"
    },
    "id": "8S9MeNLjFWhu",
    "outputId": "11099485-bd76-48e8-c891-3bf47ead000d"
   },
   "outputs": [
    {
     "name": "stderr",
     "output_type": "stream",
     "text": [
      "WARNING:tensorflow:6 out of the last 16 calls to <function TensorFlowTrainer.make_predict_function.<locals>.one_step_on_data_distributed at 0x79d2c48b1000> triggered tf.function retracing. Tracing is expensive and the excessive number of tracings could be due to (1) creating @tf.function repeatedly in a loop, (2) passing tensors with different shapes, (3) passing Python objects instead of tensors. For (1), please define your @tf.function outside of the loop. For (2), @tf.function has reduce_retracing=True option that can avoid unnecessary retracing. For (3), please refer to https://www.tensorflow.org/guide/function#controlling_retracing and https://www.tensorflow.org/api_docs/python/tf/function for  more details.\n"
     ]
    },
    {
     "name": "stdout",
     "output_type": "stream",
     "text": [
      "\u001b[1m1/1\u001b[0m \u001b[32m━━━━━━━━━━━━━━━━━━━━\u001b[0m\u001b[37m\u001b[0m \u001b[1m0s\u001b[0m 351ms/step\n",
      "Tagged Sentence: [('६१', 'cd'), ('वर्षीय', 'jj'), ('पियरे', 'nnp'), ('भिन्केन', 'nnp'), ('नोभेम्बर', 'nnp'), ('२९', 'nnp'), ('बाट', 'pop'), ('सल्लाहकार', 'nn'), ('को', 'pko'), ('रूप', 'nn'), ('मा', 'pop'), ('सञ्चालक', 'nn'), ('समिति', 'nn'), ('मा', 'pop'), ('आउनुहुनेछ', 'jj'), ('।', 'yf')]\n"
     ]
    }
   ],
   "source": [
    "def tagger_lstm_true(sentence):\n",
    "    # Convert the sentence into a sequence of integers (use the same tokenizer used during training)\n",
    "    seq = word_tokenizer.texts_to_sequences([sentence])\n",
    "\n",
    "    # Adjust padding length to the maximum length used during training\n",
    "    max_len = 100  # Make sure this is the same as during training\n",
    "    padded_seq = pad_sequences(seq, maxlen=max_len, padding='post')\n",
    "\n",
    "    # Predict the POS tags using the trained LSTM model\n",
    "    pred_tags = lstm_model.predict(padded_seq)[0]  # Get predictions for the sequence\n",
    "\n",
    "    # Get the index of the highest probability for each word (argmax)\n",
    "    pred_tags = pred_tags.argmax(axis=-1)\n",
    "\n",
    "    # Convert indices to actual tags using the tag tokenizer\n",
    "    tags = [tag_tokenizer.index_word[i] for i in pred_tags if i != 0]  # Skip padding tokens (index 0)\n",
    "\n",
    "    # Ensure sentence and tags align in length\n",
    "    return list(zip(sentence, tags[:len(sentence)]))  # Sentence should be words, not indices\n",
    "\n",
    "# Example sentence to predict POS tags\n",
    "sentence = '६१ वर्षीय पियरे भिन्केन नोभेम्बर २९ बाट सल्लाहकार को रूप मा सञ्चालक समिति मा आउनुहुनेछ ।'\n",
    "\n",
    "# Tokenize the sentence (split into words)\n",
    "sentence_split = sentence.split()  # Split the sentence into words\n",
    "\n",
    "# Fit the word tokenizer on the training data (X), if you haven't already done this\n",
    "word_tokenizer = Tokenizer()\n",
    "word_tokenizer.fit_on_texts(X)  # Fit on the training data\n",
    "\n",
    "# Tokenize the sentence (original words) using the same tokenizer\n",
    "tokens = word_tokenizer.texts_to_sequences([sentence_split])\n",
    "\n",
    "# Get the tagged sentence (prediction)\n",
    "tagged_sentence = tagger_lstm_true(sentence_split)\n",
    "print(\"Tagged Sentence:\", tagged_sentence)"
   ]
  }
 ],
 "metadata": {
  "accelerator": "TPU",
  "colab": {
   "gpuType": "V28",
   "provenance": []
  },
  "kernelspec": {
   "display_name": "Python 3 (ipykernel)",
   "language": "python",
   "name": "python3"
  },
  "language_info": {
   "codemirror_mode": {
    "name": "ipython",
    "version": 3
   },
   "file_extension": ".py",
   "mimetype": "text/x-python",
   "name": "python",
   "nbconvert_exporter": "python",
   "pygments_lexer": "ipython3",
   "version": "3.10.14"
  }
 },
 "nbformat": 4,
 "nbformat_minor": 5
}
