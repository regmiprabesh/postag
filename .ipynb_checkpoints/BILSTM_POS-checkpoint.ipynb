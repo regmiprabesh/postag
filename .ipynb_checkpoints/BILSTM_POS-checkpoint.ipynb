{
 "cells": [
  {
   "cell_type": "code",
   "execution_count": null,
   "id": "52b9f1fd-8d09-4799-ae49-9cc8502452ef",
   "metadata": {
    "id": "52b9f1fd-8d09-4799-ae49-9cc8502452ef"
   },
   "outputs": [],
   "source": [
    "# Import necessary libraries\n",
    "import re\n",
    "import numpy as np\n",
    "import tensorflow as tf\n",
    "from sklearn.model_selection import train_test_split\n",
    "from tensorflow.keras.preprocessing.text import Tokenizer\n",
    "from tensorflow.keras.utils import to_categorical\n",
    "from tensorflow.keras.models import Sequential\n",
    "from tensorflow.keras.layers import Embedding, Dense, TimeDistributed, Dropout, Bidirectional, LSTM\n",
    "import matplotlib.pyplot as plt\n",
    "import seaborn as sns\n",
    "from keras.utils import pad_sequences\n",
    "from gensim.models import Word2Vec\n"
   ]
  },
  {
   "cell_type": "code",
   "execution_count": null,
   "id": "1L9SGbiNBKIQ",
   "metadata": {
    "colab": {
     "base_uri": "https://localhost:8080/"
    },
    "id": "1L9SGbiNBKIQ",
    "outputId": "f633b2dd-a942-4197-baf3-348288514ed6"
   },
   "outputs": [
    {
     "name": "stdout",
     "output_type": "stream",
     "text": [
      "Mounted at /content/drive\n"
     ]
    }
   ],
   "source": [
    "from google.colab import drive\n",
    "drive.mount('/content/drive')"
   ]
  },
  {
   "cell_type": "code",
   "execution_count": null,
   "id": "JSr5BOq8DYfI",
   "metadata": {
    "id": "JSr5BOq8DYfI"
   },
   "outputs": [],
   "source": [
    "def parse_corpus(file_path):\n",
    "    \"\"\"Parse a single corpus file and return a list of word-tag tuples.\"\"\"\n",
    "    corpus = []\n",
    "    with open(file_path) as file:\n",
    "        for line in file:\n",
    "            # Remove trailing newline and unnecessary spaces\n",
    "            line = line.strip().replace(\" \", \"\")\n",
    "            words = re.split(r\"<.{2,4}>\", line)\n",
    "            tags = re.findall(r\"<.{2,4}>\", line)\n",
    "            # Pair words with their tags and clean up spaces\n",
    "            corpus.append([(word.strip(), tag[1:-1]) for word, tag in zip(words, tags)])\n",
    "    return corpus"
   ]
  },
  {
   "cell_type": "code",
   "execution_count": null,
   "id": "4UNn7OcMbpbG",
   "metadata": {
    "id": "4UNn7OcMbpbG"
   },
   "outputs": [],
   "source": [
    "def load_corpus(last=False, test=2, all=False):\n",
    "    \"\"\"Load and parse corpus files based on the given flags.\"\"\"\n",
    "    corpus = []\n",
    "    file_paths = [\n",
    "        \"drive/MyDrive/Embeddings/Corpus/00ne_pos.txt\",\n",
    "        \"drive/MyDrive/Embeddings/Corpus/01ne_pos.txt\",\n",
    "        \"drive/MyDrive/Embeddings/Corpus/02ne_pos.txt\"\n",
    "    ]\n",
    "\n",
    "    # Determine which files to load based on flags\n",
    "    if all:\n",
    "        selected_files = file_paths\n",
    "    else:\n",
    "        selected_files = [\n",
    "            file_paths[0] if (last and test == 0) or (not last and test != 0) else None,\n",
    "            file_paths[1] if (last and test == 2) or (not last and test != 2) else None,\n",
    "            file_paths[2] if (last and test == 1) or (not last and test != 1) else None,\n",
    "        ]\n",
    "        # Filter out None values\n",
    "        selected_files = [path for path in selected_files if path]\n",
    "\n",
    "    # Parse the selected files\n",
    "    for file_path in selected_files:\n",
    "        corpus.extend(parse_corpus(file_path))\n",
    "\n",
    "    return corpus"
   ]
  },
  {
   "cell_type": "code",
   "execution_count": null,
   "id": "8o4KI1o0DYVv",
   "metadata": {
    "colab": {
     "base_uri": "https://localhost:8080/"
    },
    "id": "8o4KI1o0DYVv",
    "outputId": "d964e6cc-a644-4ea3-e9b3-9f9e72cad3a3"
   },
   "outputs": [
    {
     "data": {
      "text/plain": [
       "[[('६१', 'CD'),\n",
       "  ('वर्षीय', 'JJ'),\n",
       "  ('पियरे', 'NNP'),\n",
       "  ('भिन्केन', 'NNP'),\n",
       "  ('नोभेम्बर', 'NNP'),\n",
       "  ('२९', 'CD'),\n",
       "  ('बाट', 'POP'),\n",
       "  ('सल्लाहकार', 'NN'),\n",
       "  ('को', 'PKO'),\n",
       "  ('रूप', 'NN'),\n",
       "  ('मा', 'POP'),\n",
       "  ('सञ्चालक', 'NN'),\n",
       "  ('समिति', 'NN'),\n",
       "  ('मा', 'POP'),\n",
       "  ('आउनुहुनेछ', 'VBX'),\n",
       "  ('।', 'YF')],\n",
       " [('श्री', 'NN'),\n",
       "  ('भिन्केन', 'NNP'),\n",
       "  ('डच', 'NNP'),\n",
       "  ('प्रकाशन', 'NN'),\n",
       "  ('समूह', 'NN'),\n",
       "  ('एल्सेभियर', 'NNP'),\n",
       "  ('एन.भी.', 'FB'),\n",
       "  ('को', 'PKO'),\n",
       "  ('अध्यक्ष', 'NN'),\n",
       "  ('हुनुहुन्छ', 'VBF'),\n",
       "  ('।', 'YF')]]"
      ]
     },
     "execution_count": 7,
     "metadata": {},
     "output_type": "execute_result"
    }
   ],
   "source": [
    "tagged_sentences = load_corpus(all=True)\n",
    "tagged_sentences[:2]"
   ]
  },
  {
   "cell_type": "markdown",
   "id": "NML3ZwBk6Lo0",
   "metadata": {
    "id": "NML3ZwBk6Lo0"
   },
   "source": [
    "# Divide data in words (X) and tags (Y)\n",
    "Since this is a many-to-many problem each data point will be a different sentence of the corpora. Each data point will have multiple words in the input sequence. This is what we will refer to as X.\n",
    "Each word will have its corresponding tag in output sequence. This is what we refer to as Y.\n",
    "\n",
    "Sample Dataset:\n",
    "\n",
    "| X                                   | Y                              |\n",
    "|-------------------------------------|--------------------------------|\n",
    "| श्री विन्केन एल्सेभियरका अध्यक्ष हुन्।         | NOUN NOUN NOUN NOUN VERB PUNCT |\n",
    "| हामीसँग कुनै उपयोगी जानकारी छैन।        |PRON ADP DET ADJ NOUN VERB PUNCT|\n",
    "\n",
    "\n"
   ]
  },
  {
   "cell_type": "code",
   "execution_count": null,
   "id": "UJMfLqWV1Ccg",
   "metadata": {
    "id": "UJMfLqWV1Ccg"
   },
   "outputs": [],
   "source": [
    "X = []\n",
    "Y= []\n",
    "for sentence in tagged_sentences:\n",
    "    X_sentence = []\n",
    "    Y_sentence = []\n",
    "    for entity in sentence:\n",
    "        X_sentence.append(entity[0])\n",
    "        Y_sentence.append(entity[1])\n",
    "    X.append(X_sentence)\n",
    "    Y.append(Y_sentence)"
   ]
  },
  {
   "cell_type": "code",
   "execution_count": null,
   "id": "ZDDoTBCF1Xje",
   "metadata": {
    "colab": {
     "base_uri": "https://localhost:8080/"
    },
    "id": "ZDDoTBCF1Xje",
    "outputId": "e94397b7-4cc0-4721-8fa8-1a1b71b05733"
   },
   "outputs": [
    {
     "data": {
      "text/plain": [
       "[['६१',\n",
       "  'वर्षीय',\n",
       "  'पियरे',\n",
       "  'भिन्केन',\n",
       "  'नोभेम्बर',\n",
       "  '२९',\n",
       "  'बाट',\n",
       "  'सल्लाहकार',\n",
       "  'को',\n",
       "  'रूप',\n",
       "  'मा',\n",
       "  'सञ्चालक',\n",
       "  'समिति',\n",
       "  'मा',\n",
       "  'आउनुहुनेछ',\n",
       "  '।'],\n",
       " ['श्री',\n",
       "  'भिन्केन',\n",
       "  'डच',\n",
       "  'प्रकाशन',\n",
       "  'समूह',\n",
       "  'एल्सेभियर',\n",
       "  'एन.भी.',\n",
       "  'को',\n",
       "  'अध्यक्ष',\n",
       "  'हुनुहुन्छ',\n",
       "  '।']]"
      ]
     },
     "execution_count": 9,
     "metadata": {},
     "output_type": "execute_result"
    }
   ],
   "source": [
    "X[:2]"
   ]
  },
  {
   "cell_type": "code",
   "execution_count": null,
   "id": "C_hdJ0D91CVr",
   "metadata": {
    "id": "C_hdJ0D91CVr"
   },
   "outputs": [],
   "source": [
    "num_words = len(set([word for sentence in X for word in sentence]))\n",
    "num_tags = len(set([word for sentence in Y for word in sentence]))"
   ]
  },
  {
   "cell_type": "code",
   "execution_count": null,
   "id": "X3hVWJUx1CMz",
   "metadata": {
    "colab": {
     "base_uri": "https://localhost:8080/"
    },
    "id": "X3hVWJUx1CMz",
    "outputId": "fb88acd1-a219-410c-e25d-b159e65da9de"
   },
   "outputs": [
    {
     "name": "stdout",
     "output_type": "stream",
     "text": [
      "Tagged sentences:4291\n",
      "Vocabulary Size:12645\n",
      "Unique POS tags:40\n"
     ]
    }
   ],
   "source": [
    "print(\"Tagged sentences:{}\".format(len(X)))\n",
    "print(\"Vocabulary Size:{}\".format(num_words))\n",
    "print(\"Unique POS tags:{}\".format(num_tags))"
   ]
  },
  {
   "cell_type": "code",
   "execution_count": null,
   "id": "ft31nF723o2V",
   "metadata": {
    "colab": {
     "base_uri": "https://localhost:8080/"
    },
    "id": "ft31nF723o2V",
    "outputId": "e6da89f9-3e91-44c8-b986-6aba29a8cb16"
   },
   "outputs": [
    {
     "name": "stdout",
     "output_type": "stream",
     "text": [
      "Unique POS tags:\n",
      "{'OD', 'RBO', 'PP', 'PPR', 'NNp', 'YF', 'JJD', 'CL', 'DM', 'FB', 'QW', 'VBI', 'DUM', 'VBO', 'PP$', 'VBNE', 'CC', 'YM', 'VBX', 'CD', 'UNW', 'NN', 'HRU', 'SYM', 'ALPH', 'PKO', 'PLAI', 'JJ', 'NNP', 'VBKO', 'YQ', 'JJM', 'POP', 'CS', 'PLE', 'VBF', 'RP', 'YB', 'RBM', 'FW'}\n"
     ]
    }
   ],
   "source": [
    "# Extract all unique POS tags\n",
    "pos_tags = set(tag for sentence in Y for tag in sentence)\n",
    "\n",
    "# Print the list of unique POS tags\n",
    "print(\"Unique POS tags:\")\n",
    "print(pos_tags)"
   ]
  },
  {
   "cell_type": "code",
   "execution_count": null,
   "id": "TiR_Cddu2sA4",
   "metadata": {
    "colab": {
     "base_uri": "https://localhost:8080/"
    },
    "id": "TiR_Cddu2sA4",
    "outputId": "a71410e0-0562-4905-89af-86f0ebbdd707"
   },
   "outputs": [
    {
     "name": "stdout",
     "output_type": "stream",
     "text": [
      "sample X: ['श्री', 'भिन्केन', 'डच', 'प्रकाशन', 'समूह', 'एल्सेभियर', 'एन.भी.', 'को', 'अध्यक्ष', 'हुनुहुन्छ', '।'] \n",
      "\n",
      "sample Y: ['NN', 'NNP', 'NNP', 'NN', 'NN', 'NNP', 'FB', 'PKO', 'NN', 'VBF', 'YF'] \n",
      "\n"
     ]
    }
   ],
   "source": [
    "\n",
    "print('sample X:', X[1], '\\n')\n",
    "print('sample Y:', Y[1], '\\n')"
   ]
  },
  {
   "cell_type": "code",
   "execution_count": null,
   "id": "zylQ2V8F2rzK",
   "metadata": {
    "colab": {
     "base_uri": "https://localhost:8080/"
    },
    "id": "zylQ2V8F2rzK",
    "outputId": "8445897c-b016-41e6-9336-12994581b4b7"
   },
   "outputs": [
    {
     "name": "stdout",
     "output_type": "stream",
     "text": [
      "Length of first input sentence:16\n",
      "Length of first output sentence:16\n"
     ]
    }
   ],
   "source": [
    "print(\"Length of first input sentence:{}\".format(len(X[0])))\n",
    "print(\"Length of first output sentence:{}\".format(len(Y[0])))"
   ]
  },
  {
   "cell_type": "markdown",
   "id": "LBIgB1-78Mto",
   "metadata": {
    "id": "LBIgB1-78Mto"
   },
   "source": [
    "# Vectorize X and Y\n",
    "\n",
    "**Encode X and Y to integer values**\n",
    "\n",
    "We'll use the the Tokenizer() function from Keras library to encode text sequence to integer sequence"
   ]
  },
  {
   "cell_type": "code",
   "execution_count": null,
   "id": "zPNJnXQr2rQ6",
   "metadata": {
    "id": "zPNJnXQr2rQ6"
   },
   "outputs": [],
   "source": [
    "# Encode X\n",
    "# Instantiate tokenizer\n",
    "word_tokenizer = Tokenizer()\n",
    "# Fit the tokenizer on data\n",
    "word_tokenizer.fit_on_texts(X)\n",
    "# Use the tokenizer to encode input sequences\n",
    "X_encoded = word_tokenizer.texts_to_sequences(X)"
   ]
  },
  {
   "cell_type": "code",
   "execution_count": null,
   "id": "e_gkG8Rl3Rto",
   "metadata": {
    "id": "e_gkG8Rl3Rto"
   },
   "outputs": [],
   "source": [
    "# Encode Y\n",
    "tag_tokenizer = Tokenizer()\n",
    "tag_tokenizer.fit_on_texts(Y)\n",
    "Y_encoded = tag_tokenizer.texts_to_sequences(Y)"
   ]
  },
  {
   "cell_type": "code",
   "execution_count": null,
   "id": "6xKoiXsy3feQ",
   "metadata": {
    "colab": {
     "base_uri": "https://localhost:8080/"
    },
    "id": "6xKoiXsy3feQ",
    "outputId": "5f6f4ab0-5f94-40ff-d19b-cdaebaa5fda2"
   },
   "outputs": [
    {
     "name": "stdout",
     "output_type": "stream",
     "text": [
      "** Raw data point ** \n",
      " ---------------------------------------------------------------------------------------------------- \n",
      "\n",
      "X : ['६१', 'वर्षीय', 'पियरे', 'भिन्केन', 'नोभेम्बर', '२९', 'बाट', 'सल्लाहकार', 'को', 'रूप', 'मा', 'सञ्चालक', 'समिति', 'मा', 'आउनुहुनेछ', '।'] \n",
      "\n",
      "Y : ['CD', 'JJ', 'NNP', 'NNP', 'NNP', 'CD', 'POP', 'NN', 'PKO', 'NN', 'POP', 'NN', 'NN', 'POP', 'VBX', 'YF'] \n",
      "\n",
      "** Encoded data point ** \n",
      " ---------------------------------------------------------------------------------------------------- \n",
      "\n",
      "X : [22, 3834, 2989, 451, 191, 5642, 2470, 1, 142, 658, 2] \n",
      "\n",
      "Y : [1, 3, 3, 1, 1, 3, 29, 5, 1, 9, 6] \n",
      "\n"
     ]
    }
   ],
   "source": [
    "# Look at first encoded data point\n",
    "print (\"** Raw data point **\" , \"\\n\", \"-\"*100, \"\\n\")\n",
    "print ('X :', X[0], '\\n')\n",
    "print ('Y :', Y[0], '\\n')\n",
    "print (\"** Encoded data point **\" , \"\\n\", \"-\"*100, \"\\n\")\n",
    "print ('X :', X_encoded[1], '\\n')\n",
    "print ('Y :', Y_encoded[1], '\\n')"
   ]
  },
  {
   "cell_type": "code",
   "execution_count": null,
   "id": "46BpNfsV4Mjh",
   "metadata": {
    "colab": {
     "base_uri": "https://localhost:8080/"
    },
    "id": "46BpNfsV4Mjh",
    "outputId": "659b3615-e128-4a6c-ccb3-c83714b5aaa9"
   },
   "outputs": [
    {
     "name": "stdout",
     "output_type": "stream",
     "text": [
      "0 sentences have different input-output length.\n"
     ]
    }
   ],
   "source": [
    "# Make sure that each sequence of input and outpur is same length\n",
    "different_length = [1 if len(input) != len(output) else 0 for input, output in zip(X_encoded, Y_encoded)]\n",
    "print(\"{} sentences have different input-output length.\".format(sum(different_length)))"
   ]
  },
  {
   "cell_type": "markdown",
   "id": "bGAZza_u9hDG",
   "metadata": {
    "id": "bGAZza_u9hDG"
   },
   "source": [
    "# Pad Sequences\n",
    "The next step after encoding the data is to define the sequence lengths. As of now, the sentences present in the data are of various lengths. We need to either pad short sentences or truncate long sentences to a fixed length. This fixed length,however, is a hyperparameter.\n",
    "Our model will learn the zero to zero mapping while training. So we don't need to worry about the padded zeroes. Please note that zero is not reserved for any word or tag, it's only reserved for padding."
   ]
  },
  {
   "cell_type": "code",
   "execution_count": null,
   "id": "HhhxkwPO4MUR",
   "metadata": {
    "colab": {
     "base_uri": "https://localhost:8080/"
    },
    "id": "HhhxkwPO4MUR",
    "outputId": "17b4b12d-0556-4827-c8bc-70658adb1a32"
   },
   "outputs": [
    {
     "name": "stdout",
     "output_type": "stream",
     "text": [
      "Length of longest sentence:259\n"
     ]
    }
   ],
   "source": [
    "# Check length of longest sentence\n",
    "lengths = [len(seq) for seq in X]\n",
    "print(\"Length of longest sentence:{}\".format(max(lengths)))"
   ]
  },
  {
   "cell_type": "code",
   "execution_count": null,
   "id": "ohWUiiow4qjL",
   "metadata": {
    "colab": {
     "base_uri": "https://localhost:8080/",
     "height": 432
    },
    "id": "ohWUiiow4qjL",
    "outputId": "4928b418-d3b0-4ae0-e6aa-88f7621eb705"
   },
   "outputs": [
    {
     "data": {
      "image/png": "[encoded data removed]",
      "text/plain": [
       "<Figure size 640x480 with 1 Axes>"
      ]
     },
     "metadata": {},
     "output_type": "display_data"
    }
   ],
   "source": [
    "sns.boxplot(lengths)\n",
    "plt.show()"
   ]
  },
  {
   "cell_type": "code",
   "execution_count": null,
   "id": "RMzuMXHs4qY0",
   "metadata": {
    "id": "RMzuMXHs4qY0"
   },
   "outputs": [],
   "source": [
    "# Pad each sequence to MAX_SEO_LENGTH using KERAS pad_sequences() function.\n",
    "# Sentences longer than MAX_SEQ_LENGTH are truncated.\n",
    "# Sentences shorter than MAX_SEQ_LENGTH are padded with zeroes.\n",
    "# Truncation and padding can either be 'pre' or 'post'.\n",
    "# For padding we are using 'pre' padding type, that is, add zeroes on the left side.\n",
    "# For truncation, we are using 'post', that is, truncate a sentence from right side.\n",
    "\n",
    "MAX_SEQ_LENGTH = 100\n",
    "\n",
    "X_padded = pad_sequences(X_encoded, maxlen=MAX_SEQ_LENGTH, padding=\"pre\", truncating=\"post\")\n",
    "Y_padded = pad_sequences(Y_encoded, maxlen=MAX_SEQ_LENGTH, padding=\"pre\", truncating=\"post\")"
   ]
  },
  {
   "cell_type": "code",
   "execution_count": null,
   "id": "2COiSIEc4qRD",
   "metadata": {
    "colab": {
     "base_uri": "https://localhost:8080/"
    },
    "id": "2COiSIEc4qRD",
    "outputId": "bfaf436e-c1a2-46cb-ea89-0e97ea0ea358"
   },
   "outputs": [
    {
     "name": "stdout",
     "output_type": "stream",
     "text": [
      "[   0    0    0    0    0    0    0    0    0    0    0    0    0    0\n",
      "    0    0    0    0    0    0    0    0    0    0    0    0    0    0\n",
      "    0    0    0    0    0    0    0    0    0    0    0    0    0    0\n",
      "    0    0    0    0    0    0    0    0    0    0    0    0    0    0\n",
      "    0    0    0    0    0    0    0    0    0    0    0    0    0    0\n",
      "    0    0    0    0    0    0    0    0    0    0    0    0    0    0\n",
      " 2136  362 5640 3834  440 1881   16 1294    1   23    3  384  253    3\n",
      " 5641    2] \n",
      "\n",
      "\n",
      "\n",
      "[ 0  0  0  0  0  0  0  0  0  0  0  0  0  0  0  0  0  0  0  0  0  0  0  0\n",
      "  0  0  0  0  0  0  0  0  0  0  0  0  0  0  0  0  0  0  0  0  0  0  0  0\n",
      "  0  0  0  0  0  0  0  0  0  0  0  0  0  0  0  0  0  0  0  0  0  0  0  0\n",
      "  0  0  0  0  0  0  0  0  0  0  0  0  7  2  3  3  3  7  4  1  5  1  4  1\n",
      "  1  4 12  6]\n"
     ]
    }
   ],
   "source": [
    "# Print the first sequence\n",
    "print(X_padded[0], \"\\n\"*3)\n",
    "print(Y_padded[0])"
   ]
  },
  {
   "cell_type": "markdown",
   "id": "zuHo08k5ABPX",
   "metadata": {
    "id": "zuHo08k5ABPX"
   },
   "source": [
    "# Word embeddings\n",
    "Currently, each word and each tag is encoded as an integer.We'll use a more sophisticated technique to represent the input words (X) using what's known as word embeddings.\n",
    "However, to represent each tag in Y, we'll simply use one-hot encoding scheme since there are  40 tags in the dataset and the LSTM will have no problems in learning its own representation of these tags.\n",
    "To use word embeddings, you can go for either of the following models:\n",
    "1. word2vec model: https://github.com/nowalab/nepali-word-embeddings/tree/master/word2vec/\n",
    "2. GloVe model: https://github.com/nowalab/nepali-word-embeddings/tree/master/GloVe\n",
    "\n",
    "\n",
    "We're using the word2vec model for no particular reason. Both of these are very efficient in representing words.\n"
   ]
  },
  {
   "cell_type": "markdown",
   "id": "dksJS6wcAcSw",
   "metadata": {
    "id": "dksJS6wcAcSw"
   },
   "source": [
    "# Use word embeddings for input sequences (X)"
   ]
  },
  {
   "cell_type": "code",
   "execution_count": null,
   "id": "MR105FOD6E0K",
   "metadata": {
    "id": "MR105FOD6E0K"
   },
   "outputs": [],
   "source": [
    "path = \"drive/MyDrive/Embeddings/Word2Vec/processed.word2vec\"\n",
    "\n",
    "# Load word2vec using the following function present in the gensim library\n",
    "word2vec = Word2Vec.load(path)\n"
   ]
  },
  {
   "cell_type": "code",
   "execution_count": null,
   "id": "F_G6Z0CI6ny_",
   "metadata": {
    "colab": {
     "base_uri": "https://localhost:8080/"
    },
    "id": "F_G6Z0CI6ny_",
    "outputId": "af1aa96a-22c1-4c84-a291-251713d0bb78"
   },
   "outputs": [
    {
     "name": "stdout",
     "output_type": "stream",
     "text": [
      "[('राजाको', 0.6468404531478882), ('राजाले', 0.6298891305923462), ('राजालाई', 0.5801336765289307), ('महेन्द्रले', 0.546328604221344), ('राजाका', 0.5440725684165955), ('फिलिपकी', 0.52140212059021), ('रणउद्दीम', 0.5178545117378235), ('राजाकी', 0.5098111629486084), ('महारानी', 0.5070008039474487), ('मानदेवकी', 0.5051305294036865)]\n"
     ]
    }
   ],
   "source": [
    "# word2vec effectiveness\n",
    "result = word2vec.wv.most_similar(positive=[\"राजा\", \"महिला\"], negative=[\"पुरुष\"])\n",
    "print(result)\n"
   ]
  },
  {
   "cell_type": "code",
   "execution_count": null,
   "id": "B_lh-Ihg6EtL",
   "metadata": {
    "id": "B_lh-Ihg6EtL"
   },
   "outputs": [],
   "source": [
    "# Assign word vectors from word2vec model\n",
    "EMBEDDING_SIZE = 300\n",
    "VOCABULARY_SIZE = len(word_tokenizer.word_index) + 1\n",
    "\n",
    "# Create and empty embedding matrix\n",
    "embedding_weights = np.zeros((VOCABULARY_SIZE, EMBEDDING_SIZE))\n",
    "\n",
    "# Create a word to index dictionary mapping\n",
    "word2id = word_tokenizer.word_index\n",
    "\n",
    "#Copy vectors from word2vec model to the words present in corpus\n",
    "for word, index in word2id.items():\n",
    "    try:\n",
    "        embedding_weights[index, :] = word2vec.wv[word]  # Access embeddings via `wv`\n",
    "    except KeyError:\n",
    "        pass  # Handle out-of-vocabulary words\n"
   ]
  },
  {
   "cell_type": "code",
   "execution_count": null,
   "id": "f2H0jvVaC7UP",
   "metadata": {
    "colab": {
     "base_uri": "https://localhost:8080/"
    },
    "id": "f2H0jvVaC7UP",
    "outputId": "aab2981a-66bf-400e-9348-636055e5ab67"
   },
   "outputs": [
    {
     "name": "stdout",
     "output_type": "stream",
     "text": [
      "Embeddings shape: (12646, 300)\n"
     ]
    }
   ],
   "source": [
    "# Check the embedding dimension\n",
    "print(\"Embeddings shape: {}\".format(embedding_weights.shape))\n"
   ]
  },
  {
   "cell_type": "code",
   "execution_count": null,
   "id": "akfCDDtu6Dzz",
   "metadata": {
    "colab": {
     "base_uri": "https://localhost:8080/"
    },
    "id": "akfCDDtu6Dzz",
    "outputId": "42d42be1-f72c-4b93-d3a6-de94df765ae2"
   },
   "outputs": [
    {
     "data": {
      "text/plain": [
       "array([ 0.04083355,  0.23593064,  0.28475472,  0.11503232,  0.25943446,\n",
       "       -0.23135823, -0.10437825,  0.26695234,  0.08003192, -0.30883306,\n",
       "        0.01614969,  0.02189537, -0.48055565, -0.23360649, -0.44477177,\n",
       "       -0.1432004 ,  0.25189006, -0.28482932, -0.26014411, -0.25446996,\n",
       "       -0.40869224,  0.08365408, -0.15663801,  0.31087741,  0.29278758,\n",
       "        0.08653798,  0.3248117 ,  0.2907663 , -0.30399865, -0.08439567,\n",
       "       -0.20988937,  0.05578588,  0.11625833,  0.13775074, -0.23746043,\n",
       "        0.3023811 ,  0.22585902, -0.26003921,  0.08068053, -0.16115111,\n",
       "       -0.22514744, -0.26441222,  0.09793395,  0.00335018, -0.16286768,\n",
       "       -0.30327427,  0.33259848, -0.15772724,  0.19406173,  0.13061109,\n",
       "       -0.20779192, -0.46336558,  0.09737888,  0.12060964, -0.25046861,\n",
       "        0.48520747,  0.06264313,  0.11159532, -0.11655127,  0.44595695,\n",
       "       -0.21576834,  0.02705098,  0.06379355, -0.0562217 , -0.08947816,\n",
       "       -0.11207896, -0.33487532,  0.09557183,  0.11710393, -0.07280324,\n",
       "        0.03692582, -0.08099079,  0.0130723 ,  0.00690884,  0.0868534 ,\n",
       "        0.41579983, -0.17366908,  0.33023444, -0.08914772,  0.31633896,\n",
       "       -0.06494559, -0.12205491,  0.37228721, -0.11377079,  0.15197068,\n",
       "       -0.11235715, -0.2142916 ,  0.02731318, -0.12911198, -0.11961904,\n",
       "       -0.39775094,  0.13927631, -0.34104016,  0.30418155,  0.26821566,\n",
       "        0.54440993,  0.01195197,  0.06705981,  0.22117619, -0.07883915,\n",
       "        0.01220231,  0.14428762, -0.0978852 , -0.10408629,  0.01286558,\n",
       "       -0.50195646,  0.08771574,  0.43338746,  0.00334586, -0.01633652,\n",
       "       -0.3346436 ,  0.28532445,  0.35912809,  0.12095211, -0.01726634,\n",
       "       -0.18858983, -0.19427395,  0.19953389, -0.25425297,  0.25887546,\n",
       "        0.46147877,  0.19457448,  0.19034822, -0.28795889, -0.19836219,\n",
       "        0.34705696, -0.49275541, -0.19701812, -0.35539347,  0.00214312,\n",
       "       -0.08941706,  0.19165432, -0.23794235,  0.28979799,  0.12706465,\n",
       "       -0.22483678,  0.06462661, -0.30270627, -0.1931393 , -0.09630799,\n",
       "        0.52120006,  0.36397722, -0.10294819,  0.03164322, -0.17282134,\n",
       "       -0.1096928 , -0.16870731, -0.15828747,  0.23521735, -0.05995287,\n",
       "        0.31704414, -0.15842588, -0.12107079, -0.17374808, -0.05552637,\n",
       "        0.1361585 ,  0.43207198,  0.15397622,  0.34754318, -0.28341994,\n",
       "        0.26365685, -0.29950765,  0.06913021,  0.62363571, -0.17064631,\n",
       "       -0.32488996, -0.15547514,  0.1486927 , -0.08461174, -0.23832458,\n",
       "       -0.09480523,  0.45830479,  0.08961363, -0.18228865, -0.07480527,\n",
       "        0.38136372, -0.31120595,  0.10390271,  0.1879964 ,  0.03081075,\n",
       "       -0.10037772, -0.29690748, -0.08488568,  0.39512715,  0.1887359 ,\n",
       "       -0.24469431,  0.15179183,  0.1891963 , -0.41445485,  0.23765555,\n",
       "        0.05002457, -0.41998363,  0.14950252, -0.14678924,  0.04025609,\n",
       "        0.05835041,  0.19010313, -0.02265937, -0.07345024, -0.16668068,\n",
       "       -0.15009522, -0.00369241,  0.07668165,  0.09653094,  0.04290529,\n",
       "       -0.01173181,  0.32872227,  0.04531617, -0.17265573, -0.42053896,\n",
       "       -0.10470992, -0.22515763, -0.26976594, -0.25519451, -0.08640907,\n",
       "        0.19065042,  0.22339848,  0.26826054, -0.19449334,  0.21197788,\n",
       "       -0.22215593,  0.1980356 , -0.14984933,  0.23691188,  0.27753067,\n",
       "       -0.13990138, -0.14768787,  0.09502774,  0.32613081,  0.41468453,\n",
       "        0.27327025,  0.31385633,  0.01731134, -0.1066338 ,  0.39132422,\n",
       "       -0.39930096, -0.44686624,  0.17285033,  0.09132279,  0.2495437 ,\n",
       "        0.02620319, -0.22603914,  0.03131127,  0.13562661,  0.07980692,\n",
       "        0.02175069,  0.08097925, -0.58501834, -0.35090804, -0.09972164,\n",
       "        0.1985243 , -0.1569811 , -0.39562327, -0.20471786,  0.18722744,\n",
       "        0.25448987,  0.08955514,  0.08707561,  0.24560602,  0.16291642,\n",
       "        0.0988964 , -0.00840572,  0.09178458,  0.04931234, -0.35822433,\n",
       "       -0.09111586,  0.52388239, -0.25097117, -0.00171786,  0.14851707,\n",
       "       -0.13455915,  0.15731606,  0.01922195, -0.11376997, -0.30867893,\n",
       "        0.35400528, -0.01767627, -0.12550129,  0.15501493, -0.04720961,\n",
       "        0.01353984, -0.10592374,  0.02157156,  0.02478332, -0.25193605,\n",
       "       -0.19171654, -0.37118405, -0.01717861, -0.33314422, -0.44964013,\n",
       "       -0.17851189,  0.11485735, -0.052808  , -0.08409806, -0.05502502,\n",
       "        0.02844608, -0.0907155 , -0.4096221 , -0.10316331,  0.31853101])"
      ]
     },
     "execution_count": 28,
     "metadata": {},
     "output_type": "execute_result"
    }
   ],
   "source": [
    "# Let's look at the embedding of a word\n",
    "embedding_weights[word_tokenizer.word_index['कठोर']]"
   ]
  },
  {
   "cell_type": "markdown",
   "id": "qgLU1EKjDCyk",
   "metadata": {
    "id": "qgLU1EKjDCyk"
   },
   "source": [
    "# Use one-hot encoding for output sequences(Y_padded)"
   ]
  },
  {
   "cell_type": "code",
   "execution_count": null,
   "id": "8lmWlcfWBI1L",
   "metadata": {
    "id": "8lmWlcfWBI1L"
   },
   "outputs": [],
   "source": [
    "# Using Keras to_categorical function to one-hot encode Y_padding\n",
    "Y_padded = tf.keras.utils.to_categorical(Y_padded)"
   ]
  },
  {
   "cell_type": "code",
   "execution_count": null,
   "id": "wgr9uN6-BIxP",
   "metadata": {
    "colab": {
     "base_uri": "https://localhost:8080/"
    },
    "id": "wgr9uN6-BIxP",
    "outputId": "b4cbac83-ca55-4ad6-b887-cc1a0a04484b"
   },
   "outputs": [
    {
     "name": "stdout",
     "output_type": "stream",
     "text": [
      "(4291, 100, 40)\n"
     ]
    }
   ],
   "source": [
    "#print Y of the first output sequence\n",
    "print(Y_padded.shape)"
   ]
  },
  {
   "cell_type": "code",
   "execution_count": null,
   "id": "pXPbzxVRDRjJ",
   "metadata": {
    "colab": {
     "base_uri": "https://localhost:8080/"
    },
    "id": "pXPbzxVRDRjJ",
    "outputId": "10f1c449-3282-48f2-f58c-3348f19743b0"
   },
   "outputs": [
    {
     "data": {
      "text/plain": [
       "array([[[1., 0., 0., ..., 0., 0., 0.],\n",
       "        [1., 0., 0., ..., 0., 0., 0.],\n",
       "        [1., 0., 0., ..., 0., 0., 0.],\n",
       "        ...,\n",
       "        [0., 0., 0., ..., 0., 0., 0.],\n",
       "        [0., 0., 0., ..., 0., 0., 0.],\n",
       "        [0., 0., 0., ..., 0., 0., 0.]],\n",
       "\n",
       "       [[1., 0., 0., ..., 0., 0., 0.],\n",
       "        [1., 0., 0., ..., 0., 0., 0.],\n",
       "        [1., 0., 0., ..., 0., 0., 0.],\n",
       "        ...,\n",
       "        [0., 1., 0., ..., 0., 0., 0.],\n",
       "        [0., 0., 0., ..., 0., 0., 0.],\n",
       "        [0., 0., 0., ..., 0., 0., 0.]],\n",
       "\n",
       "       [[1., 0., 0., ..., 0., 0., 0.],\n",
       "        [1., 0., 0., ..., 0., 0., 0.],\n",
       "        [1., 0., 0., ..., 0., 0., 0.],\n",
       "        ...,\n",
       "        [0., 0., 0., ..., 0., 0., 0.],\n",
       "        [0., 0., 0., ..., 0., 0., 0.],\n",
       "        [0., 0., 0., ..., 0., 0., 0.]],\n",
       "\n",
       "       ...,\n",
       "\n",
       "       [[1., 0., 0., ..., 0., 0., 0.],\n",
       "        [1., 0., 0., ..., 0., 0., 0.],\n",
       "        [1., 0., 0., ..., 0., 0., 0.],\n",
       "        ...,\n",
       "        [0., 0., 1., ..., 0., 0., 0.],\n",
       "        [0., 0., 0., ..., 0., 0., 0.],\n",
       "        [0., 0., 0., ..., 0., 0., 0.]],\n",
       "\n",
       "       [[1., 0., 0., ..., 0., 0., 0.],\n",
       "        [1., 0., 0., ..., 0., 0., 0.],\n",
       "        [1., 0., 0., ..., 0., 0., 0.],\n",
       "        ...,\n",
       "        [0., 0., 1., ..., 0., 0., 0.],\n",
       "        [0., 0., 0., ..., 0., 0., 0.],\n",
       "        [0., 0., 0., ..., 0., 0., 0.]],\n",
       "\n",
       "       [[1., 0., 0., ..., 0., 0., 0.],\n",
       "        [1., 0., 0., ..., 0., 0., 0.],\n",
       "        [1., 0., 0., ..., 0., 0., 0.],\n",
       "        ...,\n",
       "        [0., 1., 0., ..., 0., 0., 0.],\n",
       "        [0., 0., 0., ..., 0., 0., 0.],\n",
       "        [0., 0., 0., ..., 0., 0., 0.]]])"
      ]
     },
     "execution_count": 31,
     "metadata": {},
     "output_type": "execute_result"
    }
   ],
   "source": [
    "Y_padded"
   ]
  },
  {
   "cell_type": "code",
   "execution_count": null,
   "id": "q1Eo9bTlDRgZ",
   "metadata": {
    "colab": {
     "base_uri": "https://localhost:8080/"
    },
    "id": "q1Eo9bTlDRgZ",
    "outputId": "328cfcf6-a39f-440a-cfe3-e61d68ad76c9"
   },
   "outputs": [
    {
     "data": {
      "text/plain": [
       "array([[   0,    0,    0, ...,    3, 5641,    2],\n",
       "       [   0,    0,    0, ...,  142,  658,    2],\n",
       "       [   0,    0,    0, ...,   46,   30,    2],\n",
       "       ...,\n",
       "       [   0,    0,    0, ...,  202,   30,    2],\n",
       "       [   0,    0,    0, ...,  548,   10,    2],\n",
       "       [   0,    0,    0, ...,  117,  115,    2]], dtype=int32)"
      ]
     },
     "execution_count": 32,
     "metadata": {},
     "output_type": "execute_result"
    }
   ],
   "source": [
    "X_padded"
   ]
  },
  {
   "cell_type": "markdown",
   "id": "tEd5koFoDab8",
   "metadata": {
    "id": "tEd5koFoDab8"
   },
   "source": [
    "# Split data in training, validation and testing sets"
   ]
  },
  {
   "cell_type": "code",
   "execution_count": null,
   "id": "Ywv-bWd6DRX8",
   "metadata": {
    "id": "Ywv-bWd6DRX8"
   },
   "outputs": [],
   "source": [
    "# Split data in training, validation and testing sets\n",
    "TEST_SIZE = 0.20\n",
    "X_train, X_test, Y_train, Y_test = train_test_split(X_padded, Y_padded, test_size=TEST_SIZE, random_state=42)"
   ]
  },
  {
   "cell_type": "code",
   "execution_count": null,
   "id": "5THQSoVtFsMy",
   "metadata": {
    "id": "5THQSoVtFsMy"
   },
   "outputs": [],
   "source": [
    "# Split training data into training and validation sets\n",
    "VALID_SIZE = 0.20\n",
    "X_train, X_validation, Y_train, Y_validation = train_test_split(X_train, Y_train, test_size=VALID_SIZE, random_state=42)"
   ]
  },
  {
   "cell_type": "code",
   "execution_count": null,
   "id": "NNSrt0nyDRLb",
   "metadata": {
    "colab": {
     "base_uri": "https://localhost:8080/"
    },
    "id": "NNSrt0nyDRLb",
    "outputId": "1ff087b1-260b-4a47-c38a-6deedfcd3d6b"
   },
   "outputs": [
    {
     "name": "stdout",
     "output_type": "stream",
     "text": [
      "TRAINING DATA\n",
      "Shape of input sequences :  (2745, 100)\n",
      "Shape of output sequences :  (2745, 100, 40)\n",
      "--------------------------------------------------\n",
      "TESTING DATA\n",
      "Shape of input sequences :  (859, 100)\n",
      "Shape of output sequences :  (859, 100, 40)\n",
      "--------------------------------------------------\n",
      "VALIDATION DATA\n",
      "Shape of input sequences :  (687, 100)\n",
      "Shape of output sequences :  (687, 100, 40)\n"
     ]
    }
   ],
   "source": [
    "\n",
    "# Print the number of samples in each set\n",
    "print(\"TRAINING DATA\")\n",
    "print(\"Shape of input sequences : \", X_train.shape)\n",
    "print(\"Shape of output sequences : \", Y_train.shape)\n",
    "print(\"-\"*50)\n",
    "print(\"TESTING DATA\")\n",
    "print(\"Shape of input sequences : \", X_test.shape)\n",
    "print(\"Shape of output sequences : \", Y_test.shape)\n",
    "print(\"-\"*50)\n",
    "print(\"VALIDATION DATA\")\n",
    "print(\"Shape of input sequences : \", X_validation.shape)\n",
    "print(\"Shape of output sequences : \", Y_validation.shape)"
   ]
  },
  {
   "cell_type": "markdown",
   "id": "df825956-c046-40e2-bbd3-84b3dfcb72e5",
   "metadata": {},
   "source": [
    "### BiLSTM Model Architecture:\n",
    "\n",
    "1. **Embedding Layer**:\n",
    "   - Converts input tokens into dense vector representations.\n",
    "   - **Key Parameters**:  \n",
    "     - `input_dim=VOCABULARY_SIZE`: Vocabulary size.  \n",
    "     - `output_dim=EMBEDDING_SIZE`: Dimension of embedding vectors.  \n",
    "     - `input_length=MAX_SEQ_LENGTH`: Input sequence length.  \n",
    "     - `trainable=True`: Allows embeddings to be updated during training.  \n",
    "   - **Output Shape**: `(batch_size, MAX_SEQ_LENGTH, EMBEDDING_SIZE)`.\n",
    "\n",
    "2. **Bidirectional LSTM Layer**:\n",
    "   - Processes sequences in both forward and backward directions using 64 hidden units.  \n",
    "   - **Key Parameters**:  \n",
    "     - `units=64`: Number of LSTM cells in each direction.  \n",
    "     - `return_sequences=True`: Outputs hidden states for all time steps.  \n",
    "   - **Output Shape**: `(batch_size, MAX_SEQ_LENGTH, 128)` (64 units × 2 directions).\n",
    "\n",
    "3. **TimeDistributed Dense Layer**:\n",
    "   - Applies a dense layer to each time step for class probabilities.  \n",
    "   - **Key Parameters**:  \n",
    "     - `NUM_CLASSES`: Number of output classes.  \n",
    "     - `activation=\"softmax\"`: Converts outputs into probabilities.  \n",
    "   - **Output Shape**: `(batch_size, MAX_SEQ_LENGTH, NUM_CLASSES)`.\n",
    "\n",
    "This architecture captures temporal dependencies using a bidirectional LSTM layer and outputs a class distribution for each time step.\n"
   ]
  },
  {
   "cell_type": "markdown",
   "id": "T9DjOldQFCH4",
   "metadata": {
    "id": "T9DjOldQFCH4"
   },
   "source": [
    "## Bare embeddings\n",
    "First let's try running a BILSTM. For this BILSTM we won't use the pre-trained word embeddings. We'll use randomly inititalised embeddings."
   ]
  },
  {
   "cell_type": "code",
   "execution_count": null,
   "id": "KVrxXWuFBIuJ",
   "metadata": {
    "id": "KVrxXWuFBIuJ"
   },
   "outputs": [],
   "source": [
    "# Total number of classes\n",
    "NUM_CLASSES = Y_padded.shape[2]"
   ]
  },
  {
   "cell_type": "code",
   "execution_count": null,
   "id": "i7Ef8GZ2GVCS",
   "metadata": {
    "colab": {
     "base_uri": "https://localhost:8080/"
    },
    "id": "i7Ef8GZ2GVCS",
    "outputId": "745a6343-c73a-49b8-f7d6-0bf7a32b91d1"
   },
   "outputs": [
    {
     "data": {
      "text/plain": [
       "40"
      ]
     },
     "execution_count": 37,
     "metadata": {},
     "output_type": "execute_result"
    }
   ],
   "source": [
    "NUM_CLASSES"
   ]
  },
  {
   "cell_type": "code",
   "execution_count": null,
   "id": "5fh_YFAXIjs6",
   "metadata": {
    "colab": {
     "base_uri": "https://localhost:8080/"
    },
    "id": "5fh_YFAXIjs6",
    "outputId": "d7ab8c7c-4e37-49bc-b391-baf1d38c8c6d"
   },
   "outputs": [
    {
     "name": "stderr",
     "output_type": "stream",
     "text": [
      "/usr/local/lib/python3.10/dist-packages/keras/src/layers/core/embedding.py:90: UserWarning: Argument `input_length` is deprecated. Just remove it.\n",
      "  warnings.warn(\n"
     ]
    }
   ],
   "source": [
    "# Create architecture\n",
    "bilstm_model = Sequential()\n",
    "\n",
    "# Create embedding layer - usually\n",
    "bilstm_model.add(Embedding(input_dim=VOCABULARY_SIZE,            # Vocabulary Size\n",
    "                        output_dim=EMBEDDING_SIZE,            # Length of vector\n",
    "                        input_length=MAX_SEQ_LENGTH,          # Length of input sequence\n",
    "                        trainable = True                      # True - Update the embeddings\n",
    "                        ))\n",
    "\n",
    "# Add an BILSTM layer\n",
    "bilstm_model.add(Bidirectional(LSTM(units=64, return_sequences=True)))\n",
    "\n",
    "# Add time distributed (output at each sequence) layer\n",
    "bilstm_model.add(TimeDistributed(Dense(NUM_CLASSES, activation=\"softmax\")))"
   ]
  },
  {
   "cell_type": "markdown",
   "id": "z55crmjdWB1a",
   "metadata": {
    "id": "z55crmjdWB1a"
   },
   "source": [
    "# Compile Model"
   ]
  },
  {
   "cell_type": "code",
   "execution_count": null,
   "id": "5wy9H0ByJPfs",
   "metadata": {
    "id": "5wy9H0ByJPfs"
   },
   "outputs": [],
   "source": [
    "bilstm_model.compile(loss = 'categorical_crossentropy',optimizer = 'adam', metrics = ['accuracy'])"
   ]
  },
  {
   "cell_type": "code",
   "execution_count": null,
   "id": "RRs4HWhZJPYx",
   "metadata": {
    "colab": {
     "base_uri": "https://localhost:8080/",
     "height": 253
    },
    "id": "RRs4HWhZJPYx",
    "outputId": "4f91c5fd-cc67-4e20-eebd-81197bb1a15e"
   },
   "outputs": [
    {
     "data": {
      "text/html": [
       "<pre style=\"white-space:pre;overflow-x:auto;line-height:normal;font-family:Menlo,'DejaVu Sans Mono',consolas,'Courier New',monospace\"><span style=\"font-weight: bold\">Model: \"sequential\"</span>\n",
       "</pre>\n"
      ],
      "text/plain": [
       "\u001b[1mModel: \"sequential\"\u001b[0m\n"
      ]
     },
     "metadata": {},
     "output_type": "display_data"
    },
    {
     "data": {
      "text/html": [
       "<pre style=\"white-space:pre;overflow-x:auto;line-height:normal;font-family:Menlo,'DejaVu Sans Mono',consolas,'Courier New',monospace\">┏━━━━━━━━━━━━━━━━━━━━━━━━━━━━━━━━━━━━━━┳━━━━━━━━━━━━━━━━━━━━━━━━━━━━━┳━━━━━━━━━━━━━━━━━┓\n",
       "┃<span style=\"font-weight: bold\"> Layer (type)                         </span>┃<span style=\"font-weight: bold\"> Output Shape                </span>┃<span style=\"font-weight: bold\">         Param # </span>┃\n",
       "┡━━━━━━━━━━━━━━━━━━━━━━━━━━━━━━━━━━━━━━╇━━━━━━━━━━━━━━━━━━━━━━━━━━━━━╇━━━━━━━━━━━━━━━━━┩\n",
       "│ embedding (<span style=\"color: #0087ff; text-decoration-color: #0087ff\">Embedding</span>)                │ ?                           │     <span style=\"color: #00af00; text-decoration-color: #00af00\">0</span> (unbuilt) │\n",
       "├──────────────────────────────────────┼─────────────────────────────┼─────────────────┤\n",
       "│ bidirectional (<span style=\"color: #0087ff; text-decoration-color: #0087ff\">Bidirectional</span>)        │ ?                           │     <span style=\"color: #00af00; text-decoration-color: #00af00\">0</span> (unbuilt) │\n",
       "├──────────────────────────────────────┼─────────────────────────────┼─────────────────┤\n",
       "│ time_distributed (<span style=\"color: #0087ff; text-decoration-color: #0087ff\">TimeDistributed</span>)   │ ?                           │     <span style=\"color: #00af00; text-decoration-color: #00af00\">0</span> (unbuilt) │\n",
       "└──────────────────────────────────────┴─────────────────────────────┴─────────────────┘\n",
       "</pre>\n"
      ],
      "text/plain": [
       "┏━━━━━━━━━━━━━━━━━━━━━━━━━━━━━━━━━━━━━━┳━━━━━━━━━━━━━━━━━━━━━━━━━━━━━┳━━━━━━━━━━━━━━━━━┓\n",
       "┃\u001b[1m \u001b[0m\u001b[1mLayer (type)                        \u001b[0m\u001b[1m \u001b[0m┃\u001b[1m \u001b[0m\u001b[1mOutput Shape               \u001b[0m\u001b[1m \u001b[0m┃\u001b[1m \u001b[0m\u001b[1m        Param #\u001b[0m\u001b[1m \u001b[0m┃\n",
       "┡━━━━━━━━━━━━━━━━━━━━━━━━━━━━━━━━━━━━━━╇━━━━━━━━━━━━━━━━━━━━━━━━━━━━━╇━━━━━━━━━━━━━━━━━┩\n",
       "│ embedding (\u001b[38;5;33mEmbedding\u001b[0m)                │ ?                           │     \u001b[38;5;34m0\u001b[0m (unbuilt) │\n",
       "├──────────────────────────────────────┼─────────────────────────────┼─────────────────┤\n",
       "│ bidirectional (\u001b[38;5;33mBidirectional\u001b[0m)        │ ?                           │     \u001b[38;5;34m0\u001b[0m (unbuilt) │\n",
       "├──────────────────────────────────────┼─────────────────────────────┼─────────────────┤\n",
       "│ time_distributed (\u001b[38;5;33mTimeDistributed\u001b[0m)   │ ?                           │     \u001b[38;5;34m0\u001b[0m (unbuilt) │\n",
       "└──────────────────────────────────────┴─────────────────────────────┴─────────────────┘\n"
      ]
     },
     "metadata": {},
     "output_type": "display_data"
    },
    {
     "data": {
      "text/html": [
       "<pre style=\"white-space:pre;overflow-x:auto;line-height:normal;font-family:Menlo,'DejaVu Sans Mono',consolas,'Courier New',monospace\"><span style=\"font-weight: bold\"> Total params: </span><span style=\"color: #00af00; text-decoration-color: #00af00\">0</span> (0.00 B)\n",
       "</pre>\n"
      ],
      "text/plain": [
       "\u001b[1m Total params: \u001b[0m\u001b[38;5;34m0\u001b[0m (0.00 B)\n"
      ]
     },
     "metadata": {},
     "output_type": "display_data"
    },
    {
     "data": {
      "text/html": [
       "<pre style=\"white-space:pre;overflow-x:auto;line-height:normal;font-family:Menlo,'DejaVu Sans Mono',consolas,'Courier New',monospace\"><span style=\"font-weight: bold\"> Trainable params: </span><span style=\"color: #00af00; text-decoration-color: #00af00\">0</span> (0.00 B)\n",
       "</pre>\n"
      ],
      "text/plain": [
       "\u001b[1m Trainable params: \u001b[0m\u001b[38;5;34m0\u001b[0m (0.00 B)\n"
      ]
     },
     "metadata": {},
     "output_type": "display_data"
    },
    {
     "data": {
      "text/html": [
       "<pre style=\"white-space:pre;overflow-x:auto;line-height:normal;font-family:Menlo,'DejaVu Sans Mono',consolas,'Courier New',monospace\"><span style=\"font-weight: bold\"> Non-trainable params: </span><span style=\"color: #00af00; text-decoration-color: #00af00\">0</span> (0.00 B)\n",
       "</pre>\n"
      ],
      "text/plain": [
       "\u001b[1m Non-trainable params: \u001b[0m\u001b[38;5;34m0\u001b[0m (0.00 B)\n"
      ]
     },
     "metadata": {},
     "output_type": "display_data"
    }
   ],
   "source": [
    "# Check the summary of the model\n",
    "bilstm_model.summary()"
   ]
  },
  {
   "cell_type": "markdown",
   "id": "7mUA57aSWVVM",
   "metadata": {
    "id": "7mUA57aSWVVM"
   },
   "source": [
    "# Fit model"
   ]
  },
  {
   "cell_type": "code",
   "execution_count": null,
   "id": "DqY4NdZwJPTA",
   "metadata": {
    "colab": {
     "base_uri": "https://localhost:8080/"
    },
    "id": "DqY4NdZwJPTA",
    "outputId": "5aa8ac38-3986-474d-95b9-1e693f0c0233",
    "scrolled": true
   },
   "outputs": [
    {
     "name": "stdout",
     "output_type": "stream",
     "text": [
      "Epoch 1/10\n",
      "\u001b[1m22/22\u001b[0m \u001b[32m━━━━━━━━━━━━━━━━━━━━\u001b[0m\u001b[37m\u001b[0m \u001b[1m39s\u001b[0m 943ms/step - accuracy: 0.6500 - loss: 1.6932 - val_accuracy: 0.8014 - val_loss: 0.8210\n",
      "Epoch 2/10\n",
      "\u001b[1m22/22\u001b[0m \u001b[32m━━━━━━━━━━━━━━━━━━━━\u001b[0m\u001b[37m\u001b[0m \u001b[1m39s\u001b[0m 851ms/step - accuracy: 0.8118 - loss: 0.7485 - val_accuracy: 0.8350 - val_loss: 0.6566\n",
      "Epoch 3/10\n",
      "\u001b[1m22/22\u001b[0m \u001b[32m━━━━━━━━━━━━━━━━━━━━\u001b[0m\u001b[37m\u001b[0m \u001b[1m21s\u001b[0m 890ms/step - accuracy: 0.8442 - loss: 0.6056 - val_accuracy: 0.8654 - val_loss: 0.5107\n",
      "Epoch 4/10\n",
      "\u001b[1m22/22\u001b[0m \u001b[32m━━━━━━━━━━━━━━━━━━━━\u001b[0m\u001b[37m\u001b[0m \u001b[1m22s\u001b[0m 928ms/step - accuracy: 0.8737 - loss: 0.4629 - val_accuracy: 0.8905 - val_loss: 0.3893\n",
      "Epoch 5/10\n",
      "\u001b[1m22/22\u001b[0m \u001b[32m━━━━━━━━━━━━━━━━━━━━\u001b[0m\u001b[37m\u001b[0m \u001b[1m39s\u001b[0m 820ms/step - accuracy: 0.9024 - loss: 0.3491 - val_accuracy: 0.9255 - val_loss: 0.2857\n",
      "Epoch 6/10\n",
      "\u001b[1m22/22\u001b[0m \u001b[32m━━━━━━━━━━━━━━━━━━━━\u001b[0m\u001b[37m\u001b[0m \u001b[1m19s\u001b[0m 797ms/step - accuracy: 0.9379 - loss: 0.2489 - val_accuracy: 0.9529 - val_loss: 0.2033\n",
      "Epoch 7/10\n",
      "\u001b[1m22/22\u001b[0m \u001b[32m━━━━━━━━━━━━━━━━━━━━\u001b[0m\u001b[37m\u001b[0m \u001b[1m21s\u001b[0m 845ms/step - accuracy: 0.9638 - loss: 0.1693 - val_accuracy: 0.9668 - val_loss: 0.1502\n",
      "Epoch 8/10\n",
      "\u001b[1m22/22\u001b[0m \u001b[32m━━━━━━━━━━━━━━━━━━━━\u001b[0m\u001b[37m\u001b[0m \u001b[1m20s\u001b[0m 921ms/step - accuracy: 0.9775 - loss: 0.1204 - val_accuracy: 0.9743 - val_loss: 0.1182\n",
      "Epoch 9/10\n",
      "\u001b[1m22/22\u001b[0m \u001b[32m━━━━━━━━━━━━━━━━━━━━\u001b[0m\u001b[37m\u001b[0m \u001b[1m19s\u001b[0m 866ms/step - accuracy: 0.9844 - loss: 0.0877 - val_accuracy: 0.9776 - val_loss: 0.0986\n",
      "Epoch 10/10\n",
      "\u001b[1m22/22\u001b[0m \u001b[32m━━━━━━━━━━━━━━━━━━━━\u001b[0m\u001b[37m\u001b[0m \u001b[1m19s\u001b[0m 851ms/step - accuracy: 0.9881 - loss: 0.0679 - val_accuracy: 0.9798 - val_loss: 0.0863\n"
     ]
    }
   ],
   "source": [
    "bilstm_training = bilstm_model.fit(X_train, Y_train, batch_size=128, epochs=10, validation_data=(X_validation, Y_validation))"
   ]
  },
  {
   "cell_type": "code",
   "execution_count": null,
   "id": "Ol-j-4yWJ0ED",
   "metadata": {
    "colab": {
     "base_uri": "https://localhost:8080/",
     "height": 491
    },
    "id": "Ol-j-4yWJ0ED",
    "outputId": "45f83e2d-713e-4ea1-b66e-1a6c6e874d5f"
   },
   "outputs": [
    {
     "data": {
      "text/plain": [
       "<matplotlib.legend.Legend at 0x7e555bb57520>"
      ]
     },
     "execution_count": 42,
     "metadata": {},
     "output_type": "execute_result"
    },
    {
     "data": {
      "image/png": "[encoded data removed]",
      "text/plain": [
       "<Figure size 640x480 with 1 Axes>"
      ]
     },
     "metadata": {},
     "output_type": "display_data"
    }
   ],
   "source": [
    "# Visualize training accuracy history\n",
    "\n",
    "plt.plot(bilstm_training.history['accuracy'], label='Training Accuracy')\n",
    "plt.plot(bilstm_training.history['val_accuracy'], label='Validation Accuracy')\n",
    "plt.xlabel('Epochs')\n",
    "plt.ylabel('Accuracy')\n",
    "plt.legend()"
   ]
  },
  {
   "cell_type": "code",
   "execution_count": null,
   "id": "TOf9wGGnJPKs",
   "metadata": {
    "colab": {
     "base_uri": "https://localhost:8080/",
     "height": 486
    },
    "id": "TOf9wGGnJPKs",
    "outputId": "53c3783e-c062-4122-ee18-1ddf85195b15"
   },
   "outputs": [
    {
     "data": {
      "text/plain": [
       "<matplotlib.legend.Legend at 0x7e5542c12d10>"
      ]
     },
     "execution_count": 43,
     "metadata": {},
     "output_type": "execute_result"
    },
    {
     "data": {
      "image/png": "[encoded data removed]",
      "text/plain": [
       "<Figure size 640x480 with 1 Axes>"
      ]
     },
     "metadata": {},
     "output_type": "display_data"
    }
   ],
   "source": [
    "# Visualize training loss history\n",
    "plt.plot(bilstm_training.history['loss'], label='Training Loss')\n",
    "plt.plot(bilstm_training.history['val_loss'], label='Validation Loss')\n",
    "plt.xlabel('Epochs')\n",
    "plt.ylabel('Loss')\n",
    "plt.legend()"
   ]
  },
  {
   "cell_type": "code",
   "execution_count": null,
   "id": "nZSe3_X9Cc7S",
   "metadata": {
    "colab": {
     "base_uri": "https://localhost:8080/"
    },
    "id": "nZSe3_X9Cc7S",
    "outputId": "0d0a07f4-8231-4aa5-a07d-320763a15c2e"
   },
   "outputs": [
    {
     "name": "stdout",
     "output_type": "stream",
     "text": [
      "\u001b[1m7/7\u001b[0m \u001b[32m━━━━━━━━━━━━━━━━━━━━\u001b[0m\u001b[37m\u001b[0m \u001b[1m1s\u001b[0m 150ms/step - accuracy: 0.9807 - loss: 0.0846\n",
      "Test Loss: 0.08569640666246414\n",
      "Test Accuracy: 0.9802212119102478\n"
     ]
    }
   ],
   "source": [
    "loss, accuracy = bilstm_model.evaluate(X_test, Y_test, batch_size=128)\n",
    "print(f\"Test Loss: {loss}\")\n",
    "print(f\"Test Accuracy: {accuracy}\")\n"
   ]
  },
  {
   "cell_type": "code",
   "execution_count": null,
   "id": "uPbRRzeZCjxa",
   "metadata": {
    "colab": {
     "base_uri": "https://localhost:8080/"
    },
    "id": "uPbRRzeZCjxa",
    "outputId": "a2665526-8e6a-4259-a9ba-48cf12b92025"
   },
   "outputs": [
    {
     "name": "stdout",
     "output_type": "stream",
     "text": [
      "\u001b[1m7/7\u001b[0m \u001b[32m━━━━━━━━━━━━━━━━━━━━\u001b[0m\u001b[37m\u001b[0m \u001b[1m4s\u001b[0m 500ms/step\n"
     ]
    }
   ],
   "source": [
    "# Get predictions\n",
    "Y_pred = bilstm_model.predict(X_test, batch_size=128)\n",
    "\n",
    "# Convert predictions and true labels to class indices\n",
    "Y_pred_classes = Y_pred.argmax(axis=-1)  # Predicted class\n",
    "Y_true_classes = Y_test.argmax(axis=-1)  # True class\n"
   ]
  },
  {
   "cell_type": "code",
   "execution_count": null,
   "id": "5ZG1U44xCnZZ",
   "metadata": {
    "colab": {
     "base_uri": "https://localhost:8080/"
    },
    "id": "5ZG1U44xCnZZ",
    "outputId": "e4cc486d-1694-4cb8-9944-058e13c8460e"
   },
   "outputs": [
    {
     "name": "stdout",
     "output_type": "stream",
     "text": [
      "              precision    recall  f1-score   support\n",
      "\n",
      "          OD       1.00      1.00      1.00     63761\n",
      "         RBO       0.87      0.97      0.91      5883\n",
      "          PP       0.87      0.86      0.87      1991\n",
      "         PPR       0.86      0.82      0.84      1625\n",
      "         NNp       0.99      0.97      0.98      1532\n",
      "          YF       0.99      1.00      0.99      1440\n",
      "         JJD       1.00      1.00      1.00       868\n",
      "          CL       0.93      0.90      0.91       860\n",
      "          DM       1.00      1.00      1.00       757\n",
      "          FB       0.91      0.93      0.92       758\n",
      "          QW       1.00      1.00      1.00       608\n",
      "         VBI       1.00      1.00      1.00       601\n",
      "         DUM       0.97      0.93      0.95       535\n",
      "         VBO       0.95      0.81      0.88       564\n",
      "         PP$       0.99      0.98      0.99       486\n",
      "        VBNE       0.95      0.96      0.95       431\n",
      "          CC       0.94      0.76      0.84       381\n",
      "          YM       0.96      0.87      0.92       341\n",
      "         VBX       1.00      0.99      1.00       383\n",
      "          CD       0.81      0.75      0.78       327\n",
      "         UNW       0.96      0.79      0.87       338\n",
      "          NN       1.00      0.99      0.99       282\n",
      "         HRU       0.98      1.00      0.99       239\n",
      "         SYM       0.84      0.70      0.77       166\n",
      "        ALPH       0.93      0.89      0.91       148\n",
      "         PKO       1.00      0.93      0.96       129\n",
      "        PLAI       1.00      0.98      0.99       107\n",
      "          JJ       1.00      0.91      0.95        90\n",
      "         NNP       1.00      0.94      0.97        70\n",
      "        VBKO       0.00      0.00      0.00        54\n",
      "          YQ       1.00      0.21      0.35        28\n",
      "         JJM       0.00      0.00      0.00        29\n",
      "         POP       0.00      0.00      0.00        32\n",
      "          CS       0.00      0.00      0.00        29\n",
      "         PLE       0.00      0.00      0.00         6\n",
      "         VBF       0.00      0.00      0.00        10\n",
      "          RP       0.00      0.00      0.00         7\n",
      "          YB       0.00      0.00      0.00         2\n",
      "         RBM       0.00      0.00      0.00         1\n",
      "          FW       0.00      0.00      0.00         1\n",
      "\n",
      "    accuracy                           0.98     85900\n",
      "   macro avg       0.72      0.67      0.69     85900\n",
      "weighted avg       0.98      0.98      0.98     85900\n",
      "\n"
     ]
    },
    {
     "name": "stderr",
     "output_type": "stream",
     "text": [
      "/usr/local/lib/python3.10/dist-packages/sklearn/metrics/_classification.py:1531: UndefinedMetricWarning: Precision is ill-defined and being set to 0.0 in labels with no predicted samples. Use `zero_division` parameter to control this behavior.\n",
      "  _warn_prf(average, modifier, f\"{metric.capitalize()} is\", len(result))\n",
      "/usr/local/lib/python3.10/dist-packages/sklearn/metrics/_classification.py:1531: UndefinedMetricWarning: Precision is ill-defined and being set to 0.0 in labels with no predicted samples. Use `zero_division` parameter to control this behavior.\n",
      "  _warn_prf(average, modifier, f\"{metric.capitalize()} is\", len(result))\n",
      "/usr/local/lib/python3.10/dist-packages/sklearn/metrics/_classification.py:1531: UndefinedMetricWarning: Precision is ill-defined and being set to 0.0 in labels with no predicted samples. Use `zero_division` parameter to control this behavior.\n",
      "  _warn_prf(average, modifier, f\"{metric.capitalize()} is\", len(result))\n"
     ]
    }
   ],
   "source": [
    "from sklearn.metrics import classification_report\n",
    "\n",
    "# Flatten the sequences for evaluation\n",
    "Y_pred_flat = Y_pred_classes.flatten()\n",
    "Y_true_flat = Y_true_classes.flatten()\n",
    "\n",
    "# Generate the classification report\n",
    "report = classification_report(Y_true_flat, Y_pred_flat, target_names=pos_tags)\n",
    "\n",
    "print(report)\n"
   ]
  },
  {
   "cell_type": "code",
   "execution_count": null,
   "id": "n1OEYBoiEeIZ",
   "metadata": {
    "colab": {
     "base_uri": "https://localhost:8080/"
    },
    "id": "n1OEYBoiEeIZ",
    "outputId": "b391f9c2-3301-4da5-dc5c-01258567e956"
   },
   "outputs": [
    {
     "name": "stdout",
     "output_type": "stream",
     "text": [
      "Overall Accuracy: 98.02%\n",
      "Overall Precision: 0.98\n",
      "Overall Recall: 0.98\n",
      "Overall F1-score: 0.98\n"
     ]
    },
    {
     "name": "stderr",
     "output_type": "stream",
     "text": [
      "/usr/local/lib/python3.10/dist-packages/sklearn/metrics/_classification.py:1531: UndefinedMetricWarning: Precision is ill-defined and being set to 0.0 in labels with no predicted samples. Use `zero_division` parameter to control this behavior.\n",
      "  _warn_prf(average, modifier, f\"{metric.capitalize()} is\", len(result))\n"
     ]
    }
   ],
   "source": [
    "import numpy as np\n",
    "from sklearn.metrics import accuracy_score, precision_score, recall_score, f1_score\n",
    "\n",
    "# Flatten the true and predicted labels\n",
    "Y_true_flat = np.argmax(Y_test, axis=-1).flatten()  # Convert one-hot to class indices\n",
    "Y_pred_flat = np.argmax(Y_pred, axis=-1).flatten()  # Convert one-hot to class indices\n",
    "\n",
    "# Compute overall metrics\n",
    "accuracy = accuracy_score(Y_true_flat, Y_pred_flat)\n",
    "precision = precision_score(Y_true_flat, Y_pred_flat, average='weighted')\n",
    "recall = recall_score(Y_true_flat, Y_pred_flat, average='weighted')\n",
    "f1 = f1_score(Y_true_flat, Y_pred_flat, average='weighted')\n",
    "\n",
    "# Display results\n",
    "print(f\"Overall Accuracy: {accuracy * 100:.2f}%\")\n",
    "print(f\"Overall Precision: {precision:.2f}\")\n",
    "print(f\"Overall Recall: {recall:.2f}\")\n",
    "print(f\"Overall F1-score: {f1:.2f}\")\n"
   ]
  },
  {
   "cell_type": "code",
   "execution_count": null,
   "id": "XEFSx03oJ3ZQ",
   "metadata": {
    "colab": {
     "base_uri": "https://localhost:8080/"
    },
    "id": "XEFSx03oJ3ZQ",
    "outputId": "f348d34a-4aea-4de0-83b6-b546e4af0030"
   },
   "outputs": [
    {
     "name": "stdout",
     "output_type": "stream",
     "text": [
      "[[2136, 362, 5640, 3834, 440, 1881, 16, 1294, 1, 23, 3, 384, 253, 3, 5641, 2]]\n",
      "\u001b[1m1/1\u001b[0m \u001b[32m━━━━━━━━━━━━━━━━━━━━\u001b[0m\u001b[37m\u001b[0m \u001b[1m0s\u001b[0m 30ms/step\n",
      "Tagged Sentence: [('६१', 'cd'), ('वर्षीय', 'jj'), ('पियरे', 'nnp'), ('भिन्केन', 'nnp'), ('नोभेम्बर', 'nnp'), ('२९', 'cd'), ('बाट', 'pop'), ('सल्लाहकार', 'nn'), ('को', 'pko'), ('रूप', 'nn'), ('मा', 'pop'), ('सञ्चालक', 'nn'), ('समिति', 'nn'), ('मा', 'pop'), ('आउनुहुनेछ', 'vbf'), ('।', 'yf')]\n"
     ]
    }
   ],
   "source": [
    "def tagger_bilstm_true(sentence):\n",
    "    # Convert the sentence into a sequence of integers (use the same tokenizer used during training)\n",
    "    seq = word_tokenizer.texts_to_sequences([sentence])\n",
    "\n",
    "    # Adjust padding length to the maximum length used during training\n",
    "    max_len = 100  # Make sure this is the same as during training\n",
    "    padded_seq = pad_sequences(seq, maxlen=max_len, padding=\"pre\", truncating=\"post\")\n",
    "\n",
    "    # Predict the POS tags using the trained RNN model\n",
    "    pred_tags = bilstm_model.predict(padded_seq)[0]  # Get predictions for the sequence\n",
    "\n",
    "    # Get the index of the highest probability for each word (argmax)\n",
    "    pred_tags = pred_tags.argmax(axis=-1)\n",
    "\n",
    "    # Convert indices to actual tags using the tag tokenizer\n",
    "    tags = [tag_tokenizer.index_word[i] for i in pred_tags if i != 0]  # Skip padding tokens (index 0)\n",
    "\n",
    "    # Ensure sentence and tags align in length\n",
    "    return list(zip(sentence, tags[:len(sentence)]))  # Sentence should be words, not indices\n",
    "\n",
    "# Example sentence to predict POS tags\n",
    "sentence = '६१ वर्षीय पियरे भिन्केन नोभेम्बर २९ बाट सल्लाहकार को रूप मा सञ्चालक समिति मा आउनुहुनेछ ।'\n",
    "\n",
    "# Tokenize the sentence (split into words)\n",
    "sentence_split = sentence.split()  # Split the sentence into words\n",
    "\n",
    "# Fit the word tokenizer on the training data (X), if you haven't already done this\n",
    "word_tokenizer = Tokenizer()\n",
    "word_tokenizer.fit_on_texts(X)  # Fit on the training data\n",
    "\n",
    "# Tokenize the sentence (original words) using the same tokenizer\n",
    "tokens = word_tokenizer.texts_to_sequences([sentence_split])\n",
    "print(tokens)\n",
    "# Get the tagged sentence (prediction)\n",
    "tagged_sentence = tagger_bilstm_true(sentence_split)\n",
    "print(\"Tagged Sentence:\", tagged_sentence)"
   ]
  },
  {
   "cell_type": "markdown",
   "id": "_M60mS8pexWL",
   "metadata": {
    "id": "_M60mS8pexWL"
   },
   "source": [
    "# Using pre-tained embedding weights"
   ]
  },
  {
   "cell_type": "code",
   "execution_count": null,
   "id": "LJL_b-vRJ3Ix",
   "metadata": {
    "colab": {
     "base_uri": "https://localhost:8080/"
    },
    "id": "LJL_b-vRJ3Ix",
    "outputId": "04682cf2-e3f4-45bc-b487-8d3a8522b3d1"
   },
   "outputs": [
    {
     "name": "stderr",
     "output_type": "stream",
     "text": [
      "/usr/local/lib/python3.10/dist-packages/keras/src/layers/core/embedding.py:90: UserWarning: Argument `input_length` is deprecated. Just remove it.\n",
      "  warnings.warn(\n"
     ]
    }
   ],
   "source": [
    "# Create architecture\n",
    "bilstm_model = Sequential()\n",
    "\n",
    "# Create embedding layer - usually\n",
    "bilstm_model.add(Embedding(input_dim=VOCABULARY_SIZE,            # Vocabulary Size\n",
    "                        output_dim=EMBEDDING_SIZE,            # Length of vector\n",
    "                        input_length=MAX_SEQ_LENGTH,          # Length of input sequence\n",
    "                        weights = [embedding_weights],        # Pre-trained embeddings matrix\n",
    "                        trainable = True                      # True - Update the embeddings\n",
    "                        ))\n",
    "\n",
    "# Add an BILSTM layer\n",
    "bilstm_model.add(Bidirectional(LSTM(units=64, return_sequences=True)))\n",
    "\n",
    "# Add time distributed (output at each sequence) layer\n",
    "bilstm_model.add(TimeDistributed(Dense(NUM_CLASSES, activation=\"softmax\")))"
   ]
  },
  {
   "cell_type": "markdown",
   "id": "IC1EyK7tfD9P",
   "metadata": {
    "id": "IC1EyK7tfD9P"
   },
   "source": [
    "## Compile Model"
   ]
  },
  {
   "cell_type": "code",
   "execution_count": null,
   "id": "KUci8T3aW3wH",
   "metadata": {
    "id": "KUci8T3aW3wH"
   },
   "outputs": [],
   "source": [
    "bilstm_model.compile(loss = 'categorical_crossentropy',optimizer = 'adam', metrics = ['accuracy'])"
   ]
  },
  {
   "cell_type": "code",
   "execution_count": null,
   "id": "cnGLZYdMfM0d",
   "metadata": {
    "colab": {
     "base_uri": "https://localhost:8080/",
     "height": 253
    },
    "id": "cnGLZYdMfM0d",
    "outputId": "20702bf6-782d-4ddf-f6fe-fdd9c3aacd67"
   },
   "outputs": [
    {
     "data": {
      "text/html": [
       "<pre style=\"white-space:pre;overflow-x:auto;line-height:normal;font-family:Menlo,'DejaVu Sans Mono',consolas,'Courier New',monospace\"><span style=\"font-weight: bold\">Model: \"sequential_1\"</span>\n",
       "</pre>\n"
      ],
      "text/plain": [
       "\u001b[1mModel: \"sequential_1\"\u001b[0m\n"
      ]
     },
     "metadata": {},
     "output_type": "display_data"
    },
    {
     "data": {
      "text/html": [
       "<pre style=\"white-space:pre;overflow-x:auto;line-height:normal;font-family:Menlo,'DejaVu Sans Mono',consolas,'Courier New',monospace\">┏━━━━━━━━━━━━━━━━━━━━━━━━━━━━━━━━━━━━━━┳━━━━━━━━━━━━━━━━━━━━━━━━━━━━━┳━━━━━━━━━━━━━━━━━┓\n",
       "┃<span style=\"font-weight: bold\"> Layer (type)                         </span>┃<span style=\"font-weight: bold\"> Output Shape                </span>┃<span style=\"font-weight: bold\">         Param # </span>┃\n",
       "┡━━━━━━━━━━━━━━━━━━━━━━━━━━━━━━━━━━━━━━╇━━━━━━━━━━━━━━━━━━━━━━━━━━━━━╇━━━━━━━━━━━━━━━━━┩\n",
       "│ embedding_1 (<span style=\"color: #0087ff; text-decoration-color: #0087ff\">Embedding</span>)              │ ?                           │       <span style=\"color: #00af00; text-decoration-color: #00af00\">3,793,800</span> │\n",
       "├──────────────────────────────────────┼─────────────────────────────┼─────────────────┤\n",
       "│ bidirectional_1 (<span style=\"color: #0087ff; text-decoration-color: #0087ff\">Bidirectional</span>)      │ ?                           │     <span style=\"color: #00af00; text-decoration-color: #00af00\">0</span> (unbuilt) │\n",
       "├──────────────────────────────────────┼─────────────────────────────┼─────────────────┤\n",
       "│ time_distributed_1 (<span style=\"color: #0087ff; text-decoration-color: #0087ff\">TimeDistributed</span>) │ ?                           │     <span style=\"color: #00af00; text-decoration-color: #00af00\">0</span> (unbuilt) │\n",
       "└──────────────────────────────────────┴─────────────────────────────┴─────────────────┘\n",
       "</pre>\n"
      ],
      "text/plain": [
       "┏━━━━━━━━━━━━━━━━━━━━━━━━━━━━━━━━━━━━━━┳━━━━━━━━━━━━━━━━━━━━━━━━━━━━━┳━━━━━━━━━━━━━━━━━┓\n",
       "┃\u001b[1m \u001b[0m\u001b[1mLayer (type)                        \u001b[0m\u001b[1m \u001b[0m┃\u001b[1m \u001b[0m\u001b[1mOutput Shape               \u001b[0m\u001b[1m \u001b[0m┃\u001b[1m \u001b[0m\u001b[1m        Param #\u001b[0m\u001b[1m \u001b[0m┃\n",
       "┡━━━━━━━━━━━━━━━━━━━━━━━━━━━━━━━━━━━━━━╇━━━━━━━━━━━━━━━━━━━━━━━━━━━━━╇━━━━━━━━━━━━━━━━━┩\n",
       "│ embedding_1 (\u001b[38;5;33mEmbedding\u001b[0m)              │ ?                           │       \u001b[38;5;34m3,793,800\u001b[0m │\n",
       "├──────────────────────────────────────┼─────────────────────────────┼─────────────────┤\n",
       "│ bidirectional_1 (\u001b[38;5;33mBidirectional\u001b[0m)      │ ?                           │     \u001b[38;5;34m0\u001b[0m (unbuilt) │\n",
       "├──────────────────────────────────────┼─────────────────────────────┼─────────────────┤\n",
       "│ time_distributed_1 (\u001b[38;5;33mTimeDistributed\u001b[0m) │ ?                           │     \u001b[38;5;34m0\u001b[0m (unbuilt) │\n",
       "└──────────────────────────────────────┴─────────────────────────────┴─────────────────┘\n"
      ]
     },
     "metadata": {},
     "output_type": "display_data"
    },
    {
     "data": {
      "text/html": [
       "<pre style=\"white-space:pre;overflow-x:auto;line-height:normal;font-family:Menlo,'DejaVu Sans Mono',consolas,'Courier New',monospace\"><span style=\"font-weight: bold\"> Total params: </span><span style=\"color: #00af00; text-decoration-color: #00af00\">3,793,800</span> (14.47 MB)\n",
       "</pre>\n"
      ],
      "text/plain": [
       "\u001b[1m Total params: \u001b[0m\u001b[38;5;34m3,793,800\u001b[0m (14.47 MB)\n"
      ]
     },
     "metadata": {},
     "output_type": "display_data"
    },
    {
     "data": {
      "text/html": [
       "<pre style=\"white-space:pre;overflow-x:auto;line-height:normal;font-family:Menlo,'DejaVu Sans Mono',consolas,'Courier New',monospace\"><span style=\"font-weight: bold\"> Trainable params: </span><span style=\"color: #00af00; text-decoration-color: #00af00\">3,793,800</span> (14.47 MB)\n",
       "</pre>\n"
      ],
      "text/plain": [
       "\u001b[1m Trainable params: \u001b[0m\u001b[38;5;34m3,793,800\u001b[0m (14.47 MB)\n"
      ]
     },
     "metadata": {},
     "output_type": "display_data"
    },
    {
     "data": {
      "text/html": [
       "<pre style=\"white-space:pre;overflow-x:auto;line-height:normal;font-family:Menlo,'DejaVu Sans Mono',consolas,'Courier New',monospace\"><span style=\"font-weight: bold\"> Non-trainable params: </span><span style=\"color: #00af00; text-decoration-color: #00af00\">0</span> (0.00 B)\n",
       "</pre>\n"
      ],
      "text/plain": [
       "\u001b[1m Non-trainable params: \u001b[0m\u001b[38;5;34m0\u001b[0m (0.00 B)\n"
      ]
     },
     "metadata": {},
     "output_type": "display_data"
    }
   ],
   "source": [
    "# Check the summary of the model\n",
    "bilstm_model.summary()"
   ]
  },
  {
   "cell_type": "markdown",
   "id": "rfazENy9fUPg",
   "metadata": {
    "id": "rfazENy9fUPg"
   },
   "source": [
    "## Fit Model"
   ]
  },
  {
   "cell_type": "code",
   "execution_count": null,
   "id": "e5q30Vo7W3tX",
   "metadata": {
    "colab": {
     "base_uri": "https://localhost:8080/"
    },
    "id": "e5q30Vo7W3tX",
    "outputId": "10780278-d51a-4a5c-8bad-8387d31dfe55"
   },
   "outputs": [
    {
     "name": "stdout",
     "output_type": "stream",
     "text": [
      "Epoch 1/10\n",
      "\u001b[1m22/22\u001b[0m \u001b[32m━━━━━━━━━━━━━━━━━━━━\u001b[0m\u001b[37m\u001b[0m \u001b[1m38s\u001b[0m 1s/step - accuracy: 0.6730 - loss: 1.6761 - val_accuracy: 0.8054 - val_loss: 0.7319\n",
      "Epoch 2/10\n",
      "\u001b[1m22/22\u001b[0m \u001b[32m━━━━━━━━━━━━━━━━━━━━\u001b[0m\u001b[37m\u001b[0m \u001b[1m19s\u001b[0m 893ms/step - accuracy: 0.8264 - loss: 0.6583 - val_accuracy: 0.8534 - val_loss: 0.5511\n",
      "Epoch 3/10\n",
      "\u001b[1m22/22\u001b[0m \u001b[32m━━━━━━━━━━━━━━━━━━━━\u001b[0m\u001b[37m\u001b[0m \u001b[1m17s\u001b[0m 774ms/step - accuracy: 0.8673 - loss: 0.4878 - val_accuracy: 0.8936 - val_loss: 0.3974\n",
      "Epoch 4/10\n",
      "\u001b[1m22/22\u001b[0m \u001b[32m━━━━━━━━━━━━━━━━━━━━\u001b[0m\u001b[37m\u001b[0m \u001b[1m21s\u001b[0m 788ms/step - accuracy: 0.9091 - loss: 0.3489 - val_accuracy: 0.9361 - val_loss: 0.2786\n",
      "Epoch 5/10\n",
      "\u001b[1m22/22\u001b[0m \u001b[32m━━━━━━━━━━━━━━━━━━━━\u001b[0m\u001b[37m\u001b[0m \u001b[1m24s\u001b[0m 912ms/step - accuracy: 0.9485 - loss: 0.2384 - val_accuracy: 0.9585 - val_loss: 0.1944\n",
      "Epoch 6/10\n",
      "\u001b[1m22/22\u001b[0m \u001b[32m━━━━━━━━━━━━━━━━━━━━\u001b[0m\u001b[37m\u001b[0m \u001b[1m17s\u001b[0m 788ms/step - accuracy: 0.9664 - loss: 0.1659 - val_accuracy: 0.9703 - val_loss: 0.1420\n",
      "Epoch 7/10\n",
      "\u001b[1m22/22\u001b[0m \u001b[32m━━━━━━━━━━━━━━━━━━━━\u001b[0m\u001b[37m\u001b[0m \u001b[1m20s\u001b[0m 788ms/step - accuracy: 0.9780 - loss: 0.1182 - val_accuracy: 0.9776 - val_loss: 0.1104\n",
      "Epoch 8/10\n",
      "\u001b[1m22/22\u001b[0m \u001b[32m━━━━━━━━━━━━━━━━━━━━\u001b[0m\u001b[37m\u001b[0m \u001b[1m21s\u001b[0m 811ms/step - accuracy: 0.9845 - loss: 0.0882 - val_accuracy: 0.9812 - val_loss: 0.0906\n",
      "Epoch 9/10\n",
      "\u001b[1m22/22\u001b[0m \u001b[32m━━━━━━━━━━━━━━━━━━━━\u001b[0m\u001b[37m\u001b[0m \u001b[1m20s\u001b[0m 793ms/step - accuracy: 0.9883 - loss: 0.0687 - val_accuracy: 0.9829 - val_loss: 0.0778\n",
      "Epoch 10/10\n",
      "\u001b[1m22/22\u001b[0m \u001b[32m━━━━━━━━━━━━━━━━━━━━\u001b[0m\u001b[37m\u001b[0m \u001b[1m20s\u001b[0m 897ms/step - accuracy: 0.9905 - loss: 0.0552 - val_accuracy: 0.9843 - val_loss: 0.0695\n"
     ]
    }
   ],
   "source": [
    "bilstm_training = bilstm_model.fit(X_train, Y_train, batch_size=128, epochs=10, validation_data=(X_validation, Y_validation))"
   ]
  },
  {
   "cell_type": "code",
   "execution_count": null,
   "id": "YBxjNuCwf_AW",
   "metadata": {
    "colab": {
     "base_uri": "https://localhost:8080/",
     "height": 489
    },
    "id": "YBxjNuCwf_AW",
    "outputId": "72b750c2-1455-4f90-df1c-44a82a75cf17"
   },
   "outputs": [
    {
     "data": {
      "text/plain": [
       "<matplotlib.legend.Legend at 0x7e554e22ae90>"
      ]
     },
     "execution_count": 54,
     "metadata": {},
     "output_type": "execute_result"
    },
    {
     "data": {
      "image/png": "[encoded data removed]",
      "text/plain": [
       "<Figure size 640x480 with 1 Axes>"
      ]
     },
     "metadata": {},
     "output_type": "display_data"
    }
   ],
   "source": [
    "# Visualize training accuracy history\n",
    "\n",
    "plt.plot(bilstm_training.history['accuracy'], label='Training Accuracy')\n",
    "plt.plot(bilstm_training.history['val_accuracy'], label='Validation Accuracy')\n",
    "plt.xlabel('Epochs')\n",
    "plt.ylabel('Accuracy')\n",
    "plt.legend()"
   ]
  },
  {
   "cell_type": "code",
   "execution_count": null,
   "id": "XrY14tawf0Vl",
   "metadata": {
    "colab": {
     "base_uri": "https://localhost:8080/",
     "height": 486
    },
    "id": "XrY14tawf0Vl",
    "outputId": "c2efaf99-830a-4631-a479-ab0ee48f7b25"
   },
   "outputs": [
    {
     "data": {
      "text/plain": [
       "<matplotlib.legend.Legend at 0x7e555875a9e0>"
      ]
     },
     "execution_count": 55,
     "metadata": {},
     "output_type": "execute_result"
    },
    {
     "data": {
      "image/png": "[encoded data removed]",
      "text/plain": [
       "<Figure size 640x480 with 1 Axes>"
      ]
     },
     "metadata": {},
     "output_type": "display_data"
    }
   ],
   "source": [
    "# Visualize training loss history\n",
    "plt.plot(bilstm_training.history['loss'], label='Training Loss')\n",
    "plt.plot(bilstm_training.history['val_loss'], label='Validation Loss')\n",
    "plt.xlabel('Epochs')\n",
    "plt.ylabel('Loss')\n",
    "plt.legend()"
   ]
  },
  {
   "cell_type": "code",
   "execution_count": null,
   "id": "6IUp1-v7FFX-",
   "metadata": {
    "colab": {
     "base_uri": "https://localhost:8080/"
    },
    "id": "6IUp1-v7FFX-",
    "outputId": "d47c2f70-cd98-4be5-d6c9-9ddeb78497b4"
   },
   "outputs": [
    {
     "name": "stdout",
     "output_type": "stream",
     "text": [
      "\u001b[1m7/7\u001b[0m \u001b[32m━━━━━━━━━━━━━━━━━━━━\u001b[0m\u001b[37m\u001b[0m \u001b[1m1s\u001b[0m 149ms/step - accuracy: 0.9847 - loss: 0.0692\n",
      "Test Loss: 0.06974243372678757\n",
      "Test Accuracy: 0.9846332669258118\n"
     ]
    }
   ],
   "source": [
    "loss, accuracy = bilstm_model.evaluate(X_test, Y_test, batch_size=128)\n",
    "print(f\"Test Loss: {loss}\")\n",
    "print(f\"Test Accuracy: {accuracy}\")\n"
   ]
  },
  {
   "cell_type": "code",
   "execution_count": null,
   "id": "o4fOig2jFJ9u",
   "metadata": {
    "colab": {
     "base_uri": "https://localhost:8080/"
    },
    "id": "o4fOig2jFJ9u",
    "outputId": "fc067905-0f1b-4f63-ca20-bc5956828bcd"
   },
   "outputs": [
    {
     "name": "stdout",
     "output_type": "stream",
     "text": [
      "\u001b[1m7/7\u001b[0m \u001b[32m━━━━━━━━━━━━━━━━━━━━\u001b[0m\u001b[37m\u001b[0m \u001b[1m4s\u001b[0m 408ms/step\n"
     ]
    }
   ],
   "source": [
    "# Get predictions\n",
    "Y_pred = bilstm_model.predict(X_test, batch_size=128)\n",
    "\n",
    "# Convert predictions and true labels to class indices\n",
    "Y_pred_classes = Y_pred.argmax(axis=-1)  # Predicted class\n",
    "Y_true_classes = Y_test.argmax(axis=-1)  # True class\n"
   ]
  },
  {
   "cell_type": "code",
   "execution_count": null,
   "id": "ILXxx4wWFM8Z",
   "metadata": {
    "colab": {
     "base_uri": "https://localhost:8080/"
    },
    "id": "ILXxx4wWFM8Z",
    "outputId": "48f483bd-21a1-491f-a67d-fba428bd5be9"
   },
   "outputs": [
    {
     "name": "stdout",
     "output_type": "stream",
     "text": [
      "              precision    recall  f1-score   support\n",
      "\n",
      "          OD       1.00      1.00      1.00     63761\n",
      "         RBO       0.92      0.96      0.94      5883\n",
      "          PP       0.86      0.89      0.88      1991\n",
      "         PPR       0.88      0.91      0.90      1625\n",
      "         NNp       0.99      0.97      0.98      1532\n",
      "          YF       0.99      1.00      0.99      1440\n",
      "         JJD       1.00      1.00      1.00       868\n",
      "          CL       0.92      0.94      0.93       860\n",
      "          DM       1.00      1.00      1.00       757\n",
      "          FB       0.92      0.95      0.93       758\n",
      "          QW       1.00      1.00      1.00       608\n",
      "         VBI       1.00      1.00      1.00       601\n",
      "         DUM       0.97      0.95      0.96       535\n",
      "         VBO       0.98      0.88      0.93       564\n",
      "         PP$       0.99      0.98      0.99       486\n",
      "        VBNE       0.95      0.97      0.96       431\n",
      "          CC       0.94      0.81      0.87       381\n",
      "          YM       0.94      0.91      0.93       341\n",
      "         VBX       1.00      0.99      1.00       383\n",
      "          CD       0.83      0.77      0.80       327\n",
      "         UNW       0.98      0.86      0.92       338\n",
      "          NN       0.99      0.99      0.99       282\n",
      "         HRU       0.98      1.00      0.99       239\n",
      "         SYM       0.89      0.72      0.80       166\n",
      "        ALPH       0.90      0.93      0.91       148\n",
      "         PKO       1.00      0.94      0.97       129\n",
      "        PLAI       1.00      0.98      0.99       107\n",
      "          JJ       0.99      0.97      0.98        90\n",
      "         NNP       1.00      0.93      0.96        70\n",
      "        VBKO       0.00      0.00      0.00        54\n",
      "          YQ       1.00      0.21      0.35        28\n",
      "         JJM       0.87      0.69      0.77        29\n",
      "         POP       0.00      0.00      0.00        32\n",
      "          CS       0.00      0.00      0.00        29\n",
      "         PLE       0.00      0.00      0.00         6\n",
      "         VBF       0.00      0.00      0.00        10\n",
      "          RP       0.00      0.00      0.00         7\n",
      "          YB       0.00      0.00      0.00         2\n",
      "         RBM       0.00      0.00      0.00         1\n",
      "          FW       0.00      0.00      0.00         1\n",
      "\n",
      "    accuracy                           0.98     85900\n",
      "   macro avg       0.74      0.70      0.71     85900\n",
      "weighted avg       0.98      0.98      0.98     85900\n",
      "\n"
     ]
    },
    {
     "name": "stderr",
     "output_type": "stream",
     "text": [
      "/usr/local/lib/python3.10/dist-packages/sklearn/metrics/_classification.py:1531: UndefinedMetricWarning: Precision is ill-defined and being set to 0.0 in labels with no predicted samples. Use `zero_division` parameter to control this behavior.\n",
      "  _warn_prf(average, modifier, f\"{metric.capitalize()} is\", len(result))\n",
      "/usr/local/lib/python3.10/dist-packages/sklearn/metrics/_classification.py:1531: UndefinedMetricWarning: Precision is ill-defined and being set to 0.0 in labels with no predicted samples. Use `zero_division` parameter to control this behavior.\n",
      "  _warn_prf(average, modifier, f\"{metric.capitalize()} is\", len(result))\n",
      "/usr/local/lib/python3.10/dist-packages/sklearn/metrics/_classification.py:1531: UndefinedMetricWarning: Precision is ill-defined and being set to 0.0 in labels with no predicted samples. Use `zero_division` parameter to control this behavior.\n",
      "  _warn_prf(average, modifier, f\"{metric.capitalize()} is\", len(result))\n"
     ]
    }
   ],
   "source": [
    "from sklearn.metrics import classification_report\n",
    "\n",
    "# Flatten the sequences for evaluation\n",
    "Y_pred_flat = Y_pred_classes.flatten()\n",
    "Y_true_flat = Y_true_classes.flatten()\n",
    "\n",
    "# Generate the classification report\n",
    "report = classification_report(Y_true_flat, Y_pred_flat, target_names=pos_tags)\n",
    "\n",
    "print(report)\n"
   ]
  },
  {
   "cell_type": "code",
   "execution_count": null,
   "id": "u3DpseGKFTJS",
   "metadata": {
    "colab": {
     "base_uri": "https://localhost:8080/"
    },
    "id": "u3DpseGKFTJS",
    "outputId": "56e79e2c-3cd1-4ac7-8579-190db3d8a728"
   },
   "outputs": [
    {
     "name": "stdout",
     "output_type": "stream",
     "text": [
      "Overall Accuracy: 98.46%\n",
      "Overall Precision: 0.98\n",
      "Overall Recall: 0.98\n",
      "Overall F1-score: 0.98\n"
     ]
    },
    {
     "name": "stderr",
     "output_type": "stream",
     "text": [
      "/usr/local/lib/python3.10/dist-packages/sklearn/metrics/_classification.py:1531: UndefinedMetricWarning: Precision is ill-defined and being set to 0.0 in labels with no predicted samples. Use `zero_division` parameter to control this behavior.\n",
      "  _warn_prf(average, modifier, f\"{metric.capitalize()} is\", len(result))\n"
     ]
    }
   ],
   "source": [
    "import numpy as np\n",
    "from sklearn.metrics import accuracy_score, precision_score, recall_score, f1_score\n",
    "\n",
    "# Flatten the true and predicted labels\n",
    "Y_true_flat = np.argmax(Y_test, axis=-1).flatten()  # Convert one-hot to class indices\n",
    "Y_pred_flat = np.argmax(Y_pred, axis=-1).flatten()  # Convert one-hot to class indices\n",
    "\n",
    "# Compute overall metrics\n",
    "accuracy = accuracy_score(Y_true_flat, Y_pred_flat)\n",
    "precision = precision_score(Y_true_flat, Y_pred_flat, average='weighted')\n",
    "recall = recall_score(Y_true_flat, Y_pred_flat, average='weighted')\n",
    "f1 = f1_score(Y_true_flat, Y_pred_flat, average='weighted')\n",
    "\n",
    "# Display results\n",
    "print(f\"Overall Accuracy: {accuracy * 100:.2f}%\")\n",
    "print(f\"Overall Precision: {precision:.2f}\")\n",
    "print(f\"Overall Recall: {recall:.2f}\")\n",
    "print(f\"Overall F1-score: {f1:.2f}\")\n"
   ]
  },
  {
   "cell_type": "code",
   "execution_count": null,
   "id": "8S9MeNLjFWhu",
   "metadata": {
    "colab": {
     "base_uri": "https://localhost:8080/"
    },
    "id": "8S9MeNLjFWhu",
    "outputId": "8be0a2f8-56a2-43fc-8b79-dd3aad5aab94"
   },
   "outputs": [
    {
     "name": "stdout",
     "output_type": "stream",
     "text": [
      "[[2136, 362, 5640, 3834, 440, 1881, 16, 1294, 1, 23, 3, 384, 253, 3, 5641, 2]]\n",
      "\u001b[1m1/1\u001b[0m \u001b[32m━━━━━━━━━━━━━━━━━━━━\u001b[0m\u001b[37m\u001b[0m \u001b[1m0s\u001b[0m 33ms/step\n",
      "Tagged Sentence: [('६१', 'cd'), ('वर्षीय', 'jj'), ('पियरे', 'nnp'), ('भिन्केन', 'nnp'), ('नोभेम्बर', 'nnp'), ('२९', 'cd'), ('बाट', 'pop'), ('सल्लाहकार', 'nn'), ('को', 'pko'), ('रूप', 'nn'), ('मा', 'pop'), ('सञ्चालक', 'nn'), ('समिति', 'nn'), ('मा', 'pop'), ('आउनुहुनेछ', 'vbf'), ('।', 'yf')]\n"
     ]
    }
   ],
   "source": [
    "def tagger_bilstm_true(sentence):\n",
    "    # Convert the sentence into a sequence of integers (use the same tokenizer used during training)\n",
    "    seq = word_tokenizer.texts_to_sequences([sentence])\n",
    "\n",
    "    # Adjust padding length to the maximum length used during training\n",
    "    max_len = 100  # Make sure this is the same as during training\n",
    "    padded_seq = pad_sequences(seq, maxlen=max_len, padding=\"pre\", truncating=\"post\")\n",
    "\n",
    "    # Predict the POS tags using the trained RNN model\n",
    "    pred_tags = bilstm_model.predict(padded_seq)[0]  # Get predictions for the sequence\n",
    "\n",
    "    # Get the index of the highest probability for each word (argmax)\n",
    "    pred_tags = pred_tags.argmax(axis=-1)\n",
    "\n",
    "    # Convert indices to actual tags using the tag tokenizer\n",
    "    tags = [tag_tokenizer.index_word[i] for i in pred_tags if i != 0]  # Skip padding tokens (index 0)\n",
    "\n",
    "    # Ensure sentence and tags align in length\n",
    "    return list(zip(sentence, tags[:len(sentence)]))  # Sentence should be words, not indices\n",
    "\n",
    "# Example sentence to predict POS tags\n",
    "sentence = '६१ वर्षीय पियरे भिन्केन नोभेम्बर २९ बाट सल्लाहकार को रूप मा सञ्चालक समिति मा आउनुहुनेछ ।'\n",
    "\n",
    "# Tokenize the sentence (split into words)\n",
    "sentence_split = sentence.split()  # Split the sentence into words\n",
    "\n",
    "# Fit the word tokenizer on the training data (X), if you haven't already done this\n",
    "word_tokenizer = Tokenizer()\n",
    "word_tokenizer.fit_on_texts(X)  # Fit on the training data\n",
    "\n",
    "# Tokenize the sentence (original words) using the same tokenizer\n",
    "tokens = word_tokenizer.texts_to_sequences([sentence_split])\n",
    "print(tokens)\n",
    "# Get the tagged sentence (prediction)\n",
    "tagged_sentence = tagger_bilstm_true(sentence_split)\n",
    "print(\"Tagged Sentence:\", tagged_sentence)"
   ]
  }
 ],
 "metadata": {
  "accelerator": "TPU",
  "colab": {
   "gpuType": "V28",
   "provenance": []
  },
  "kernelspec": {
   "display_name": "Python 3 (ipykernel)",
   "language": "python",
   "name": "python3"
  },
  "language_info": {
   "codemirror_mode": {
    "name": "ipython",
    "version": 3
   },
   "file_extension": ".py",
   "mimetype": "text/x-python",
   "name": "python",
   "nbconvert_exporter": "python",
   "pygments_lexer": "ipython3",
   "version": "3.10.14"
  }
 },
 "nbformat": 4,
 "nbformat_minor": 5
}
