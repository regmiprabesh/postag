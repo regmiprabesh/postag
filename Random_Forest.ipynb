{
 "cells": [
  {
   "cell_type": "code",
   "execution_count": 1,
   "id": "e49ab2c9-4b6c-4c16-8e64-35b91e8a852d",
   "metadata": {},
   "outputs": [],
   "source": [
    "import re\n",
    "import numpy\n",
    "from sklearn.model_selection import train_test_split\n",
    "from sklearn.ensemble import RandomForestClassifier\n",
    "from sklearn.feature_extraction import DictVectorizer\n",
    "from sklearn.tree import DecisionTreeClassifier\n",
    "from sklearn.pipeline import Pipeline\n",
    "import _pickle as cPickle\n",
    "import nltk"
   ]
  },
  {
   "cell_type": "code",
   "execution_count": 2,
   "id": "5d146f53-710b-4b9c-959c-2b004600b946",
   "metadata": {},
   "outputs": [],
   "source": [
    "filename = [\n",
    "            'Dataset/Corpus/00ne_pos.txt',\n",
    "            'Dataset/Corpus/01ne_pos.txt',\n",
    "            'Dataset/Corpus/02ne_pos.txt',\n",
    "            ]\n",
    "data=[]\n",
    "for f in filename:\n",
    "    file = open(f, \"r\")\n",
    "    for line in file:\n",
    "        data.append(line)\n"
   ]
  },
  {
   "cell_type": "code",
   "execution_count": 3,
   "id": "ac6df0f9-3e8f-445a-9d7c-4426df5861a3",
   "metadata": {},
   "outputs": [],
   "source": [
    "a = [tuple(e.split())for e in data]\n"
   ]
  },
  {
   "cell_type": "code",
   "execution_count": 4,
   "id": "3eb906db-59e6-49c4-9471-4f441c10e245",
   "metadata": {},
   "outputs": [],
   "source": [
    "tagged_sentences=[]\n",
    "for i in range(len(a)):\n",
    "    d=[]\n",
    "    for e in a[i]:\n",
    "        pos = re.findall('(?<=\\<).*?(?=\\>)', e)\n",
    "        for p in pos:\n",
    "            word = (e.replace(f'<{p}>',''))\n",
    "        if len(word)>0 and len(pos)>0:\n",
    "            d.append((word,' '.join(pos)))\n",
    "    tagged_sentences.append(d)\n"
   ]
  },
  {
   "cell_type": "code",
   "execution_count": 5,
   "id": "a440afac-9143-437e-a073-5ba416433f1f",
   "metadata": {},
   "outputs": [],
   "source": [
    "def untag(tagged_sentence):\n",
    "    return [w for w, t in tagged_sentence]\n"
   ]
  },
  {
   "cell_type": "code",
   "execution_count": 6,
   "id": "aabc915a-6b3a-4d3d-929a-6a42beaa4227",
   "metadata": {},
   "outputs": [],
   "source": [
    "def features(sentence, index):\n",
    "    return {\n",
    "        'word': sentence[index],\n",
    "        'is_first': index == 0,\n",
    "        'is_last': index == len(sentence) - 1,\n",
    "        'prev_word': '' if index == 0 else sentence[index - 1],\n",
    "        'next_word': '' if index == len(sentence) - 1 else sentence[index + 1],\n",
    "    }\n"
   ]
  },
  {
   "cell_type": "code",
   "execution_count": 7,
   "id": "e10dc7a8-73c9-41c8-b5ae-4008acc60706",
   "metadata": {},
   "outputs": [],
   "source": [
    "def transform_to_dataset(tagged_sentences):\n",
    "    X, y = [], []\n",
    " \n",
    "    for tagged in tagged_sentences:\n",
    "        for index in range(len(tagged)):\n",
    "            X.append(features(untag(tagged), index))\n",
    "            y.append(tagged[index][1])\n",
    " \n",
    "    return X, y\n",
    " \n",
    "X, y = transform_to_dataset(tagged_sentences)\n"
   ]
  },
  {
   "cell_type": "code",
   "execution_count": 8,
   "id": "3f07b1db-32aa-43b8-8b18-c3845edf31cf",
   "metadata": {},
   "outputs": [],
   "source": [
    "X_train, X_test, y_train, y_test = train_test_split(X, y, test_size=0.25, random_state=42)\n"
   ]
  },
  {
   "cell_type": "code",
   "execution_count": 9,
   "id": "633f4d64-7bd9-4412-b3bf-7614de5e921a",
   "metadata": {},
   "outputs": [
    {
     "name": "stdout",
     "output_type": "stream",
     "text": [
      "Accuracy: 0.7736738174311103\n"
     ]
    }
   ],
   "source": [
    "clf = Pipeline([\n",
    "    ('vectorizer', DictVectorizer()),\n",
    "    ('classifier', RandomForestClassifier(n_estimators = 20, random_state = 43))\n",
    "    ])\n",
    " \n",
    "clf.fit(X_train,y_train)\n",
    "print(\"Accuracy:\", clf.score(X_test, y_test))\n"
   ]
  },
  {
   "cell_type": "code",
   "execution_count": 10,
   "id": "35b018a0-389e-4eb3-8b64-f599b1d655a4",
   "metadata": {},
   "outputs": [],
   "source": [
    "pickle_out = open(\"RandomForest.pickle\",\"wb\")\n",
    "cPickle.dump(clf, pickle_out)\n",
    "pickle_out.close()\n"
   ]
  },
  {
   "cell_type": "code",
   "execution_count": 11,
   "id": "20b49146-d3db-4f51-a8a4-f4b859178066",
   "metadata": {},
   "outputs": [],
   "source": [
    "pickle_out = open(\"RandomForest.pickle\",\"rb\")\n",
    "clf1=cPickle.load(pickle_out)\n",
    "pickle_out.close()\n"
   ]
  },
  {
   "cell_type": "code",
   "execution_count": 16,
   "id": "56588d7b-57ba-4a07-ac2d-13ed7a1309d7",
   "metadata": {},
   "outputs": [
    {
     "name": "stdout",
     "output_type": "stream",
     "text": [
      "Accuracy: 0.7736738174311103\n"
     ]
    }
   ],
   "source": [
    "print(\"Accuracy:\", clf1.score(X_test, y_test))\n"
   ]
  },
  {
   "cell_type": "code",
   "execution_count": 18,
   "id": "7d7440e6-1059-4d52-b525-069bfc8b851a",
   "metadata": {},
   "outputs": [
    {
     "name": "stdout",
     "output_type": "stream",
     "text": [
      "F1-Score: 0.7675818461258838\n"
     ]
    }
   ],
   "source": [
    "# Predictions\n",
    "y_pred = clf1.predict(X_test)\n",
    "# F1-Score\n",
    "f1 = f1_score(y_test, y_pred, average='weighted')  # Use 'weighted' to handle class imbalances\n",
    "print(\"F1-Score:\", f1)"
   ]
  },
  {
   "cell_type": "code",
   "execution_count": 19,
   "id": "41dd2fb5-eb94-47eb-b482-64bc677c619c",
   "metadata": {},
   "outputs": [],
   "source": [
    "def tagger(sentence):\n",
    "    tags = clf1.predict([features(sentence, index) for index in range(len(sentence))])\n",
    "    return zip(sentence, tags)\n"
   ]
  },
  {
   "cell_type": "code",
   "execution_count": 20,
   "id": "9be09406-db58-485a-85e7-eba1ba9e0c34",
   "metadata": {},
   "outputs": [],
   "source": [
    "a = tagger(nltk.word_tokenize('६१ वर्षीय पियरे भिन्केन नोभेम्बर २९ बाट सल्लाहकार को रूप मा सञ्चालक समिति मा आउनुहुनेछ ।'))\n"
   ]
  },
  {
   "cell_type": "code",
   "execution_count": 21,
   "id": "6cfbf553-7f6c-4608-a0d6-347e278ee0ca",
   "metadata": {
    "scrolled": true
   },
   "outputs": [
    {
     "name": "stdout",
     "output_type": "stream",
     "text": [
      "('६१', 'CD')\n",
      "('वर्षीय', 'JJ')\n",
      "('पियरे', 'NNP')\n",
      "('भिन्केन', 'NNP')\n",
      "('नोभेम्बर', 'NNP')\n",
      "('२९', 'CD')\n",
      "('बाट', 'POP')\n",
      "('सल्लाहकार', 'CD')\n",
      "('को', 'PKO')\n",
      "('रूप', 'CD')\n",
      "('मा', 'POP')\n",
      "('सञ्चालक', 'NN')\n",
      "('समिति', 'CD')\n",
      "('मा', 'POP')\n",
      "('आउनुहुनेछ', 'VBF')\n",
      "('।', 'YF')\n"
     ]
    }
   ],
   "source": [
    "for e in a :\n",
    "    print(e)\n"
   ]
  }
 ],
 "metadata": {
  "kernelspec": {
   "display_name": "Python 3 (ipykernel)",
   "language": "python",
   "name": "python3"
  },
  "language_info": {
   "codemirror_mode": {
    "name": "ipython",
    "version": 3
   },
   "file_extension": ".py",
   "mimetype": "text/x-python",
   "name": "python",
   "nbconvert_exporter": "python",
   "pygments_lexer": "ipython3",
   "version": "3.10.14"
  }
 },
 "nbformat": 4,
 "nbformat_minor": 5
}
